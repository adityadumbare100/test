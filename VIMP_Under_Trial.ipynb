{
 "cells": [
  {
   "cell_type": "code",
   "execution_count": 14,
   "id": "3102cabb-68ce-4fe0-a0fc-7c166ba1ce5c",
   "metadata": {},
   "outputs": [],
   "source": [
    "def Time_Series_Automation():\n",
    "        \n",
    "    ##Import Required Libraries\n",
    "    import pandas as pd\n",
    "    pd.set_option('display.expand_frame_repr', False)\n",
    "    pd.set_option('display.max_columns', 500)\n",
    "    pd.set_option('display.width', 1000)\n",
    "    import numpy as np\n",
    "    import glob\n",
    "    import shap\n",
    "    from prophet import Prophet\n",
    "    import xgboost as xgb\n",
    "    from xgboost import XGBRegressor\n",
    "    from sklearn.ensemble import RandomForestRegressor, StackingRegressor\n",
    "    from sklearn.linear_model import LinearRegression\n",
    "    from sklearn.model_selection import ParameterGrid, GridSearchCV\n",
    "    from sklearn.model_selection import train_test_split\n",
    "    from sklearn.metrics import mean_absolute_percentage_error, mean_squared_error, r2_score\n",
    "    import matplotlib.pyplot as plt\n",
    "    from plotly.subplots import make_subplots\n",
    "    import plotly.graph_objects as px\n",
    "    import plotly.graph_objects as go\n",
    "    \n",
    "    plt.style.use('fivethirtyeight')\n",
    "\n",
    "    import warnings\n",
    "    warnings.filterwarnings(\"ignore\")\n",
    "    import logging\n",
    "    logging.getLogger('cmdstanpy').setLevel(logging.WARNING)  \n",
    "    logging.getLogger('prophet').setLevel(logging.WARNING) \n",
    "    import os\n",
    "    import random\n",
    "    import tensorflow as tf\n",
    "    import warnings\n",
    "    os.environ['TF_CPP_MIN_LOG_LEVEL'] = '3'  \n",
    "    tf.get_logger().setLevel('ERROR')\n",
    "    tf.autograph.set_verbosity(0)\n",
    "    # Set random seeds for reproducibility\n",
    "    np.random.seed(42)\n",
    "    tf.random.set_seed(42)\n",
    "    random.seed(42)\n",
    "    os.environ['PYTHONHASHSEED'] = '42'\n",
    "    # For XGBoost\n",
    "    xgb.set_config(verbosity=0)\n",
    "    \n",
    "    import pyodbc\n",
    "    import optuna\n",
    "    import random\n",
    "    \n",
    "    from datetime import datetime, timedelta\n",
    "    \n",
    "    ### Data Preprocessing Functions\n",
    "    \n",
    "    class database_utils:\n",
    "        def __init__(self, server = '3.209.89.110', port=1426, database='master', user='Att_rlo_user', password=\"optiplex320$\"):\n",
    "            self.server = server\n",
    "            self.port = port\n",
    "            self.database = database\n",
    "            self.user = user\n",
    "            self.password = password\n",
    "        def db_open(self):\n",
    "            print(self.server, self.port, self.database, self.user, self.password)\n",
    "            conn = pyodbc.connect(Driver=\"{ODBC Driver 17 for SQL Server}\",\n",
    "                                Server=self.server,\n",
    "                                Database=self.database,\n",
    "                                Port=self.port,\n",
    "                                user=self.user,\n",
    "                                password=self.password)\n",
    "            cursor = conn.cursor()\n",
    "            print('done connection')\n",
    "            return cursor, conn\n",
    "    \n",
    "        #Executes a SQL query and returns the result as a DataFrame.\n",
    "    \n",
    "        def from_db(self, query):\n",
    "            #cursor, conn = db_open(server, Port, Database, user, password)\n",
    "            cursor, conn = self.db_open()\n",
    "            df = pd.read_sql_query(query, conn)\n",
    "            self.db_close(cursor, conn)\n",
    "            return df\n",
    "        def db_close(self, cursor, conn):\n",
    "            cursor.close()\n",
    "            conn.close()\n",
    "    \n",
    "    \n",
    "    \n",
    "    \n",
    "    db = database_utils()\n",
    "    \n",
    "    # Fetches purchase order data for a specific item.\n",
    "    def read_table_PO(x):\n",
    "        \n",
    "        #query = f\"SELECT FROM_ORG_CODE as Region, ITEM_NUMBER, SUM(ORDERED_QUANTITY)as Quantity ,SHIPDATE FROM  tblDATAWHSE_MINMATSHIPSTRK WHERE ITEM_NUMBER = '{x}' AND FROM_ORG_CODE = 'SW1'GROUP BY MONTH, FROM_ORG_CODE, ITEM_NUMBER ,SHIPDATE ORDER BY SHIPDATE  \"\n",
    "    #     query = f\"SELECT a1.Region,a1.ITEM_NUMBER, sum(a1.Quantity) as Quantity, a1.SHIPDATE from (SELECT DEL_REGION as Region, ITEM as ITEM_NUMBER, cast(H_CREATE as date) as SHIPDATE, SUM(D_ORD) AS 'Quantity' FROM tblFRCST_WLN_POS_DS_temp  where ITEM  = '{x}' AND DEL_REGION = 'SOUTHWEST' AND H_CLSD = 'CLOSED' AND H_CREATE >='2023-01-01' GROUP BY ITEM, H_CREATE, DEL_REGION, H_CREATE) a1 GROUP BY a1.ITEM_NUMBER, a1.Region, a1.SHIPDATE ORDER BY a1.ITEM_NUMBER, a1.SHIPDATE\"\n",
    "    #     query = f\"\"\"SELECT a1.Region,a1.ITEM_NUMBER, sum(a1.Quantity) as Quantity, a1.SHIPDATE \n",
    "    # from (SELECT DEL_REGION as Region, ITEM as ITEM_NUMBER, cast(H_CREATE as date) as SHIPDATE, SUM(D_ORD) AS 'Quantity' FROM [10.0.4.251].[Broadband_Wireline_NWMM].[dbo].[tblFRCST_WLN_POS_B2B]\n",
    "    # where ITEM  = '{x}' AND DEL_REGION IN ('MIDWEST' ,'WEST') AND H_CLSD = 'CLOSED' AND  ROUTE = 'DRCT' AND H_CREATE >='2020-01-01'  AND  RCPT_DATE IS NOT NULL\n",
    "    # GROUP BY ITEM, H_CREATE, DEL_REGION, H_CREATE) a1 \n",
    "    # GROUP BY a1.ITEM_NUMBER, a1.Region, a1.SHIPDATE \n",
    "    # ORDER BY a1.ITEM_NUMBER, a1.SHIPDATE\"\"\"\n",
    "        \n",
    "        query = f\"\"\"SELECT a1.Region,a1.ITEM_NUMBER, sum(a1.Quantity) as Quantity, a1.SHIPDATE \n",
    "    from (SELECT DEL_REGION as Region, ITEM as ITEM_NUMBER, cast(H_CREATE as date) as SHIPDATE, SUM(D_ORD) AS 'Quantity' FROM [10.0.4.251].[Broadband_Wireline_NWMM].[dbo].[tblFRCST_WLN_POS_B2B]\n",
    "    where ITEM  = '{x}' AND DEL_REGION = 'SOUTHWEST' AND H_CREATE >='2020-01-01'  AND  RCPT_DATE IS NOT NULL\n",
    "    GROUP BY ITEM, H_CREATE, DEL_REGION, H_CREATE) a1 \n",
    "    GROUP BY a1.ITEM_NUMBER, a1.Region, a1.SHIPDATE \n",
    "    ORDER BY a1.ITEM_NUMBER, a1.SHIPDATE\"\"\"\n",
    "        \n",
    "        df_all = db.from_db(query)\n",
    "        return df_all\n",
    "    \n",
    "    \n",
    "    #  Fetches sales order data for a specific item.\n",
    "    def read_table_SO(x):\n",
    "        \n",
    "    #     query = f\"\"\"SELECT SHIP_ORG as Region,ITEM, SUM(ICM_TRX_QTY) as Quantity , CAST(H_CREATE AS DATE) as SHIPDATE \n",
    "    # FROM [10.0.4.251].[Broadband_Wireline_NWMM].[dbo].[tblFRCST_WLN_SALESORDERS] \n",
    "    # WITH(NOLOCK) WHERE ITEM = '{x}' AND SHIP_ORG IN ('MW1','WE3') AND ROUTE = 'CENT' GROUP BY  SHIP_ORG, ITEM ,CAST(H_CREATE AS DATE) ORDER BY SHIPDATE\n",
    "    # \"\"\"  \n",
    "        query = f\"\"\"SELECT SHIP_ORG as Region,ITEM, SUM(ICM_TRX_QTY) as Quantity , CAST(H_CREATE AS DATE) as SHIPDATE \n",
    "    FROM [10.0.4.251].[Broadband_Wireline_NWMM].[dbo].[tblFRCST_WLN_SALESORDERS] \n",
    "    WITH(NOLOCK) WHERE ITEM = '{x}'  AND SHIP_ORG = 'SW1'  GROUP BY  SHIP_ORG, ITEM ,CAST(H_CREATE AS DATE) ORDER BY SHIPDATE\n",
    "    \"\"\"           \n",
    "        df_all = db.from_db(query)\n",
    "        return df_all\n",
    "    \n",
    "    # Processes purchase and sales order data for each SKU.\n",
    "    \n",
    "    SKU = [\n",
    "  \n",
    "\"ATT.100083026\"]\n",
    "    \n",
    "    # Function to replace extreme outliers with rolling median\n",
    "    def replace_outliers_iteratively(data, column, window_size=3, iqr_multiplier=2):\n",
    "        data = data.copy()\n",
    "        values = data[column].values  # Convert column to numpy array\n",
    "        \n",
    "        # Step 1: Calculate global IQR to flag gross outliers\n",
    "        Q1_global = pd.Series(values).quantile(0.25)\n",
    "        Q3_global = pd.Series(values).quantile(0.75)\n",
    "        IQR_global = Q3_global - Q1_global\n",
    "        lower_bound_global = Q1_global - iqr_multiplier * IQR_global\n",
    "        upper_bound_global = Q3_global + iqr_multiplier * IQR_global\n",
    "        \n",
    "        print(f\"Global IQR: Lower Bound = {lower_bound_global}, Upper Bound = {upper_bound_global}\")\n",
    "        \n",
    "        #  Replace outliers iteratively using rolling median\n",
    "        for i in range(len(values)):\n",
    "            if values[i] < lower_bound_global or values[i] > upper_bound_global:  # Flagged as outlier\n",
    "                start_idx = max(0, i - window_size + 1)\n",
    "                window = values[start_idx:i+1]  # Exclude the current outlier value\n",
    "                \n",
    "                # Replace only if there is enough data in the window\n",
    "                if len(window) > 0:\n",
    "                    rolling_median = pd.Series(window).median()\n",
    "                   # print(f\"Replacing outlier {values[i]} at index {i} with median {rolling_median}\")\n",
    "                    values[i] = rolling_median\n",
    "        \n",
    "        data[column] = values  # Update the column with corrected values\n",
    "        return data\n",
    "    \n",
    "    # Function to dynamically handle missing values\n",
    "    def dynamic_missing_value_handler(data, column):\n",
    "       \n",
    "        skewness = data[column].skew()\n",
    "        \n",
    "        if abs(skewness) < 0.5:  # Normally distributed\n",
    "            print(f\"Imputing missing values in '{column}' with MEAN (normal distribution detected).\")\n",
    "            return data[column].fillna(data[column].mean())\n",
    "        elif 0.5 <= abs(skewness) <= 2:  # Moderately skewed\n",
    "            print(f\"Imputing missing values in '{column}' with MEDIAN (moderate skewness detected).\")\n",
    "            return data[column].fillna(data[column].median())\n",
    "        else:  # Highly skewed\n",
    "            print(f\"Imputing missing values in '{column}' with MODE (high skewness detected).\")\n",
    "            return data[column].fillna(data[column].mode()[0])\n",
    "    \n",
    "    # Function to replace zero values with linear interpolation\n",
    "    def replace_zeros_with_linear(data, column):\n",
    "        # Replace zeros with NaN for interpolation\n",
    "        data[column] = data[column].replace(0, np.nan)\n",
    "         \n",
    "        # Perform linear interpolation\n",
    "        data[column] = data[column].interpolate(method='linear')\n",
    "        \n",
    "        return data\n",
    "    \n",
    "    # Function for Getting last date of the last month\n",
    "        \n",
    "    def get_last_date_of_previous_month():\n",
    "        today = datetime.today()\n",
    "        first_day_of_current_month = today.replace(day=1)\n",
    "        last_day_of_previous_month = first_day_of_current_month - timedelta(days=1)\n",
    "        return last_day_of_previous_month\n",
    "        \n",
    "    \n",
    "    def is_predictions_constant(predictions, tolerance=2.0):\n",
    "        # Initialize a variable to count the number of predictions with small changes\n",
    "        count = 0\n",
    "    \n",
    "        # Loop through the predictions and calculate the percentage change between consecutive values\n",
    "        for i in range(len(predictions) - 1):\n",
    "            percent_change = abs((predictions[i+1] - predictions[i]) / predictions[i]) * 100\n",
    "            \n",
    "            # If the percentage change is less than or equal to the tolerance, increment the count\n",
    "            if percent_change <= tolerance:\n",
    "                count += 1\n",
    "    \n",
    "        # Return the count of small changes for further comparison in the calling process\n",
    "        return count\n",
    "    \n",
    "        \n",
    "    # Created the dataframe to store the final results.\n",
    "    results_df = pd.DataFrame(columns=[\"Dataset\", \"Model\", \"MAPE\", \"MSE\", \"RMSE\"])\n",
    "    \n",
    "    # Initialize empty DataFrame to store the final results\n",
    "    Final_Result_df = pd.DataFrame()\n",
    "    \n",
    "    \n",
    "    ### Making Connection with database and fetching data\n",
    "    \n",
    "    # Initializes the database connection parameters.\n",
    "    \n",
    "    \n",
    "    non_zero_months_info = []\n",
    "    Count_of_months=[]\n",
    "    skus_with_large_jumps = []\n",
    "    \n",
    "    for i in range (0,len(SKU)): \n",
    "        \n",
    "        print('FORECAST GENERATION FOR THE SKU : ', SKU[i])   \n",
    "       \n",
    "        PO_table = read_table_PO(SKU[i])\n",
    "        SO_table = read_table_SO(SKU[i])\n",
    "       \n",
    "        #### Combining Two tables PO AND SO\n",
    "    \n",
    "        PO_table.drop(['Region','ITEM_NUMBER'] , axis = 1 , inplace = True)        \n",
    "        PO_table['SHIPDATE'] = pd.to_datetime(PO_table['SHIPDATE'])\n",
    "        SO_table.drop(['Region','ITEM'] , axis = 1 , inplace = True)\n",
    "        SO_table['SHIPDATE'] = pd.to_datetime(SO_table['SHIPDATE'])\n",
    "        \n",
    "        \n",
    "        # Create DataFrames\n",
    "        SO_table = pd.DataFrame(SO_table)\n",
    "        print(\"SO_table\")\n",
    "        print(SO_table)\n",
    "        PO_table = pd.DataFrame(PO_table)\n",
    "        print(\"PO_table\")\n",
    "        print(PO_table)\n",
    "        # Initialize PM as an empty DataFrame\n",
    "        PM = pd.DataFrame()\n",
    "        \n",
    "        # Check if the length of SO_table is less than or equal to 5\n",
    "        if len(SO_table) <= 5:\n",
    "            # If SO_table has 5 or fewer entries, use only PO_table\n",
    "            PM = PO_table.copy()\n",
    "        else:\n",
    "            # Sort both tables by SHIPDATE\n",
    "            SO_table = SO_table.sort_values(by='SHIPDATE').reset_index(drop=True)\n",
    "            PO_table = PO_table.sort_values(by='SHIPDATE').reset_index(drop=True)\n",
    "        \n",
    "            # Find the last SHIPDATE in both tables\n",
    "            last_so_date = SO_table['SHIPDATE'].max()\n",
    "            last_po_date = PO_table['SHIPDATE'].max()\n",
    "        \n",
    "            # Additional condition: Check if the last 'po' date is less than the first 'so' date\n",
    "            first_so_date = SO_table['SHIPDATE'].min()\n",
    "            if last_po_date < first_so_date and len(SO_table) > 5:\n",
    "                # Concatenate the entire SO_table and PO_table\n",
    "                PM = pd.concat([SO_table, PO_table], ignore_index=True)\n",
    "            elif last_so_date == last_po_date:\n",
    "                # Find the first SHIPDATE in PO_table\n",
    "                first_po_date = PO_table['SHIPDATE'].min()\n",
    "        \n",
    "                # Filter SO_table to include only entries with SHIPDATE less than the first date in PO_table\n",
    "                SO_filtered = SO_table[SO_table['SHIPDATE'] < first_po_date]\n",
    "        \n",
    "                # Concatenate the filtered SO_table and the entire PO_table\n",
    "                PM = pd.concat([SO_filtered, PO_table], ignore_index=True)\n",
    "            else:\n",
    "                # Filter PO_table to include only entries after the last date in SO_table\n",
    "                PO_filtered = PO_table[PO_table['SHIPDATE'] > last_so_date]\n",
    "        \n",
    "                # Concatenate SO_table and the filtered PO_table\n",
    "                PM = pd.concat([SO_table, PO_filtered], ignore_index=True)\n",
    "    \n",
    "                    ################\n",
    "        # Sort the final DataFrame by SHIPDATE and reset index\n",
    "        PM = PM.sort_values(by='SHIPDATE').reset_index(drop=True)\n",
    "        print(\"Final_Concatenated_Data\")\n",
    "        print(PM)\n",
    "\n",
    "        # keeping data separately without preprocessing to add actual values in result.\n",
    "        data_a=PM.copy()\n",
    "        data_a['SHIPDATE'] = pd.to_datetime(data_a['SHIPDATE'])\n",
    "        data_a.rename(columns={'SHIPDATE': 'ds', 'Quantity': 'y'}, inplace=True)\n",
    "        # Convert daily data into monthly data\n",
    "        data_a = data_a.resample('M', on='ds').sum().reset_index()\n",
    "        print(\"data_a(before_preprocessing)\")\n",
    "        print(data_a)\n",
    "                ###################\n",
    "        \n",
    "        print(\" \")\n",
    "        print(\"Data get loaded successfully\")\n",
    "        print(\" \")\n",
    "    \n",
    "        print(\"Graphical view of Purchase Order and Sales Order Data\")\n",
    "     \n",
    "        ## Separate graph of Sale and Purchase data        \n",
    "        # Create figure with 2 subplots\n",
    "        fig = make_subplots(rows=2, cols=1, shared_xaxes=True, vertical_spacing=0.1)\n",
    "        \n",
    "        # Add PO and SO data traces to the first subplot\n",
    "        for data, name, color in [(PO_table, 'PO', 'orange'), (SO_table, 'SO', 'skyblue')]:\n",
    "            fig.add_trace(go.Scatter(x=data['SHIPDATE'], y=data['Quantity'], mode='lines', name=name, line=dict(color=color, width=1, dash='solid'), line_shape='spline'), row=1, col=1)\n",
    "        \n",
    "        # Add PM data trace to the second subplot\n",
    "        fig.add_trace(go.Scatter(x=PM['SHIPDATE'], y=PM['Quantity'], mode='lines', name='PM', line=dict(color='green', width=1), line_shape='spline'), row=2, col=1)\n",
    "        \n",
    "        # Update layout\n",
    "        fig.update_layout(\n",
    "            title=f\"REVISED HISTORICAL DATA of {SKU[i]}\", title_font=dict(size=15, color='black'),\n",
    "            xaxis_title=\"Date\", yaxis_title=\"Historical Data\", \n",
    "            xaxis=dict(showline=True, linewidth=3, linecolor='black', mirror=True, ticklabelstep=1, showgrid=False),\n",
    "            yaxis=dict(showline=True, linewidth=3, linecolor='black', mirror=True, showgrid=False),\n",
    "            xaxis2=dict(showgrid=False),\n",
    "            yaxis2=dict(showgrid=False), \n",
    "            legend=dict(font=dict(size=14, color='black'), orientation='h', x=0.5, y=1.05, xanchor='center'),\n",
    "            template=\"plotly_white\", width=1100, height=800, plot_bgcolor='rgba(0, 0, 0, 0)', hovermode=\"closest\"\n",
    "        )\n",
    "        \n",
    "        # Show the plot and save it\n",
    "        fig.show()\n",
    "    \n",
    "        print(\" \")\n",
    "        print(\"Preprocessing  Get Started.....\")\n",
    "        print(\" \")\n",
    "        # Store the the data of PM in data named dataframe so i didn't need to change df name for below code.\n",
    "        data=PM\n",
    "        \n",
    "        # Preprocessing\n",
    "        # Get the last date of the previous month\n",
    "        last_date = get_last_date_of_previous_month()\n",
    "        # Filter the dataset\n",
    "        filtered_data = data[data['SHIPDATE'] <= last_date]\n",
    "        \n",
    "        filtered_data['Quantity'] = dynamic_missing_value_handler(filtered_data, 'Quantity')\n",
    "        \n",
    "        # Apply the function to the dataframe\n",
    "        data = replace_zeros_with_linear(filtered_data, 'Quantity')\n",
    "        \n",
    "        # Rename columns for modeling\n",
    "        data.rename(columns={'SHIPDATE': 'ds', 'Quantity': 'y'}, inplace=True)\n",
    "    \n",
    "        # Replace outlier iteratively\n",
    "        df_corrected = replace_outliers_iteratively(data, 'y', window_size=3, iqr_multiplier=2)\n",
    "        \n",
    "        # Convert daily data into monthly data\n",
    "        data = df_corrected.resample('M', on='ds').sum().reset_index()\n",
    "        print('data (After_Preprocessing)')\n",
    "        print(data)\n",
    "        \n",
    "        # Count non-zero months\n",
    "        non_zero_months = (data['y'] > 0).sum()\n",
    "        Count_of_months.append({'Item_Number': SKU[i], 'Non_Zero_Months': non_zero_months})\n",
    "        # Check if non-zero months are less than six\n",
    "        if non_zero_months < 6:\n",
    "            non_zero_months_info.append({'Item_Number': SKU[i], 'Non_Zero_Months': non_zero_months})\n",
    "        else:\n",
    "            # Proceed with further processing\n",
    "            # Apply the function to the dataframe\n",
    "            data = replace_zeros_with_linear(data, 'y')\n",
    "            # Graph to understand the nature of the data\n",
    "            dataset_name = f\"Dataset_{i+1}\"\n",
    "            \n",
    "            fig = go.Figure()\n",
    "    \n",
    "            # Add Original Data with a different color\n",
    "            fig.add_trace(go.Scatter(x=data['ds'], y=data['y'], mode='lines', name='Original Data', \n",
    "                                     line=dict(color='blue', width=1.5, dash='solid'), line_shape='spline'))\n",
    "            \n",
    "            # Customize Layout\n",
    "            fig.update_layout(\n",
    "                title=f\"Nature of {dataset_name} after Outlier treatment (Monthly)\", \n",
    "                title_font=dict(size=15, color='black', family='Arial'),\n",
    "                xaxis_title=\"Date\", \n",
    "                yaxis_title=\"Values\", \n",
    "                xaxis=dict(showgrid=False, gridcolor='lightgray', zeroline=True, zerolinewidth=1, showline=False, linewidth=1, linecolor='black'),\n",
    "                yaxis=dict(showgrid=False, gridcolor='lightgray', zeroline=True, zerolinewidth=1, showline=False, linewidth=1, linecolor='black'),\n",
    "                legend=dict(font=dict(size=10, color='black'), orientation='h', x=0.5, xanchor='center', y=1.05),\n",
    "                template=\"plotly_white\", \n",
    "                width=1100, height=500, \n",
    "                plot_bgcolor='rgba(255, 255, 255, 1)',  \n",
    "                hovermode=\"closest\"\n",
    "            )\n",
    "            \n",
    "            fig.show()\n",
    "            \n",
    "            print(\" \")\n",
    "            print(\"Process is going on please wait for some seconds.........\")\n",
    "            print(\" \")\n",
    "            \n",
    "    \n",
    "            ## FEATURES\n",
    "                  \n",
    "          \n",
    "            # Features for XGBoost, Random Forest, and Stacking\n",
    "            data['year'] = data['ds'].dt.year\n",
    "            data['month'] = data['ds'].dt.month\n",
    "            data['day'] = data['ds'].dt.day\n",
    "            data['dayofweek'] = data['ds'].dt.dayofweek\n",
    "            data['quarter'] = data['ds'].dt.quarter\n",
    "            data['y_lag1'] = data['y'].shift(1)\n",
    "            data['y_lag2'] = data['y'].shift(2)\n",
    "            data['y_lag3'] = data['y'].shift(3)\n",
    "            data.fillna(data.mean(), inplace=True)\n",
    "            \n",
    "            # # Determine the number of rows to include in the test set\n",
    "            # test_size = 6\n",
    "            \n",
    "            # # Split the DataFrame\n",
    "            # train = data.iloc[:-test_size]  # All rows except the last 'test_size' rows\n",
    "            # print('Train')\n",
    "            # print(train)\n",
    "            # test = data.iloc[-test_size:]   # The last 'test_size' rows\n",
    "            # print('Test')\n",
    "            # print(test)\n",
    "\n",
    "            train_size = int(len(data) * 0.8)\n",
    "            train = data.iloc[:train_size]\n",
    "            test = data.iloc[train_size:]\n",
    "\n",
    "            X_train = train[['year', 'month', 'day', 'dayofweek', 'quarter', 'y_lag1', 'y_lag2', 'y_lag3']]\n",
    "            y_train = train['y']\n",
    "            X_test = test[['year', 'month', 'day', 'dayofweek', 'quarter', 'y_lag1', 'y_lag2', 'y_lag3']]\n",
    "            y_test = test['y']\n",
    "        \n",
    "        \n",
    "        \n",
    "            ### Hyperparameter Tuning\n",
    "            \n",
    "            # Hyperparameter tuning for XGBoost using GridSearchCV\n",
    "            xgb_param_grid = {\n",
    "                'max_depth': [3, 5, 7, 10],\n",
    "                'learning_rate': [0.01, 0.1],\n",
    "                'n_estimators': [100, 200, 500],\n",
    "                'subsample': [0.5, 0.7],\n",
    "                'colsample_bytree': [0.5, 0.7]\n",
    "            }\n",
    "            xgb_grid_search = GridSearchCV(XGBRegressor(objective='reg:squarederror'), xgb_param_grid, cv=3, n_jobs=-1)\n",
    "            xgb_grid_search.fit(X_train, y_train)\n",
    "            best_xgb_model = xgb_grid_search.best_estimator_\n",
    "            \n",
    "            # Hyperparameter tuning for Random Forest using GridSearchCV\n",
    "            rf_param_grid = {\n",
    "                'n_estimators': [100, 200, 500],\n",
    "                'max_depth': [3, 5, 7, 10],\n",
    "                'min_samples_split': [2, 5, 10],\n",
    "                'min_samples_leaf': [1, 2, 4]\n",
    "            }\n",
    "            rf_grid_search = GridSearchCV(RandomForestRegressor(random_state=42), rf_param_grid, cv=3, n_jobs=-1)\n",
    "            rf_grid_search.fit(X_train, y_train)\n",
    "            best_rf_model = rf_grid_search.best_estimator_\n",
    "            \n",
    "            # Hyperparameter tuning for Prophet (manual search)\n",
    "           \n",
    "            prophet_param_grid = {\n",
    "                'seasonality_mode': ['additive', 'multiplicative'],\n",
    "                'changepoint_prior_scale': [0.001, 0.01, 0.1],\n",
    "                'seasonality_prior_scale': [5, 10, 15]\n",
    "            }\n",
    "            best_prophet_mape = float('inf')\n",
    "            best_prophet = None\n",
    "            \n",
    "            for params in ParameterGrid(prophet_param_grid):\n",
    "                prophet_model = Prophet(**params)\n",
    "                prophet_model.fit(train[['ds', 'y']])\n",
    "                forecast = prophet_model.predict(test[['ds']])\n",
    "                prophet_mape = mean_absolute_percentage_error(test['y'], forecast['yhat']) * 100\n",
    "                if prophet_mape < best_prophet_mape:\n",
    "                    best_prophet_mape = prophet_mape\n",
    "                    best_prophet = prophet_model\n",
    "                    best_params = params\n",
    "             \n",
    "        \n",
    "        \n",
    "            \n",
    "            # Evaluate the models\n",
    "            \n",
    "            # Evaluate Prophet\n",
    "            forecast = best_prophet.predict(test[['ds']])\n",
    "            prophet_mape = mean_absolute_percentage_error(test['y'], forecast['yhat']) * 100\n",
    "            prophet_mse = mean_squared_error(test['y'], forecast['yhat'])\n",
    "            prophet_rmse = np.sqrt(prophet_mse)\n",
    "            \n",
    "            # Evaluate XGBoost\n",
    "            xgb_preds = best_xgb_model.predict(X_test)\n",
    "            xgb_mape = mean_absolute_percentage_error(y_test, xgb_preds) * 100\n",
    "            xgb_mse = mean_squared_error(y_test, xgb_preds)\n",
    "            xgb_rmse = np.sqrt(xgb_mse)\n",
    "            \n",
    "            # Evaluate Random Forest\n",
    "            rf_preds = best_rf_model.predict(X_test)\n",
    "            rf_mape = mean_absolute_percentage_error(y_test, rf_preds) * 100\n",
    "            rf_mse = mean_squared_error(y_test, rf_preds)\n",
    "            rf_rmse = np.sqrt(rf_mse)\n",
    "            \n",
    "            \n",
    "            # Stacking\n",
    "            # Generate predictions from Prophet model\n",
    "            prophet_predictions_train = best_prophet.predict(train[['ds']])['yhat']\n",
    "            prophet_predictions_test = best_prophet.predict(test[['ds']])['yhat']\n",
    "            \n",
    "            # Generate predictions from XGBoost model\n",
    "            xgb_predictions_train = best_xgb_model.predict(X_train)\n",
    "            xgb_predictions_test = best_xgb_model.predict(X_test)\n",
    "            \n",
    "            # Generate predictions from Random Forest model\n",
    "            rf_predictions_train = best_rf_model.predict(X_train)\n",
    "            rf_predictions_test = best_rf_model.predict(X_test)\n",
    "            \n",
    "            # Combine the predictions from the base models\n",
    "            X_stack_train = np.column_stack((prophet_predictions_train, xgb_predictions_train, rf_predictions_train))\n",
    "            X_stack_test = np.column_stack((prophet_predictions_test, xgb_predictions_test, rf_predictions_test))\n",
    "            \n",
    "            # Train a meta-model (Linear Regression) using the predictions from the base models\n",
    "            meta_model = LinearRegression()\n",
    "            meta_model.fit(X_stack_train, y_train)\n",
    "            \n",
    "            # Make final predictions using the meta-model\n",
    "            stacked_predictions_test = meta_model.predict(X_stack_test)\n",
    "            \n",
    "            # Evaluate the stacked model's performance\n",
    "            stacking_mape = mean_absolute_percentage_error(y_test, stacked_predictions_test) * 100\n",
    "            stacking_mse = mean_squared_error(y_test, stacked_predictions_test)\n",
    "            stacking_rmse = np.sqrt(stacking_mse)\n",
    "\n",
    "                                    \n",
    "            ### Adding Results and Future Predictions\n",
    "\n",
    "\n",
    "            # Add Results\n",
    "            dataset_name = f\"Dataset_{i+1}\"\n",
    "            results_df = pd.concat([\n",
    "                results_df,\n",
    "                pd.DataFrame({\n",
    "                    \"Dataset\": [dataset_name]*4,\n",
    "                    \"Model\": [\"Prophet\", \"XGBoost\", \"Random Forest\", \"Stacking\"],\n",
    "                    \"MAPE\": [prophet_mape, xgb_mape, rf_mape, stacking_mape],\n",
    "                    \"MSE\": [prophet_mse, xgb_mse, rf_mse,stacking_mse],\n",
    "                    \"RMSE\": [prophet_rmse, xgb_rmse, rf_rmse, stacking_rmse]\n",
    "                })\n",
    "            ], ignore_index=True)\n",
    "        \n",
    "        \n",
    "            # Generate future dates \n",
    "             # Generate future dates \n",
    "            future_dates = pd.date_range(start=data['ds'].iloc[-1], periods=36, freq='M')[1:]\n",
    "            \n",
    "    \n",
    "            \n",
    "            # Prepare future data\n",
    "            future_data = pd.DataFrame({\n",
    "                'ds': future_dates,\n",
    "                'year': future_dates.year,\n",
    "                'month': future_dates.month,\n",
    "                'day': future_dates.day,\n",
    "                'dayofweek': future_dates.dayofweek,\n",
    "                'quarter': future_dates.quarter,\n",
    "                'y_lag1': [data['y'].iloc[-1]]*len(future_dates),\n",
    "                'y_lag2': [data['y'].iloc[-2]]*len(future_dates),\n",
    "                'y_lag3': [data['y'].iloc[-3]]*len(future_dates)\n",
    "            })\n",
    "            # Convert 'ds' column to integer \n",
    "            future_data['ds'] = future_data['ds'].astype('int64') / 10**9\n",
    "            \n",
    "            # Generate predictions for future dates with Prophet\n",
    "            future_prophet_preds = best_prophet.predict(pd.DataFrame({'ds': future_dates}))['yhat']\n",
    "            \n",
    "            # Exclude 'ds' column for XGBoost and Random Forest predictions\n",
    "            future_data_no_ds = future_data.drop(columns=['ds'])\n",
    "            \n",
    "            future_xgb_preds = best_xgb_model.predict(future_data_no_ds)\n",
    "            future_rf_preds = best_rf_model.predict(future_data_no_ds)\n",
    "            \n",
    "            # Convert DataFrame to NumPy array and reshape\n",
    "            future_data_no_ds_array = future_data_no_ds.values  # Convert to NumPy array\n",
    "            future_data_no_ds_reshaped = future_data_no_ds_array.reshape((future_data_no_ds_array.shape[0], future_data_no_ds_array.shape[1], 1))\n",
    "                    \n",
    "            # Create stacking dataset for future predictions\n",
    "            X_stack_future = np.column_stack((future_prophet_preds, future_xgb_preds, future_rf_preds))\n",
    "            \n",
    "        \n",
    "            \n",
    "            # Compare MAPE scores to select the best model\n",
    "            model_mape_scores = {\n",
    "                \"Prophet\": prophet_mape,\n",
    "                \"XGBoost\": xgb_mape,\n",
    "                \"Random Forest\": rf_mape,\n",
    "                \"Stacking\": stacking_mape\n",
    "            }\n",
    "           \n",
    "    \n",
    "            \n",
    "            # Find the model with the lowest MAPE\n",
    "            best_model_name = min(model_mape_scores, key=model_mape_scores.get)\n",
    "            print(f\"\\nBest Model Based on MAPE: {best_model_name}\")\n",
    "            # best_model_name = \"Random Forest\"\n",
    "        \n",
    "        \n",
    "            # data Preparation for retraining\n",
    "            Features = data[['year', 'month', 'day', 'dayofweek', 'quarter', 'y_lag1', 'y_lag2', 'y_lag3']]\n",
    "            Target = data['y']\n",
    "    \n",
    "    \n",
    "            \n",
    "                                 ####################### Stacking #########################\n",
    "    \n",
    "            # Defining the stacking outside the loop\n",
    "            # Use stacking model instead if LSTM is too constant\n",
    "            prophet_predictions_full = best_prophet.predict(data[['ds']])['yhat']\n",
    "            xgb_predictions_full = best_xgb_model.predict(Features)\n",
    "            rf_predictions_full = best_rf_model.predict(Features)\n",
    "            \n",
    "            \n",
    "            # Combine predictions from all models (Prophet, XGBoost, RF, LSTM) into one feature matrix for stacking\n",
    "            X_stack_full = np.column_stack((prophet_predictions_full, xgb_predictions_full, rf_predictions_full))\n",
    "            \n",
    "            # Retrain the stacking model (meta_model) on the full dataset\n",
    "            meta_model.fit(X_stack_full, Target)\n",
    "            \n",
    "                    \n",
    "                             ######################### Stacking  #########################\n",
    "    \n",
    "               \n",
    "            \n",
    "            # Retrain the best model on the entire dataset (train + test)\n",
    "            if best_model_name == \"Prophet\":\n",
    "                best_prophet = Prophet(**best_params)\n",
    "                best_prophet.fit(data[['ds', 'y']])\n",
    "                future_best_model_preds = best_prophet.predict(pd.DataFrame({'ds': future_dates}))['yhat']\n",
    "                \n",
    "                # Check if there are any negative predictions\n",
    "                if any(future_best_model_preds < 0):\n",
    "                    print(\" \")\n",
    "                    print(\"Negative predictions from Prophet. Switching to Stacking.\")\n",
    "                    print(\" \")\n",
    "                    # Set the model to Stacking directly\n",
    "                    best_model_name = \"Stacking\"\n",
    "                    \n",
    "                    # Make predictions using the trained stacking model\n",
    "                    future_best_model_preds = meta_model.predict(X_stack_future)\n",
    "    \n",
    "                    # Replace negative predictions with zeros\n",
    "                    future_best_model_preds[future_best_model_preds < 0] = 0\n",
    "                 \n",
    "                else:\n",
    "                    # If no negative predictions, continue with Prophet\n",
    "                    print(\" \")\n",
    "                    print(\"Prophet predictions are valid. Continuing with Prophet.\")\n",
    "                    print(\" \")\n",
    "                    best_model_name == \"Prophet\"\n",
    "    \n",
    "                    future_best_model_preds = best_prophet.predict(pd.DataFrame({'ds': future_dates}))['yhat']\n",
    "    \n",
    "                    # Call the function to get the count of small changes in predictions\n",
    "                    count = is_predictions_constant(future_best_model_preds)\n",
    "                \n",
    "                    # Check if the number of small changes is greater than or equal to half of the total predictions\n",
    "                    if count >= len(future_best_model_preds) // 2:\n",
    "                        \n",
    "                        print(\"Prophet predictions are too constant. Switching to Stacking.\")\n",
    "                        print(\" \")\n",
    "                        # Set the model name to Stacking\n",
    "                        best_model_name = \"Stacking\"\n",
    "                        \n",
    "                        # Make predictions using the trained stacking model\n",
    "                        future_best_model_preds = meta_model.predict(X_stack_future)\n",
    "                        \n",
    "                        # Replace negative predictions with zeros\n",
    "                        future_best_model_preds[future_best_model_preds < 0] = 0\n",
    "                     \n",
    "                    else:\n",
    "                        print(\"Prophet predictions are valid. Finalizing results with Prophet.\")\n",
    "                        print(\" \")\n",
    "                        # Set the model name to LSTM\n",
    "                        best_model_name = \"Prophet\"\n",
    "                        \n",
    "                        # Use the original XGBoost predictions if they are valid\n",
    "                        future_best_model_preds = best_xgb_model.predict(future_data_no_ds)\n",
    "                        \n",
    "                        future_best_model_preds = best_prophet.predict(pd.DataFrame({'ds': future_dates}))['yhat']\n",
    "                        \n",
    "            \n",
    "            elif best_model_name == \"XGBoost\":\n",
    "                best_xgb_model.fit(Features, Target)\n",
    "                future_best_model_preds = best_xgb_model.predict(future_data_no_ds)\n",
    "    \n",
    "                # Call the function to get the count of small changes in predictions\n",
    "                count = is_predictions_constant(future_best_model_preds)\n",
    "            \n",
    "                # Check if the number of small changes is greater than or equal to half of the total predictions\n",
    "                if count >= len(future_best_model_preds) // 2:\n",
    "                    print(\"XGBoost predictions are too constant. Switching to Stacking.\")\n",
    "                    print(\" \")\n",
    "                    # Set the model name to Stacking\n",
    "                    best_model_name = \"Stacking\"\n",
    "                    \n",
    "                    # Make predictions using the trained stacking model\n",
    "                    future_best_model_preds = meta_model.predict(X_stack_future)\n",
    "                    \n",
    "                    # Replace negative predictions with zeros\n",
    "                    future_best_model_preds[future_best_model_preds < 0] = 0\n",
    "    \n",
    "                else:\n",
    "                    print(\"XGBoost predictions are valid. Finalizing results with XGBoost.\")\n",
    "                    print(\" \")\n",
    "                    # Set the model name to LSTM\n",
    "                    best_model_name = \"XGBoost\"\n",
    "                    \n",
    "                    # Use the original XGBoost predictions if they are valid\n",
    "                    future_best_model_preds = best_xgb_model.predict(future_data_no_ds)\n",
    "                    \n",
    "                    # Replace negative predictions with zeros\n",
    "                    future_best_model_preds[future_best_model_preds < 0] = 0\n",
    "            \n",
    "                \n",
    "                \n",
    "            elif best_model_name == \"Random Forest\":\n",
    "                best_rf_model.fit(Features, Target)\n",
    "                future_best_model_preds = best_rf_model.predict(future_data_no_ds)\n",
    "                \n",
    "                # Call the function to get the count of small changes in predictions\n",
    "                count = is_predictions_constant(future_best_model_preds)\n",
    "            \n",
    "                # Check if the number of small changes is greater than or equal to half of the total predictions\n",
    "                if count >= len(future_best_model_preds) // 2:\n",
    "                    print(\"Random Forest predictions are too constant. Switching to Stacking.\")\n",
    "                    print(\" \")\n",
    "                    # Set the model name to Stacking\n",
    "                    best_model_name = \"Stacking\"\n",
    "                    \n",
    "                    \n",
    "                    # Make predictions using the trained stacking model\n",
    "                    future_best_model_preds = meta_model.predict(X_stack_future)\n",
    "                    \n",
    "                    # Replace negative predictions with zeros\n",
    "                    future_best_model_preds[future_best_model_preds < 0] = 0      \n",
    "            \n",
    "                else:\n",
    "                    print(\"Random Forest predictions are valid. Finalizing results with Random Forest.\")\n",
    "                    print(\" \")\n",
    "                    # Set the model name to LSTM\n",
    "                    best_model_name = \"Random Forest\"\n",
    "                    \n",
    "                    # Use the original XGBoost predictions if they are valid\n",
    "                    future_best_model_preds = best_rf_model.predict(future_data_no_ds)\n",
    "                    \n",
    "                    # Replace negative predictions with zeros\n",
    "                    future_best_model_preds[future_best_model_preds < 0] = 0\n",
    "             \n",
    "            elif best_model_name == \"Stacking\":\n",
    "         \n",
    "                # Make predictions using the trained stacking model\n",
    "                future_best_model_preds = meta_model.predict(X_stack_future)\n",
    "                # Replace negative predictions with zeros\n",
    "                future_best_model_preds[future_best_model_preds < 0] = 0\n",
    "                \n",
    "                    \n",
    "            # Best and final prediction       \n",
    "            future_best_model_preds\n",
    "            future_best_model_preds = [int(round(value)) for value in future_best_model_preds]\n",
    "    \n",
    "            # Calculate the percentage change between the last historical data point and the first forecasted value\n",
    "            last_historic_value = data['y'].iloc[-1]  # Last historical data point\n",
    "            first_forecast_value = future_best_model_preds[0]  # First forecasted value\n",
    "            \n",
    "            # Calculate the percentage change\n",
    "            pct_change = np.abs((first_forecast_value - last_historic_value) / last_historic_value)\n",
    "            \n",
    "            # Define a threshold for detecting large jumps \n",
    "            threshold_pct_change = 0.5  # 50% change between last historic data and first forecast\n",
    "            \n",
    "            # If the percentage change is larger than the threshold, flag it\n",
    "            if pct_change > threshold_pct_change:\n",
    "                print(f\"Large jump in forecast detected for SKU: {SKU[i]}\")\n",
    "                print(\" \")\n",
    "                logging.warning(f\"Large jump detected for SKU: {SKU[i]}. Percentage change: {pct_change:.2f}\")\n",
    "                \n",
    "                # Store the SKU with large jump for further inspection\n",
    "                skus_with_large_jumps.append({\"ITEM_NUMBER\":SKU[i]})\n",
    "    \n",
    "    \n",
    "    \n",
    "            ############################\n",
    "    \n",
    "            # Get today's date\n",
    "            today_date = datetime.today().date()\n",
    "            \n",
    "            # Format the date as yyyy-mm-dd\n",
    "            ReportDate = today_date.strftime('%Y-%m-%d')\n",
    "            ReportDate\n",
    "                    \n",
    "            ###########################\n",
    "            \n",
    "            # Append the results to the forecasted_results DataFrame\n",
    "            forecasted_results =pd.DataFrame({\n",
    "                    \"OIN\": SKU[i],\n",
    "                    \"MONTH\": future_dates,\n",
    "                    \"Value\": future_best_model_preds,\n",
    "                    \"Flag\": [\"Forecasted_Values\"] * len(future_dates),\n",
    "                    \"Model\": [best_model_name] * len(future_dates),\n",
    "                    \"Accuracy\": [model_mape_scores[best_model_name]] * len(future_dates) ,\n",
    "                    \"ReportDate\": (ReportDate)\n",
    "                })\n",
    "            print()\n",
    "            print()\n",
    "            \n",
    "    \n",
    "            # Get today's date and the start of the current month\n",
    "            today = datetime.today()\n",
    "            start_of_current_month = today.replace(day=1)\n",
    "            \n",
    "            # Filter the forecasted results to get the next 12 months from the start of the current month\n",
    "            filtered_forecasted_results = forecasted_results[\n",
    "                (forecasted_results['MONTH'] >= start_of_current_month) & \n",
    "                (forecasted_results['MONTH'] < start_of_current_month + pd.DateOffset(months=12))]\n",
    "    \n",
    "            filtered_forecasted_results['MONTH'] = filtered_forecasted_results['MONTH'].dt.strftime('%Y-%m-%d')\n",
    "            \n",
    "            # Finding the past data(Taking care that if we didn't have the data for last some month then for that month values will go as zero)\n",
    "            \n",
    "            # Get today's date\n",
    "            today = datetime.today()\n",
    "            \n",
    "            # Calculate the last day of the previous month\n",
    "            last_day_prev_month = today.replace(day=1) - timedelta(days=1)\n",
    "            \n",
    "            # Calculate the first day of the month 11 months before the previous month\n",
    "            start_date = last_day_prev_month - pd.DateOffset(months=11)\n",
    "            \n",
    "            # Create a date range for the last 12 months with end-of-month dates\n",
    "            date_range = pd.date_range(start=start_date, end=last_day_prev_month, freq='ME').normalize()\n",
    "                        \n",
    "            # Initialize a DataFrame with the date range and fill missing values with zeros\n",
    "            full_data = pd.DataFrame({'ds': date_range})\n",
    "            full_data['y'] = 0\n",
    "            \n",
    "            # Merge with your existing data to fill in the actual values\n",
    "            merged_data = pd.merge(full_data, data_a[['ds', 'y']], on='ds', how='left')\n",
    "            merged_data['y'] = merged_data['y_y'].fillna(0).astype(int)\n",
    "            merged_data = merged_data[['ds', 'y']]\n",
    "            \n",
    "            # Extracting the last 12 months\n",
    "            Past_date_12 = merged_data['ds'].dt.strftime('%Y-%m-%d').values.flatten()\n",
    "            Past_value_12 = merged_data['y'].values.flatten()\n",
    "            \n",
    "            # Convert values to integers\n",
    "            Past_value_12 = [int(round(value)) for value in Past_value_12]\n",
    "\n",
    "            Past_12_month_data =pd.DataFrame({\n",
    "                    \"OIN\": SKU[i],\n",
    "                    \"MONTH\": Past_date_12,\n",
    "                    \"Value\": Past_value_12,\n",
    "                    \"Flag\": [\"Historical_Values\"] * len(Past_date_12),\n",
    "                    \"Model\": [best_model_name] * len(Past_date_12),\n",
    "                    \"Accuracy\":[model_mape_scores[best_model_name]] * len(Past_date_12),\n",
    "                    \"ReportDate\": (ReportDate)\n",
    "                })\n",
    "    \n",
    "            # Combine past 12 month data and forecasted results for the current SKU\n",
    "            Combined_df = pd.concat([Past_12_month_data, filtered_forecasted_results], ignore_index=True)\n",
    "        \n",
    "            # Append the combined results to the final DataFrame\n",
    "            Final_Result_df = pd.concat([Final_Result_df, Combined_df], ignore_index=True)\n",
    "    \n",
    "        \n",
    "            Final_Result_df.to_csv('Forecast.With.January(4).csv',index=False)\n",
    "            ### Adding Model Predictions and Plotting\n",
    "            \n",
    "            # Plot for the current dataset (Prophet, XGBoost, Random Forest, Stacking)\n",
    "            fig = go.Figure()\n",
    "    \n",
    "            # Add Original Data\n",
    "            fig.add_trace(go.Scatter(x=test['ds'], y=test['y'], mode='lines', name='Original Data', \n",
    "                                     line=dict(color='royalblue', width=1.5, dash='solid'), line_shape='spline'))\n",
    "            \n",
    "            # Add Model Predictions\n",
    "            fig.add_trace(go.Scatter(x=test['ds'], y=forecast['yhat'], mode='lines', name='Prophet', \n",
    "                                     line=dict(color='orange', width=1.5, dash='solid'), line_shape='spline'))\n",
    "            fig.add_trace(go.Scatter(x=test['ds'], y=xgb_preds, mode='lines', name='XGBoost', \n",
    "                                     line=dict(color='green', width=1.5, dash='solid'), line_shape='spline'))\n",
    "            fig.add_trace(go.Scatter(x=test['ds'], y=rf_preds, mode='lines', name='Random Forest', \n",
    "                                     line=dict(color='red', width=1.5, dash='solid'), line_shape='spline'))\n",
    "            fig.add_trace(go.Scatter(x=test['ds'], y=stacked_predictions_test, mode='lines', name='Stacking', \n",
    "                                     line=dict(color='yellow', width=1.5, dash='solid'), line_shape='spline'))\n",
    "            \n",
    "            \n",
    "            # Customize Layout\n",
    "            fig.update_layout(\n",
    "                title=f\"Model Comparison for {dataset_name}: Original Data vs Predictions\", \n",
    "                title_font=dict(size=24, color='black', family='Arial'),\n",
    "                xaxis_title=\"Date\", \n",
    "                yaxis_title=\"Values\", \n",
    "                xaxis=dict(showgrid=False, gridcolor='lightgray', zeroline=True, zerolinewidth=1, showline=False, linewidth=1, linecolor='black'),\n",
    "                yaxis=dict(showgrid=False, gridcolor='lightgray', zeroline=True, zerolinewidth=1, showline=False, linewidth=1, linecolor='black'),\n",
    "                legend=dict(font=dict(size=14, color='black'), orientation='h', x=0.5, xanchor='center', y=1.05),\n",
    "                template=\"plotly_white\", \n",
    "                width=1100, height=500, \n",
    "                plot_bgcolor='rgba(255, 255, 255, 1)',  # white background\n",
    "                hovermode=\"closest\"\n",
    "            )\n",
    "            \n",
    "            fig.show()\n",
    "            \n",
    "            \n",
    "            \n",
    "            # Extract the last 20 records of the original data (both 'ds' and 'y' columns)\n",
    "            last_20_records = data.tail(20)[['ds', 'y']]  \n",
    "            \n",
    "            \n",
    "\n",
    "            Filtered_Result=pd.DataFrame({'ds':filtered_forecasted_results['MONTH'],\n",
    "                                          'y':filtered_forecasted_results['Value']})\n",
    "            # Convert 'ds' to datetime format if it's not already\n",
    "            Filtered_Result['ds'] = pd.to_datetime(Filtered_Result['ds'])\n",
    "            \n",
    "            # Normalize the 'ds' column to remove the time component\n",
    "            Filtered_Result['ds'] = Filtered_Result['ds'].dt.normalize()\n",
    "           \n",
    "        \n",
    "            Combined_df_ = pd.concat([last_20_records.iloc[-1:],Filtered_Result], ignore_index=True)\n",
    "           \n",
    "            print()\n",
    "            # Plot for the current dataset (Prophet, XGBoost, Random Forest, Stacking)\n",
    "            fig = go.Figure()\n",
    "    \n",
    "            # Add Original Data\n",
    "            fig.add_trace(go.Scatter(x=last_20_records['ds'], y=last_20_records['y'], mode='lines', \n",
    "                                     name='Original Data', line=dict(color='royalblue', width=1.5, dash='solid'), line_shape='spline'))\n",
    "            \n",
    "            # Add Model Predictions\n",
    "            fig.add_trace(go.Scatter(x=Combined_df_['ds'], y=Combined_df_['y'], mode='lines', \n",
    "                                     name=best_model_name, line=dict(color='green', width=1.5, dash='solid'), line_shape='spline'))\n",
    "            \n",
    "            # Customize Layout\n",
    "            fig.update_layout(\n",
    "                title=f\"Model Comparison: Original Data of {dataset_name} vs Predictions\", \n",
    "                title_font=dict(size=12, color='black', family='Arial'),\n",
    "                xaxis_title=\"Date\", \n",
    "                yaxis_title=\"Values\", \n",
    "                xaxis=dict(showgrid=False, gridcolor='lightgray', zeroline=True, zerolinewidth=1, showline=False, linewidth=1, linecolor='black'),\n",
    "                yaxis=dict(showgrid=False, gridcolor='lightgray', zeroline=True, zerolinewidth=1, showline=False, linewidth=1, linecolor='black'),\n",
    "                legend=dict(font=dict(size=14, color='black'), orientation='h', x=0.5, xanchor='center', y=1.05),\n",
    "                template=\"plotly_white\", \n",
    "                width=1100, height=500, \n",
    "                plot_bgcolor='rgba(255, 255, 255, 1)',  # white background\n",
    "                hovermode=\"closest\"\n",
    "            )\n",
    "            \n",
    "            fig.show()\n",
    "        \n",
    "        \n",
    "        \n",
    "    # Item Number Where Forecast Jump high compare to past observation    \n",
    "    skus_with_large_jumps=pd.DataFrame(skus_with_large_jumps)   \n",
    "    skus_with_large_jumps.to_csv(\"Item_Jumps.csv\")\n",
    "        \n",
    "    # Print Results\n",
    "    print(\"Model Evaluation Results:\")\n",
    "    print(results_df)\n",
    "    \n",
    "    # Save non-zero months info to CSV\n",
    "    non_zero_months_df = pd.DataFrame(non_zero_months_info)\n",
    "    #non_zero_months_df.to_csv('non_zero_months_info(15.).csv', index=False)\n",
    "    \n",
    "    # Count of months for each ITEM_NUMBER\n",
    "    Counts_of_months_for_Item = pd.DataFrame(Count_of_months)         \n",
    "    #Counts_of_months_for_Item.to_csv('Each_ITEM_month_count(15.).csv', index=False)\n",
    "    \n",
    "    print(\"\\12 Months Forecasted Results:\")\n",
    "    print(Final_Result_df)\n",
    "    \n",
    "    #results_df.to_csv('All_models_result(15.).csv',index=False)\n",
    "    \n",
    "    Final_Result_df.to_csv('Forecast.With.January(4).csv',index=False)"
   ]
  },
  {
   "cell_type": "code",
   "execution_count": 16,
   "id": "7ab8caf2-c074-4be9-872a-76ad59508042",
   "metadata": {},
   "outputs": [
    {
     "name": "stdout",
     "output_type": "stream",
     "text": [
      "FORECAST GENERATION FOR THE SKU :  ATT.100083026\n",
      "3.209.89.110 1426 master Att_rlo_user optiplex320$\n",
      "done connection\n",
      "3.209.89.110 1426 master Att_rlo_user optiplex320$\n",
      "done connection\n",
      "SO_table\n",
      "     Quantity   SHIPDATE\n",
      "0         8.0 2022-01-03\n",
      "1         7.0 2022-01-04\n",
      "2         6.0 2022-01-05\n",
      "3         6.0 2022-01-06\n",
      "4         2.0 2022-01-07\n",
      "..        ...        ...\n",
      "495       NaN 2024-02-07\n",
      "496       NaN 2024-02-08\n",
      "497       NaN 2024-02-09\n",
      "498       NaN 2024-02-13\n",
      "499       NaN 2024-02-14\n",
      "\n",
      "[500 rows x 2 columns]\n",
      "PO_table\n",
      "     Quantity   SHIPDATE\n",
      "0       150.0 2022-02-01\n",
      "1       300.0 2022-02-28\n",
      "2       200.0 2022-05-25\n",
      "3       200.0 2022-07-15\n",
      "4       300.0 2022-09-16\n",
      "..        ...        ...\n",
      "222       2.0 2025-01-29\n",
      "223       4.0 2025-01-31\n",
      "224       7.0 2025-02-04\n",
      "225       3.0 2025-02-05\n",
      "226       2.0 2025-02-06\n",
      "\n",
      "[227 rows x 2 columns]\n",
      "Final_Concatenated_Data\n",
      "     Quantity   SHIPDATE\n",
      "0         8.0 2022-01-03\n",
      "1         7.0 2022-01-04\n",
      "2         6.0 2022-01-05\n",
      "3         6.0 2022-01-06\n",
      "4         2.0 2022-01-07\n",
      "..        ...        ...\n",
      "711       2.0 2025-01-29\n",
      "712       4.0 2025-01-31\n",
      "713       7.0 2025-02-04\n",
      "714       3.0 2025-02-05\n",
      "715       2.0 2025-02-06\n",
      "\n",
      "[716 rows x 2 columns]\n",
      "data_a(before_preprocessing)\n",
      "           ds      y\n",
      "0  2022-01-31  150.0\n",
      "1  2022-02-28  201.0\n",
      "2  2022-03-31  105.0\n",
      "3  2022-04-30  120.0\n",
      "4  2022-05-31  125.0\n",
      "5  2022-06-30  136.0\n",
      "6  2022-07-31  120.0\n",
      "7  2022-08-31  139.0\n",
      "8  2022-09-30  119.0\n",
      "9  2022-10-31  168.0\n",
      "10 2022-11-30  121.0\n",
      "11 2022-12-31   92.0\n",
      "12 2023-01-31  126.0\n",
      "13 2023-02-28   82.0\n",
      "14 2023-03-31  122.0\n",
      "15 2023-04-30   86.0\n",
      "16 2023-05-31  123.0\n",
      "17 2023-06-30  154.0\n",
      "18 2023-07-31  128.0\n",
      "19 2023-08-31  157.0\n",
      "20 2023-09-30   91.0\n",
      "21 2023-10-31  113.0\n",
      "22 2023-11-30   82.0\n",
      "23 2023-12-31   73.0\n",
      "24 2024-01-31  184.0\n",
      "25 2024-02-29   29.0\n",
      "26 2024-03-31   91.0\n",
      "27 2024-04-30  119.0\n",
      "28 2024-05-31  120.0\n",
      "29 2024-06-30   95.0\n",
      "30 2024-07-31   63.0\n",
      "31 2024-08-31  188.0\n",
      "32 2024-09-30   72.0\n",
      "33 2024-10-31  109.0\n",
      "34 2024-11-30   53.0\n",
      "35 2024-12-31   95.0\n",
      "36 2025-01-31   84.0\n",
      "37 2025-02-28   12.0\n",
      " \n",
      "Data get loaded successfully\n",
      " \n",
      "Graphical view of Purchase Order and Sales Order Data\n"
     ]
    },
    {
     "data": {
      "application/vnd.plotly.v1+json": {
       "config": {
        "plotlyServerURL": "https://plot.ly"
       },
       "data": [
        {
         "line": {
          "color": "orange",
          "dash": "solid",
          "shape": "spline",
          "width": 1
         },
         "mode": "lines",
         "name": "PO",
         "type": "scatter",
         "x": [
          "2022-02-01T00:00:00",
          "2022-02-28T00:00:00",
          "2022-05-25T00:00:00",
          "2022-07-15T00:00:00",
          "2022-09-16T00:00:00",
          "2022-11-13T00:00:00",
          "2022-12-15T00:00:00",
          "2023-02-23T00:00:00",
          "2023-07-10T00:00:00",
          "2023-09-21T00:00:00",
          "2023-12-18T00:00:00",
          "2024-02-22T00:00:00",
          "2024-02-23T00:00:00",
          "2024-02-26T00:00:00",
          "2024-02-27T00:00:00",
          "2024-02-28T00:00:00",
          "2024-02-29T00:00:00",
          "2024-03-01T00:00:00",
          "2024-03-02T00:00:00",
          "2024-03-04T00:00:00",
          "2024-03-05T00:00:00",
          "2024-03-06T00:00:00",
          "2024-03-07T00:00:00",
          "2024-03-08T00:00:00",
          "2024-03-11T00:00:00",
          "2024-03-12T00:00:00",
          "2024-03-13T00:00:00",
          "2024-03-14T00:00:00",
          "2024-03-18T00:00:00",
          "2024-03-19T00:00:00",
          "2024-03-20T00:00:00",
          "2024-03-22T00:00:00",
          "2024-03-25T00:00:00",
          "2024-03-26T00:00:00",
          "2024-03-27T00:00:00",
          "2024-03-28T00:00:00",
          "2024-03-29T00:00:00",
          "2024-04-01T00:00:00",
          "2024-04-02T00:00:00",
          "2024-04-03T00:00:00",
          "2024-04-04T00:00:00",
          "2024-04-05T00:00:00",
          "2024-04-11T00:00:00",
          "2024-04-12T00:00:00",
          "2024-04-15T00:00:00",
          "2024-04-16T00:00:00",
          "2024-04-17T00:00:00",
          "2024-04-18T00:00:00",
          "2024-04-19T00:00:00",
          "2024-04-22T00:00:00",
          "2024-04-23T00:00:00",
          "2024-04-25T00:00:00",
          "2024-04-29T00:00:00",
          "2024-04-30T00:00:00",
          "2024-05-01T00:00:00",
          "2024-05-02T00:00:00",
          "2024-05-03T00:00:00",
          "2024-05-06T00:00:00",
          "2024-05-07T00:00:00",
          "2024-05-08T00:00:00",
          "2024-05-09T00:00:00",
          "2024-05-10T00:00:00",
          "2024-05-13T00:00:00",
          "2024-05-14T00:00:00",
          "2024-05-15T00:00:00",
          "2024-05-16T00:00:00",
          "2024-05-17T00:00:00",
          "2024-05-20T00:00:00",
          "2024-05-21T00:00:00",
          "2024-05-22T00:00:00",
          "2024-05-23T00:00:00",
          "2024-05-24T00:00:00",
          "2024-05-27T00:00:00",
          "2024-05-28T00:00:00",
          "2024-05-29T00:00:00",
          "2024-05-30T00:00:00",
          "2024-06-03T00:00:00",
          "2024-06-04T00:00:00",
          "2024-06-05T00:00:00",
          "2024-06-06T00:00:00",
          "2024-06-07T00:00:00",
          "2024-06-10T00:00:00",
          "2024-06-12T00:00:00",
          "2024-06-13T00:00:00",
          "2024-06-14T00:00:00",
          "2024-06-17T00:00:00",
          "2024-06-18T00:00:00",
          "2024-06-19T00:00:00",
          "2024-06-20T00:00:00",
          "2024-06-21T00:00:00",
          "2024-06-24T00:00:00",
          "2024-06-25T00:00:00",
          "2024-06-26T00:00:00",
          "2024-06-27T00:00:00",
          "2024-06-28T00:00:00",
          "2024-07-01T00:00:00",
          "2024-07-02T00:00:00",
          "2024-07-03T00:00:00",
          "2024-07-05T00:00:00",
          "2024-07-07T00:00:00",
          "2024-07-08T00:00:00",
          "2024-07-10T00:00:00",
          "2024-07-11T00:00:00",
          "2024-07-12T00:00:00",
          "2024-07-15T00:00:00",
          "2024-07-16T00:00:00",
          "2024-07-17T00:00:00",
          "2024-07-19T00:00:00",
          "2024-07-22T00:00:00",
          "2024-07-23T00:00:00",
          "2024-07-24T00:00:00",
          "2024-07-25T00:00:00",
          "2024-07-26T00:00:00",
          "2024-07-29T00:00:00",
          "2024-07-31T00:00:00",
          "2024-08-01T00:00:00",
          "2024-08-02T00:00:00",
          "2024-08-05T00:00:00",
          "2024-08-06T00:00:00",
          "2024-08-07T00:00:00",
          "2024-08-08T00:00:00",
          "2024-08-12T00:00:00",
          "2024-08-13T00:00:00",
          "2024-08-14T00:00:00",
          "2024-08-15T00:00:00",
          "2024-08-16T00:00:00",
          "2024-08-17T00:00:00",
          "2024-08-19T00:00:00",
          "2024-08-20T00:00:00",
          "2024-08-21T00:00:00",
          "2024-08-22T00:00:00",
          "2024-08-23T00:00:00",
          "2024-08-26T00:00:00",
          "2024-08-27T00:00:00",
          "2024-08-28T00:00:00",
          "2024-08-29T00:00:00",
          "2024-08-30T00:00:00",
          "2024-09-03T00:00:00",
          "2024-09-04T00:00:00",
          "2024-09-05T00:00:00",
          "2024-09-06T00:00:00",
          "2024-09-09T00:00:00",
          "2024-09-10T00:00:00",
          "2024-09-11T00:00:00",
          "2024-09-12T00:00:00",
          "2024-09-16T00:00:00",
          "2024-09-17T00:00:00",
          "2024-09-18T00:00:00",
          "2024-09-19T00:00:00",
          "2024-09-20T00:00:00",
          "2024-09-24T00:00:00",
          "2024-09-26T00:00:00",
          "2024-09-28T00:00:00",
          "2024-09-30T00:00:00",
          "2024-10-01T00:00:00",
          "2024-10-02T00:00:00",
          "2024-10-03T00:00:00",
          "2024-10-04T00:00:00",
          "2024-10-07T00:00:00",
          "2024-10-08T00:00:00",
          "2024-10-09T00:00:00",
          "2024-10-10T00:00:00",
          "2024-10-11T00:00:00",
          "2024-10-15T00:00:00",
          "2024-10-16T00:00:00",
          "2024-10-17T00:00:00",
          "2024-10-21T00:00:00",
          "2024-10-23T00:00:00",
          "2024-10-24T00:00:00",
          "2024-10-25T00:00:00",
          "2024-10-26T00:00:00",
          "2024-10-28T00:00:00",
          "2024-10-29T00:00:00",
          "2024-10-30T00:00:00",
          "2024-10-31T00:00:00",
          "2024-11-01T00:00:00",
          "2024-11-04T00:00:00",
          "2024-11-05T00:00:00",
          "2024-11-07T00:00:00",
          "2024-11-08T00:00:00",
          "2024-11-11T00:00:00",
          "2024-11-15T00:00:00",
          "2024-11-18T00:00:00",
          "2024-11-19T00:00:00",
          "2024-11-20T00:00:00",
          "2024-11-24T00:00:00",
          "2024-11-25T00:00:00",
          "2024-11-26T00:00:00",
          "2024-11-27T00:00:00",
          "2024-12-02T00:00:00",
          "2024-12-03T00:00:00",
          "2024-12-04T00:00:00",
          "2024-12-05T00:00:00",
          "2024-12-06T00:00:00",
          "2024-12-07T00:00:00",
          "2024-12-10T00:00:00",
          "2024-12-11T00:00:00",
          "2024-12-13T00:00:00",
          "2024-12-16T00:00:00",
          "2024-12-18T00:00:00",
          "2024-12-20T00:00:00",
          "2024-12-23T00:00:00",
          "2024-12-26T00:00:00",
          "2024-12-27T00:00:00",
          "2024-12-30T00:00:00",
          "2025-01-02T00:00:00",
          "2025-01-03T00:00:00",
          "2025-01-06T00:00:00",
          "2025-01-07T00:00:00",
          "2025-01-08T00:00:00",
          "2025-01-10T00:00:00",
          "2025-01-13T00:00:00",
          "2025-01-14T00:00:00",
          "2025-01-15T00:00:00",
          "2025-01-16T00:00:00",
          "2025-01-17T00:00:00",
          "2025-01-21T00:00:00",
          "2025-01-22T00:00:00",
          "2025-01-23T00:00:00",
          "2025-01-24T00:00:00",
          "2025-01-27T00:00:00",
          "2025-01-28T00:00:00",
          "2025-01-29T00:00:00",
          "2025-01-31T00:00:00",
          "2025-02-04T00:00:00",
          "2025-02-05T00:00:00",
          "2025-02-06T00:00:00"
         ],
         "xaxis": "x",
         "y": [
          150,
          300,
          200,
          200,
          300,
          250,
          100,
          250,
          350,
          500,
          284,
          4,
          6,
          2,
          5,
          9,
          3,
          1,
          5,
          2,
          6,
          2,
          9,
          7,
          3,
          3,
          3,
          1,
          4,
          9,
          1,
          4,
          3,
          6,
          5,
          3,
          14,
          10,
          9,
          4,
          9,
          6,
          14,
          6,
          4,
          2,
          4,
          10,
          10,
          2,
          4,
          2,
          9,
          14,
          2,
          3,
          4,
          2,
          2,
          5,
          3,
          7,
          4,
          6,
          4,
          8,
          23,
          9,
          3,
          8,
          1,
          11,
          2,
          7,
          5,
          1,
          3,
          3,
          6,
          2,
          1,
          4,
          3,
          5,
          7,
          4,
          23,
          7,
          1,
          1,
          2,
          12,
          5,
          2,
          4,
          2,
          2,
          1,
          3,
          2,
          2,
          2,
          3,
          2,
          2,
          4,
          6,
          8,
          2,
          2,
          1,
          6,
          1,
          4,
          8,
          5,
          9,
          6,
          3,
          6,
          3,
          5,
          2,
          15,
          1,
          11,
          1,
          5,
          14,
          7,
          8,
          4,
          8,
          7,
          61,
          1,
          6,
          4,
          5,
          5,
          7,
          5,
          1,
          3,
          2,
          2,
          5,
          2,
          11,
          2,
          10,
          4,
          2,
          2,
          2,
          3,
          1,
          15,
          2,
          9,
          5,
          6,
          8,
          15,
          2,
          3,
          2,
          4,
          2,
          3,
          4,
          7,
          8,
          4,
          4,
          8,
          2,
          11,
          2,
          2,
          3,
          4,
          6,
          4,
          4,
          1,
          1,
          2,
          3,
          13,
          17,
          2,
          1,
          5,
          1,
          1,
          21,
          10,
          6,
          1,
          2,
          7,
          4,
          2,
          2,
          13,
          3,
          4,
          5,
          6,
          5,
          3,
          1,
          3,
          4,
          1,
          4,
          2,
          1,
          3,
          5,
          15,
          2,
          4,
          7,
          3,
          2
         ],
         "yaxis": "y"
        },
        {
         "line": {
          "color": "skyblue",
          "dash": "solid",
          "shape": "spline",
          "width": 1
         },
         "mode": "lines",
         "name": "SO",
         "type": "scatter",
         "x": [
          "2022-01-03T00:00:00",
          "2022-01-04T00:00:00",
          "2022-01-05T00:00:00",
          "2022-01-06T00:00:00",
          "2022-01-07T00:00:00",
          "2022-01-10T00:00:00",
          "2022-01-12T00:00:00",
          "2022-01-13T00:00:00",
          "2022-01-14T00:00:00",
          "2022-01-16T00:00:00",
          "2022-01-17T00:00:00",
          "2022-01-18T00:00:00",
          "2022-01-19T00:00:00",
          "2022-01-20T00:00:00",
          "2022-01-21T00:00:00",
          "2022-01-24T00:00:00",
          "2022-01-25T00:00:00",
          "2022-01-26T00:00:00",
          "2022-01-27T00:00:00",
          "2022-01-28T00:00:00",
          "2022-01-31T00:00:00",
          "2022-02-01T00:00:00",
          "2022-02-02T00:00:00",
          "2022-02-03T00:00:00",
          "2022-02-04T00:00:00",
          "2022-02-07T00:00:00",
          "2022-02-08T00:00:00",
          "2022-02-09T00:00:00",
          "2022-02-10T00:00:00",
          "2022-02-11T00:00:00",
          "2022-02-13T00:00:00",
          "2022-02-14T00:00:00",
          "2022-02-15T00:00:00",
          "2022-02-16T00:00:00",
          "2022-02-17T00:00:00",
          "2022-02-18T00:00:00",
          "2022-02-21T00:00:00",
          "2022-02-22T00:00:00",
          "2022-02-23T00:00:00",
          "2022-02-24T00:00:00",
          "2022-02-25T00:00:00",
          "2022-02-28T00:00:00",
          "2022-03-01T00:00:00",
          "2022-03-02T00:00:00",
          "2022-03-03T00:00:00",
          "2022-03-04T00:00:00",
          "2022-03-05T00:00:00",
          "2022-03-07T00:00:00",
          "2022-03-08T00:00:00",
          "2022-03-09T00:00:00",
          "2022-03-11T00:00:00",
          "2022-03-14T00:00:00",
          "2022-03-15T00:00:00",
          "2022-03-16T00:00:00",
          "2022-03-17T00:00:00",
          "2022-03-21T00:00:00",
          "2022-03-23T00:00:00",
          "2022-03-24T00:00:00",
          "2022-03-25T00:00:00",
          "2022-03-28T00:00:00",
          "2022-03-29T00:00:00",
          "2022-03-30T00:00:00",
          "2022-03-31T00:00:00",
          "2022-04-01T00:00:00",
          "2022-04-04T00:00:00",
          "2022-04-05T00:00:00",
          "2022-04-06T00:00:00",
          "2022-04-07T00:00:00",
          "2022-04-08T00:00:00",
          "2022-04-12T00:00:00",
          "2022-04-13T00:00:00",
          "2022-04-14T00:00:00",
          "2022-04-15T00:00:00",
          "2022-04-18T00:00:00",
          "2022-04-19T00:00:00",
          "2022-04-20T00:00:00",
          "2022-04-21T00:00:00",
          "2022-04-22T00:00:00",
          "2022-04-25T00:00:00",
          "2022-04-26T00:00:00",
          "2022-04-29T00:00:00",
          "2022-05-02T00:00:00",
          "2022-05-03T00:00:00",
          "2022-05-04T00:00:00",
          "2022-05-05T00:00:00",
          "2022-05-06T00:00:00",
          "2022-05-08T00:00:00",
          "2022-05-09T00:00:00",
          "2022-05-11T00:00:00",
          "2022-05-13T00:00:00",
          "2022-05-16T00:00:00",
          "2022-05-17T00:00:00",
          "2022-05-19T00:00:00",
          "2022-05-20T00:00:00",
          "2022-05-22T00:00:00",
          "2022-05-23T00:00:00",
          "2022-05-24T00:00:00",
          "2022-05-25T00:00:00",
          "2022-05-26T00:00:00",
          "2022-05-27T00:00:00",
          "2022-05-31T00:00:00",
          "2022-06-01T00:00:00",
          "2022-06-02T00:00:00",
          "2022-06-03T00:00:00",
          "2022-06-06T00:00:00",
          "2022-06-07T00:00:00",
          "2022-06-08T00:00:00",
          "2022-06-09T00:00:00",
          "2022-06-10T00:00:00",
          "2022-06-13T00:00:00",
          "2022-06-14T00:00:00",
          "2022-06-15T00:00:00",
          "2022-06-16T00:00:00",
          "2022-06-17T00:00:00",
          "2022-06-20T00:00:00",
          "2022-06-21T00:00:00",
          "2022-06-22T00:00:00",
          "2022-06-23T00:00:00",
          "2022-06-24T00:00:00",
          "2022-06-27T00:00:00",
          "2022-06-28T00:00:00",
          "2022-06-29T00:00:00",
          "2022-07-05T00:00:00",
          "2022-07-06T00:00:00",
          "2022-07-07T00:00:00",
          "2022-07-08T00:00:00",
          "2022-07-09T00:00:00",
          "2022-07-11T00:00:00",
          "2022-07-12T00:00:00",
          "2022-07-13T00:00:00",
          "2022-07-14T00:00:00",
          "2022-07-15T00:00:00",
          "2022-07-18T00:00:00",
          "2022-07-19T00:00:00",
          "2022-07-20T00:00:00",
          "2022-07-21T00:00:00",
          "2022-07-22T00:00:00",
          "2022-07-25T00:00:00",
          "2022-07-26T00:00:00",
          "2022-07-27T00:00:00",
          "2022-07-28T00:00:00",
          "2022-08-01T00:00:00",
          "2022-08-03T00:00:00",
          "2022-08-04T00:00:00",
          "2022-08-05T00:00:00",
          "2022-08-08T00:00:00",
          "2022-08-09T00:00:00",
          "2022-08-10T00:00:00",
          "2022-08-11T00:00:00",
          "2022-08-12T00:00:00",
          "2022-08-15T00:00:00",
          "2022-08-16T00:00:00",
          "2022-08-17T00:00:00",
          "2022-08-18T00:00:00",
          "2022-08-19T00:00:00",
          "2022-08-22T00:00:00",
          "2022-08-23T00:00:00",
          "2022-08-25T00:00:00",
          "2022-08-26T00:00:00",
          "2022-08-29T00:00:00",
          "2022-08-30T00:00:00",
          "2022-08-31T00:00:00",
          "2022-09-02T00:00:00",
          "2022-09-06T00:00:00",
          "2022-09-08T00:00:00",
          "2022-09-09T00:00:00",
          "2022-09-12T00:00:00",
          "2022-09-13T00:00:00",
          "2022-09-14T00:00:00",
          "2022-09-15T00:00:00",
          "2022-09-16T00:00:00",
          "2022-09-20T00:00:00",
          "2022-09-21T00:00:00",
          "2022-09-22T00:00:00",
          "2022-09-23T00:00:00",
          "2022-09-26T00:00:00",
          "2022-09-27T00:00:00",
          "2022-09-28T00:00:00",
          "2022-09-29T00:00:00",
          "2022-09-30T00:00:00",
          "2022-10-03T00:00:00",
          "2022-10-04T00:00:00",
          "2022-10-05T00:00:00",
          "2022-10-06T00:00:00",
          "2022-10-07T00:00:00",
          "2022-10-10T00:00:00",
          "2022-10-11T00:00:00",
          "2022-10-12T00:00:00",
          "2022-10-13T00:00:00",
          "2022-10-14T00:00:00",
          "2022-10-17T00:00:00",
          "2022-10-18T00:00:00",
          "2022-10-19T00:00:00",
          "2022-10-20T00:00:00",
          "2022-10-21T00:00:00",
          "2022-10-24T00:00:00",
          "2022-10-25T00:00:00",
          "2022-10-26T00:00:00",
          "2022-10-27T00:00:00",
          "2022-10-28T00:00:00",
          "2022-10-31T00:00:00",
          "2022-11-01T00:00:00",
          "2022-11-02T00:00:00",
          "2022-11-03T00:00:00",
          "2022-11-04T00:00:00",
          "2022-11-07T00:00:00",
          "2022-11-09T00:00:00",
          "2022-11-10T00:00:00",
          "2022-11-11T00:00:00",
          "2022-11-15T00:00:00",
          "2022-11-16T00:00:00",
          "2022-11-17T00:00:00",
          "2022-11-18T00:00:00",
          "2022-11-22T00:00:00",
          "2022-11-23T00:00:00",
          "2022-11-28T00:00:00",
          "2022-11-29T00:00:00",
          "2022-11-30T00:00:00",
          "2022-12-01T00:00:00",
          "2022-12-02T00:00:00",
          "2022-12-05T00:00:00",
          "2022-12-06T00:00:00",
          "2022-12-07T00:00:00",
          "2022-12-08T00:00:00",
          "2022-12-09T00:00:00",
          "2022-12-12T00:00:00",
          "2022-12-13T00:00:00",
          "2022-12-14T00:00:00",
          "2022-12-15T00:00:00",
          "2022-12-19T00:00:00",
          "2022-12-21T00:00:00",
          "2022-12-22T00:00:00",
          "2022-12-23T00:00:00",
          "2022-12-25T00:00:00",
          "2022-12-27T00:00:00",
          "2022-12-28T00:00:00",
          "2022-12-29T00:00:00",
          "2022-12-30T00:00:00",
          "2023-01-03T00:00:00",
          "2023-01-04T00:00:00",
          "2023-01-05T00:00:00",
          "2023-01-07T00:00:00",
          "2023-01-09T00:00:00",
          "2023-01-10T00:00:00",
          "2023-01-11T00:00:00",
          "2023-01-13T00:00:00",
          "2023-01-16T00:00:00",
          "2023-01-17T00:00:00",
          "2023-01-18T00:00:00",
          "2023-01-19T00:00:00",
          "2023-01-20T00:00:00",
          "2023-01-23T00:00:00",
          "2023-01-24T00:00:00",
          "2023-01-25T00:00:00",
          "2023-01-26T00:00:00",
          "2023-01-27T00:00:00",
          "2023-01-30T00:00:00",
          "2023-01-31T00:00:00",
          "2023-02-01T00:00:00",
          "2023-02-02T00:00:00",
          "2023-02-03T00:00:00",
          "2023-02-06T00:00:00",
          "2023-02-07T00:00:00",
          "2023-02-08T00:00:00",
          "2023-02-10T00:00:00",
          "2023-02-13T00:00:00",
          "2023-02-14T00:00:00",
          "2023-02-15T00:00:00",
          "2023-02-16T00:00:00",
          "2023-02-17T00:00:00",
          "2023-02-21T00:00:00",
          "2023-02-22T00:00:00",
          "2023-02-23T00:00:00",
          "2023-02-24T00:00:00",
          "2023-02-26T00:00:00",
          "2023-02-27T00:00:00",
          "2023-02-28T00:00:00",
          "2023-03-02T00:00:00",
          "2023-03-03T00:00:00",
          "2023-03-06T00:00:00",
          "2023-03-07T00:00:00",
          "2023-03-09T00:00:00",
          "2023-03-10T00:00:00",
          "2023-03-13T00:00:00",
          "2023-03-14T00:00:00",
          "2023-03-15T00:00:00",
          "2023-03-16T00:00:00",
          "2023-03-17T00:00:00",
          "2023-03-19T00:00:00",
          "2023-03-21T00:00:00",
          "2023-03-22T00:00:00",
          "2023-03-23T00:00:00",
          "2023-03-24T00:00:00",
          "2023-03-26T00:00:00",
          "2023-03-27T00:00:00",
          "2023-03-28T00:00:00",
          "2023-03-29T00:00:00",
          "2023-03-30T00:00:00",
          "2023-03-31T00:00:00",
          "2023-04-03T00:00:00",
          "2023-04-04T00:00:00",
          "2023-04-05T00:00:00",
          "2023-04-06T00:00:00",
          "2023-04-07T00:00:00",
          "2023-04-10T00:00:00",
          "2023-04-11T00:00:00",
          "2023-04-12T00:00:00",
          "2023-04-14T00:00:00",
          "2023-04-17T00:00:00",
          "2023-04-18T00:00:00",
          "2023-04-21T00:00:00",
          "2023-04-24T00:00:00",
          "2023-04-25T00:00:00",
          "2023-04-26T00:00:00",
          "2023-04-27T00:00:00",
          "2023-04-28T00:00:00",
          "2023-05-01T00:00:00",
          "2023-05-02T00:00:00",
          "2023-05-03T00:00:00",
          "2023-05-04T00:00:00",
          "2023-05-08T00:00:00",
          "2023-05-09T00:00:00",
          "2023-05-10T00:00:00",
          "2023-05-11T00:00:00",
          "2023-05-12T00:00:00",
          "2023-05-15T00:00:00",
          "2023-05-16T00:00:00",
          "2023-05-17T00:00:00",
          "2023-05-19T00:00:00",
          "2023-05-20T00:00:00",
          "2023-05-22T00:00:00",
          "2023-05-23T00:00:00",
          "2023-05-24T00:00:00",
          "2023-05-25T00:00:00",
          "2023-05-26T00:00:00",
          "2023-05-30T00:00:00",
          "2023-05-31T00:00:00",
          "2023-06-02T00:00:00",
          "2023-06-05T00:00:00",
          "2023-06-06T00:00:00",
          "2023-06-07T00:00:00",
          "2023-06-08T00:00:00",
          "2023-06-09T00:00:00",
          "2023-06-12T00:00:00",
          "2023-06-13T00:00:00",
          "2023-06-14T00:00:00",
          "2023-06-15T00:00:00",
          "2023-06-16T00:00:00",
          "2023-06-19T00:00:00",
          "2023-06-20T00:00:00",
          "2023-06-21T00:00:00",
          "2023-06-22T00:00:00",
          "2023-06-23T00:00:00",
          "2023-06-26T00:00:00",
          "2023-06-27T00:00:00",
          "2023-06-29T00:00:00",
          "2023-06-30T00:00:00",
          "2023-07-03T00:00:00",
          "2023-07-05T00:00:00",
          "2023-07-06T00:00:00",
          "2023-07-10T00:00:00",
          "2023-07-11T00:00:00",
          "2023-07-12T00:00:00",
          "2023-07-13T00:00:00",
          "2023-07-14T00:00:00",
          "2023-07-17T00:00:00",
          "2023-07-18T00:00:00",
          "2023-07-19T00:00:00",
          "2023-07-20T00:00:00",
          "2023-07-21T00:00:00",
          "2023-07-23T00:00:00",
          "2023-07-24T00:00:00",
          "2023-07-26T00:00:00",
          "2023-07-27T00:00:00",
          "2023-07-28T00:00:00",
          "2023-07-31T00:00:00",
          "2023-08-01T00:00:00",
          "2023-08-02T00:00:00",
          "2023-08-03T00:00:00",
          "2023-08-04T00:00:00",
          "2023-08-07T00:00:00",
          "2023-08-08T00:00:00",
          "2023-08-09T00:00:00",
          "2023-08-10T00:00:00",
          "2023-08-11T00:00:00",
          "2023-08-12T00:00:00",
          "2023-08-14T00:00:00",
          "2023-08-15T00:00:00",
          "2023-08-16T00:00:00",
          "2023-08-17T00:00:00",
          "2023-08-18T00:00:00",
          "2023-08-21T00:00:00",
          "2023-08-23T00:00:00",
          "2023-08-24T00:00:00",
          "2023-08-25T00:00:00",
          "2023-08-28T00:00:00",
          "2023-08-29T00:00:00",
          "2023-08-30T00:00:00",
          "2023-09-01T00:00:00",
          "2023-09-04T00:00:00",
          "2023-09-05T00:00:00",
          "2023-09-07T00:00:00",
          "2023-09-08T00:00:00",
          "2023-09-11T00:00:00",
          "2023-09-12T00:00:00",
          "2023-09-13T00:00:00",
          "2023-09-14T00:00:00",
          "2023-09-15T00:00:00",
          "2023-09-18T00:00:00",
          "2023-09-19T00:00:00",
          "2023-09-20T00:00:00",
          "2023-09-22T00:00:00",
          "2023-09-25T00:00:00",
          "2023-09-26T00:00:00",
          "2023-09-27T00:00:00",
          "2023-09-29T00:00:00",
          "2023-10-03T00:00:00",
          "2023-10-04T00:00:00",
          "2023-10-05T00:00:00",
          "2023-10-06T00:00:00",
          "2023-10-09T00:00:00",
          "2023-10-10T00:00:00",
          "2023-10-11T00:00:00",
          "2023-10-12T00:00:00",
          "2023-10-13T00:00:00",
          "2023-10-16T00:00:00",
          "2023-10-17T00:00:00",
          "2023-10-18T00:00:00",
          "2023-10-20T00:00:00",
          "2023-10-23T00:00:00",
          "2023-10-24T00:00:00",
          "2023-10-25T00:00:00",
          "2023-10-30T00:00:00",
          "2023-10-31T00:00:00",
          "2023-11-01T00:00:00",
          "2023-11-02T00:00:00",
          "2023-11-03T00:00:00",
          "2023-11-04T00:00:00",
          "2023-11-06T00:00:00",
          "2023-11-07T00:00:00",
          "2023-11-08T00:00:00",
          "2023-11-09T00:00:00",
          "2023-11-10T00:00:00",
          "2023-11-13T00:00:00",
          "2023-11-14T00:00:00",
          "2023-11-15T00:00:00",
          "2023-11-16T00:00:00",
          "2023-11-17T00:00:00",
          "2023-11-20T00:00:00",
          "2023-11-21T00:00:00",
          "2023-11-22T00:00:00",
          "2023-11-23T00:00:00",
          "2023-11-28T00:00:00",
          "2023-11-30T00:00:00",
          "2023-12-01T00:00:00",
          "2023-12-02T00:00:00",
          "2023-12-05T00:00:00",
          "2023-12-06T00:00:00",
          "2023-12-07T00:00:00",
          "2023-12-08T00:00:00",
          "2023-12-11T00:00:00",
          "2023-12-12T00:00:00",
          "2023-12-13T00:00:00",
          "2023-12-15T00:00:00",
          "2023-12-19T00:00:00",
          "2023-12-21T00:00:00",
          "2023-12-22T00:00:00",
          "2023-12-25T00:00:00",
          "2023-12-27T00:00:00",
          "2023-12-29T00:00:00",
          "2024-01-02T00:00:00",
          "2024-01-03T00:00:00",
          "2024-01-04T00:00:00",
          "2024-01-05T00:00:00",
          "2024-01-06T00:00:00",
          "2024-01-08T00:00:00",
          "2024-01-09T00:00:00",
          "2024-01-10T00:00:00",
          "2024-01-11T00:00:00",
          "2024-01-12T00:00:00",
          "2024-01-15T00:00:00",
          "2024-01-16T00:00:00",
          "2024-01-17T00:00:00",
          "2024-01-18T00:00:00",
          "2024-01-19T00:00:00",
          "2024-01-22T00:00:00",
          "2024-01-23T00:00:00",
          "2024-01-24T00:00:00",
          "2024-01-25T00:00:00",
          "2024-01-29T00:00:00",
          "2024-01-30T00:00:00",
          "2024-02-01T00:00:00",
          "2024-02-02T00:00:00",
          "2024-02-05T00:00:00",
          "2024-02-06T00:00:00",
          "2024-02-07T00:00:00",
          "2024-02-08T00:00:00",
          "2024-02-09T00:00:00",
          "2024-02-13T00:00:00",
          "2024-02-14T00:00:00"
         ],
         "xaxis": "x",
         "y": [
          8,
          7,
          6,
          6,
          2,
          8,
          11,
          12,
          19,
          1,
          1,
          5,
          10,
          13,
          6,
          9,
          4,
          5,
          10,
          5,
          2,
          2,
          26,
          11,
          15,
          13,
          4,
          12,
          8,
          4,
          1,
          11,
          5,
          3,
          5,
          9,
          4,
          1,
          24,
          17,
          8,
          18,
          9,
          2,
          4,
          6,
          2,
          4,
          1,
          2,
          16,
          5,
          3,
          5,
          4,
          18,
          1,
          3,
          4,
          6,
          3,
          6,
          1,
          3,
          5,
          14,
          4,
          4,
          2,
          2,
          6,
          26,
          4,
          3,
          6,
          10,
          5,
          6,
          4,
          8,
          8,
          4,
          6,
          4,
          3,
          8,
          2,
          3,
          2,
          4,
          11,
          31,
          2,
          17,
          2,
          3,
          3,
          8,
          3,
          1,
          8,
          2,
          1,
          1,
          3,
          6,
          10,
          12,
          6,
          2,
          3,
          2,
          8,
          14,
          5,
          1,
          3,
          11,
          4,
          36,
          1,
          5,
          15,
          1,
          2,
          9,
          2,
          4,
          2,
          2,
          20,
          6,
          1,
          6,
          19,
          13,
          8,
          1,
          4,
          3,
          2,
          3,
          1,
          6,
          null,
          6,
          3,
          5,
          6,
          1,
          12,
          7,
          5,
          9,
          21,
          2,
          6,
          9,
          3,
          3,
          1,
          30,
          21,
          2,
          14,
          1,
          5,
          5,
          10,
          9,
          6,
          13,
          11,
          5,
          null,
          2,
          5,
          1,
          5,
          4,
          3,
          3,
          2,
          15,
          5,
          2,
          3,
          1,
          15,
          4,
          7,
          2,
          9,
          31,
          3,
          20,
          4,
          7,
          9,
          16,
          7,
          2,
          36,
          6,
          14,
          3,
          16,
          6,
          16,
          3,
          4,
          5,
          2,
          2,
          2,
          2,
          2,
          null,
          4,
          2,
          6,
          1,
          19,
          1,
          4,
          1,
          5,
          10,
          9,
          1,
          4,
          12,
          2,
          1,
          2,
          5,
          1,
          2,
          2,
          8,
          1,
          2,
          2,
          6,
          7,
          3,
          2,
          2,
          10,
          3,
          2,
          9,
          13,
          30,
          2,
          17,
          3,
          2,
          8,
          3,
          3,
          1,
          1,
          4,
          1,
          7,
          6,
          1,
          4,
          2,
          16,
          14,
          1,
          3,
          1,
          5,
          1,
          5,
          10,
          11,
          2,
          5,
          8,
          1,
          2,
          4,
          1,
          6,
          12,
          4,
          2,
          16,
          5,
          6,
          12,
          4,
          1,
          4,
          1,
          2,
          3,
          2,
          6,
          2,
          5,
          7,
          4,
          7,
          1,
          2,
          5,
          1,
          11,
          3,
          11,
          14,
          1,
          4,
          2,
          11,
          2,
          4,
          5,
          25,
          4,
          4,
          8,
          4,
          3,
          4,
          8,
          5,
          1,
          11,
          6,
          9,
          2,
          4,
          2,
          7,
          13,
          1,
          7,
          4,
          4,
          1,
          2,
          21,
          28,
          5,
          2,
          9,
          1,
          3,
          15,
          11,
          14,
          4,
          7,
          14,
          6,
          9,
          7,
          4,
          5,
          14,
          9,
          9,
          4,
          4,
          1,
          7,
          1,
          8,
          11,
          4,
          7,
          21,
          7,
          9,
          11,
          7,
          5,
          23,
          3,
          1,
          4,
          2,
          13,
          7,
          13,
          2,
          2,
          3,
          1,
          5,
          6,
          5,
          10,
          3,
          3,
          4,
          3,
          2,
          4,
          19,
          10,
          5,
          7,
          4,
          2,
          1,
          5,
          3,
          4,
          2,
          14,
          6,
          4,
          6,
          6,
          2,
          12,
          1,
          1,
          8,
          3,
          2,
          4,
          2,
          26,
          1,
          4,
          11,
          9,
          9,
          3,
          4,
          5,
          2,
          2,
          1,
          8,
          3,
          1,
          6,
          2,
          8,
          2,
          2,
          1,
          4,
          4,
          6,
          4,
          2,
          5,
          2,
          7,
          3,
          6,
          3,
          6,
          19,
          4,
          1,
          1,
          1,
          2,
          7,
          5,
          5,
          2,
          6,
          4,
          1,
          3,
          13,
          2,
          13,
          2,
          8,
          6,
          9,
          4,
          3,
          11,
          6,
          9,
          72,
          null,
          null,
          null,
          null,
          null,
          null,
          null,
          null,
          null,
          null
         ],
         "yaxis": "y"
        },
        {
         "line": {
          "color": "green",
          "shape": "spline",
          "width": 1
         },
         "mode": "lines",
         "name": "PM",
         "type": "scatter",
         "x": [
          "2022-01-03T00:00:00",
          "2022-01-04T00:00:00",
          "2022-01-05T00:00:00",
          "2022-01-06T00:00:00",
          "2022-01-07T00:00:00",
          "2022-01-10T00:00:00",
          "2022-01-12T00:00:00",
          "2022-01-13T00:00:00",
          "2022-01-14T00:00:00",
          "2022-01-16T00:00:00",
          "2022-01-17T00:00:00",
          "2022-01-18T00:00:00",
          "2022-01-19T00:00:00",
          "2022-01-20T00:00:00",
          "2022-01-21T00:00:00",
          "2022-01-24T00:00:00",
          "2022-01-25T00:00:00",
          "2022-01-26T00:00:00",
          "2022-01-27T00:00:00",
          "2022-01-28T00:00:00",
          "2022-01-31T00:00:00",
          "2022-02-01T00:00:00",
          "2022-02-02T00:00:00",
          "2022-02-03T00:00:00",
          "2022-02-04T00:00:00",
          "2022-02-07T00:00:00",
          "2022-02-08T00:00:00",
          "2022-02-09T00:00:00",
          "2022-02-10T00:00:00",
          "2022-02-11T00:00:00",
          "2022-02-13T00:00:00",
          "2022-02-14T00:00:00",
          "2022-02-15T00:00:00",
          "2022-02-16T00:00:00",
          "2022-02-17T00:00:00",
          "2022-02-18T00:00:00",
          "2022-02-21T00:00:00",
          "2022-02-22T00:00:00",
          "2022-02-23T00:00:00",
          "2022-02-24T00:00:00",
          "2022-02-25T00:00:00",
          "2022-02-28T00:00:00",
          "2022-03-01T00:00:00",
          "2022-03-02T00:00:00",
          "2022-03-03T00:00:00",
          "2022-03-04T00:00:00",
          "2022-03-05T00:00:00",
          "2022-03-07T00:00:00",
          "2022-03-08T00:00:00",
          "2022-03-09T00:00:00",
          "2022-03-11T00:00:00",
          "2022-03-14T00:00:00",
          "2022-03-15T00:00:00",
          "2022-03-16T00:00:00",
          "2022-03-17T00:00:00",
          "2022-03-21T00:00:00",
          "2022-03-23T00:00:00",
          "2022-03-24T00:00:00",
          "2022-03-25T00:00:00",
          "2022-03-28T00:00:00",
          "2022-03-29T00:00:00",
          "2022-03-30T00:00:00",
          "2022-03-31T00:00:00",
          "2022-04-01T00:00:00",
          "2022-04-04T00:00:00",
          "2022-04-05T00:00:00",
          "2022-04-06T00:00:00",
          "2022-04-07T00:00:00",
          "2022-04-08T00:00:00",
          "2022-04-12T00:00:00",
          "2022-04-13T00:00:00",
          "2022-04-14T00:00:00",
          "2022-04-15T00:00:00",
          "2022-04-18T00:00:00",
          "2022-04-19T00:00:00",
          "2022-04-20T00:00:00",
          "2022-04-21T00:00:00",
          "2022-04-22T00:00:00",
          "2022-04-25T00:00:00",
          "2022-04-26T00:00:00",
          "2022-04-29T00:00:00",
          "2022-05-02T00:00:00",
          "2022-05-03T00:00:00",
          "2022-05-04T00:00:00",
          "2022-05-05T00:00:00",
          "2022-05-06T00:00:00",
          "2022-05-08T00:00:00",
          "2022-05-09T00:00:00",
          "2022-05-11T00:00:00",
          "2022-05-13T00:00:00",
          "2022-05-16T00:00:00",
          "2022-05-17T00:00:00",
          "2022-05-19T00:00:00",
          "2022-05-20T00:00:00",
          "2022-05-22T00:00:00",
          "2022-05-23T00:00:00",
          "2022-05-24T00:00:00",
          "2022-05-25T00:00:00",
          "2022-05-26T00:00:00",
          "2022-05-27T00:00:00",
          "2022-05-31T00:00:00",
          "2022-06-01T00:00:00",
          "2022-06-02T00:00:00",
          "2022-06-03T00:00:00",
          "2022-06-06T00:00:00",
          "2022-06-07T00:00:00",
          "2022-06-08T00:00:00",
          "2022-06-09T00:00:00",
          "2022-06-10T00:00:00",
          "2022-06-13T00:00:00",
          "2022-06-14T00:00:00",
          "2022-06-15T00:00:00",
          "2022-06-16T00:00:00",
          "2022-06-17T00:00:00",
          "2022-06-20T00:00:00",
          "2022-06-21T00:00:00",
          "2022-06-22T00:00:00",
          "2022-06-23T00:00:00",
          "2022-06-24T00:00:00",
          "2022-06-27T00:00:00",
          "2022-06-28T00:00:00",
          "2022-06-29T00:00:00",
          "2022-07-05T00:00:00",
          "2022-07-06T00:00:00",
          "2022-07-07T00:00:00",
          "2022-07-08T00:00:00",
          "2022-07-09T00:00:00",
          "2022-07-11T00:00:00",
          "2022-07-12T00:00:00",
          "2022-07-13T00:00:00",
          "2022-07-14T00:00:00",
          "2022-07-15T00:00:00",
          "2022-07-18T00:00:00",
          "2022-07-19T00:00:00",
          "2022-07-20T00:00:00",
          "2022-07-21T00:00:00",
          "2022-07-22T00:00:00",
          "2022-07-25T00:00:00",
          "2022-07-26T00:00:00",
          "2022-07-27T00:00:00",
          "2022-07-28T00:00:00",
          "2022-08-01T00:00:00",
          "2022-08-03T00:00:00",
          "2022-08-04T00:00:00",
          "2022-08-05T00:00:00",
          "2022-08-08T00:00:00",
          "2022-08-09T00:00:00",
          "2022-08-10T00:00:00",
          "2022-08-11T00:00:00",
          "2022-08-12T00:00:00",
          "2022-08-15T00:00:00",
          "2022-08-16T00:00:00",
          "2022-08-17T00:00:00",
          "2022-08-18T00:00:00",
          "2022-08-19T00:00:00",
          "2022-08-22T00:00:00",
          "2022-08-23T00:00:00",
          "2022-08-25T00:00:00",
          "2022-08-26T00:00:00",
          "2022-08-29T00:00:00",
          "2022-08-30T00:00:00",
          "2022-08-31T00:00:00",
          "2022-09-02T00:00:00",
          "2022-09-06T00:00:00",
          "2022-09-08T00:00:00",
          "2022-09-09T00:00:00",
          "2022-09-12T00:00:00",
          "2022-09-13T00:00:00",
          "2022-09-14T00:00:00",
          "2022-09-15T00:00:00",
          "2022-09-16T00:00:00",
          "2022-09-20T00:00:00",
          "2022-09-21T00:00:00",
          "2022-09-22T00:00:00",
          "2022-09-23T00:00:00",
          "2022-09-26T00:00:00",
          "2022-09-27T00:00:00",
          "2022-09-28T00:00:00",
          "2022-09-29T00:00:00",
          "2022-09-30T00:00:00",
          "2022-10-03T00:00:00",
          "2022-10-04T00:00:00",
          "2022-10-05T00:00:00",
          "2022-10-06T00:00:00",
          "2022-10-07T00:00:00",
          "2022-10-10T00:00:00",
          "2022-10-11T00:00:00",
          "2022-10-12T00:00:00",
          "2022-10-13T00:00:00",
          "2022-10-14T00:00:00",
          "2022-10-17T00:00:00",
          "2022-10-18T00:00:00",
          "2022-10-19T00:00:00",
          "2022-10-20T00:00:00",
          "2022-10-21T00:00:00",
          "2022-10-24T00:00:00",
          "2022-10-25T00:00:00",
          "2022-10-26T00:00:00",
          "2022-10-27T00:00:00",
          "2022-10-28T00:00:00",
          "2022-10-31T00:00:00",
          "2022-11-01T00:00:00",
          "2022-11-02T00:00:00",
          "2022-11-03T00:00:00",
          "2022-11-04T00:00:00",
          "2022-11-07T00:00:00",
          "2022-11-09T00:00:00",
          "2022-11-10T00:00:00",
          "2022-11-11T00:00:00",
          "2022-11-15T00:00:00",
          "2022-11-16T00:00:00",
          "2022-11-17T00:00:00",
          "2022-11-18T00:00:00",
          "2022-11-22T00:00:00",
          "2022-11-23T00:00:00",
          "2022-11-28T00:00:00",
          "2022-11-29T00:00:00",
          "2022-11-30T00:00:00",
          "2022-12-01T00:00:00",
          "2022-12-02T00:00:00",
          "2022-12-05T00:00:00",
          "2022-12-06T00:00:00",
          "2022-12-07T00:00:00",
          "2022-12-08T00:00:00",
          "2022-12-09T00:00:00",
          "2022-12-12T00:00:00",
          "2022-12-13T00:00:00",
          "2022-12-14T00:00:00",
          "2022-12-15T00:00:00",
          "2022-12-19T00:00:00",
          "2022-12-21T00:00:00",
          "2022-12-22T00:00:00",
          "2022-12-23T00:00:00",
          "2022-12-25T00:00:00",
          "2022-12-27T00:00:00",
          "2022-12-28T00:00:00",
          "2022-12-29T00:00:00",
          "2022-12-30T00:00:00",
          "2023-01-03T00:00:00",
          "2023-01-04T00:00:00",
          "2023-01-05T00:00:00",
          "2023-01-07T00:00:00",
          "2023-01-09T00:00:00",
          "2023-01-10T00:00:00",
          "2023-01-11T00:00:00",
          "2023-01-13T00:00:00",
          "2023-01-16T00:00:00",
          "2023-01-17T00:00:00",
          "2023-01-18T00:00:00",
          "2023-01-19T00:00:00",
          "2023-01-20T00:00:00",
          "2023-01-23T00:00:00",
          "2023-01-24T00:00:00",
          "2023-01-25T00:00:00",
          "2023-01-26T00:00:00",
          "2023-01-27T00:00:00",
          "2023-01-30T00:00:00",
          "2023-01-31T00:00:00",
          "2023-02-01T00:00:00",
          "2023-02-02T00:00:00",
          "2023-02-03T00:00:00",
          "2023-02-06T00:00:00",
          "2023-02-07T00:00:00",
          "2023-02-08T00:00:00",
          "2023-02-10T00:00:00",
          "2023-02-13T00:00:00",
          "2023-02-14T00:00:00",
          "2023-02-15T00:00:00",
          "2023-02-16T00:00:00",
          "2023-02-17T00:00:00",
          "2023-02-21T00:00:00",
          "2023-02-22T00:00:00",
          "2023-02-23T00:00:00",
          "2023-02-24T00:00:00",
          "2023-02-26T00:00:00",
          "2023-02-27T00:00:00",
          "2023-02-28T00:00:00",
          "2023-03-02T00:00:00",
          "2023-03-03T00:00:00",
          "2023-03-06T00:00:00",
          "2023-03-07T00:00:00",
          "2023-03-09T00:00:00",
          "2023-03-10T00:00:00",
          "2023-03-13T00:00:00",
          "2023-03-14T00:00:00",
          "2023-03-15T00:00:00",
          "2023-03-16T00:00:00",
          "2023-03-17T00:00:00",
          "2023-03-19T00:00:00",
          "2023-03-21T00:00:00",
          "2023-03-22T00:00:00",
          "2023-03-23T00:00:00",
          "2023-03-24T00:00:00",
          "2023-03-26T00:00:00",
          "2023-03-27T00:00:00",
          "2023-03-28T00:00:00",
          "2023-03-29T00:00:00",
          "2023-03-30T00:00:00",
          "2023-03-31T00:00:00",
          "2023-04-03T00:00:00",
          "2023-04-04T00:00:00",
          "2023-04-05T00:00:00",
          "2023-04-06T00:00:00",
          "2023-04-07T00:00:00",
          "2023-04-10T00:00:00",
          "2023-04-11T00:00:00",
          "2023-04-12T00:00:00",
          "2023-04-14T00:00:00",
          "2023-04-17T00:00:00",
          "2023-04-18T00:00:00",
          "2023-04-21T00:00:00",
          "2023-04-24T00:00:00",
          "2023-04-25T00:00:00",
          "2023-04-26T00:00:00",
          "2023-04-27T00:00:00",
          "2023-04-28T00:00:00",
          "2023-05-01T00:00:00",
          "2023-05-02T00:00:00",
          "2023-05-03T00:00:00",
          "2023-05-04T00:00:00",
          "2023-05-08T00:00:00",
          "2023-05-09T00:00:00",
          "2023-05-10T00:00:00",
          "2023-05-11T00:00:00",
          "2023-05-12T00:00:00",
          "2023-05-15T00:00:00",
          "2023-05-16T00:00:00",
          "2023-05-17T00:00:00",
          "2023-05-19T00:00:00",
          "2023-05-20T00:00:00",
          "2023-05-22T00:00:00",
          "2023-05-23T00:00:00",
          "2023-05-24T00:00:00",
          "2023-05-25T00:00:00",
          "2023-05-26T00:00:00",
          "2023-05-30T00:00:00",
          "2023-05-31T00:00:00",
          "2023-06-02T00:00:00",
          "2023-06-05T00:00:00",
          "2023-06-06T00:00:00",
          "2023-06-07T00:00:00",
          "2023-06-08T00:00:00",
          "2023-06-09T00:00:00",
          "2023-06-12T00:00:00",
          "2023-06-13T00:00:00",
          "2023-06-14T00:00:00",
          "2023-06-15T00:00:00",
          "2023-06-16T00:00:00",
          "2023-06-19T00:00:00",
          "2023-06-20T00:00:00",
          "2023-06-21T00:00:00",
          "2023-06-22T00:00:00",
          "2023-06-23T00:00:00",
          "2023-06-26T00:00:00",
          "2023-06-27T00:00:00",
          "2023-06-29T00:00:00",
          "2023-06-30T00:00:00",
          "2023-07-03T00:00:00",
          "2023-07-05T00:00:00",
          "2023-07-06T00:00:00",
          "2023-07-10T00:00:00",
          "2023-07-11T00:00:00",
          "2023-07-12T00:00:00",
          "2023-07-13T00:00:00",
          "2023-07-14T00:00:00",
          "2023-07-17T00:00:00",
          "2023-07-18T00:00:00",
          "2023-07-19T00:00:00",
          "2023-07-20T00:00:00",
          "2023-07-21T00:00:00",
          "2023-07-23T00:00:00",
          "2023-07-24T00:00:00",
          "2023-07-26T00:00:00",
          "2023-07-27T00:00:00",
          "2023-07-28T00:00:00",
          "2023-07-31T00:00:00",
          "2023-08-01T00:00:00",
          "2023-08-02T00:00:00",
          "2023-08-03T00:00:00",
          "2023-08-04T00:00:00",
          "2023-08-07T00:00:00",
          "2023-08-08T00:00:00",
          "2023-08-09T00:00:00",
          "2023-08-10T00:00:00",
          "2023-08-11T00:00:00",
          "2023-08-12T00:00:00",
          "2023-08-14T00:00:00",
          "2023-08-15T00:00:00",
          "2023-08-16T00:00:00",
          "2023-08-17T00:00:00",
          "2023-08-18T00:00:00",
          "2023-08-21T00:00:00",
          "2023-08-23T00:00:00",
          "2023-08-24T00:00:00",
          "2023-08-25T00:00:00",
          "2023-08-28T00:00:00",
          "2023-08-29T00:00:00",
          "2023-08-30T00:00:00",
          "2023-09-01T00:00:00",
          "2023-09-04T00:00:00",
          "2023-09-05T00:00:00",
          "2023-09-07T00:00:00",
          "2023-09-08T00:00:00",
          "2023-09-11T00:00:00",
          "2023-09-12T00:00:00",
          "2023-09-13T00:00:00",
          "2023-09-14T00:00:00",
          "2023-09-15T00:00:00",
          "2023-09-18T00:00:00",
          "2023-09-19T00:00:00",
          "2023-09-20T00:00:00",
          "2023-09-22T00:00:00",
          "2023-09-25T00:00:00",
          "2023-09-26T00:00:00",
          "2023-09-27T00:00:00",
          "2023-09-29T00:00:00",
          "2023-10-03T00:00:00",
          "2023-10-04T00:00:00",
          "2023-10-05T00:00:00",
          "2023-10-06T00:00:00",
          "2023-10-09T00:00:00",
          "2023-10-10T00:00:00",
          "2023-10-11T00:00:00",
          "2023-10-12T00:00:00",
          "2023-10-13T00:00:00",
          "2023-10-16T00:00:00",
          "2023-10-17T00:00:00",
          "2023-10-18T00:00:00",
          "2023-10-20T00:00:00",
          "2023-10-23T00:00:00",
          "2023-10-24T00:00:00",
          "2023-10-25T00:00:00",
          "2023-10-30T00:00:00",
          "2023-10-31T00:00:00",
          "2023-11-01T00:00:00",
          "2023-11-02T00:00:00",
          "2023-11-03T00:00:00",
          "2023-11-04T00:00:00",
          "2023-11-06T00:00:00",
          "2023-11-07T00:00:00",
          "2023-11-08T00:00:00",
          "2023-11-09T00:00:00",
          "2023-11-10T00:00:00",
          "2023-11-13T00:00:00",
          "2023-11-14T00:00:00",
          "2023-11-15T00:00:00",
          "2023-11-16T00:00:00",
          "2023-11-17T00:00:00",
          "2023-11-20T00:00:00",
          "2023-11-21T00:00:00",
          "2023-11-22T00:00:00",
          "2023-11-23T00:00:00",
          "2023-11-28T00:00:00",
          "2023-11-30T00:00:00",
          "2023-12-01T00:00:00",
          "2023-12-02T00:00:00",
          "2023-12-05T00:00:00",
          "2023-12-06T00:00:00",
          "2023-12-07T00:00:00",
          "2023-12-08T00:00:00",
          "2023-12-11T00:00:00",
          "2023-12-12T00:00:00",
          "2023-12-13T00:00:00",
          "2023-12-15T00:00:00",
          "2023-12-19T00:00:00",
          "2023-12-21T00:00:00",
          "2023-12-22T00:00:00",
          "2023-12-25T00:00:00",
          "2023-12-27T00:00:00",
          "2023-12-29T00:00:00",
          "2024-01-02T00:00:00",
          "2024-01-03T00:00:00",
          "2024-01-04T00:00:00",
          "2024-01-05T00:00:00",
          "2024-01-06T00:00:00",
          "2024-01-08T00:00:00",
          "2024-01-09T00:00:00",
          "2024-01-10T00:00:00",
          "2024-01-11T00:00:00",
          "2024-01-12T00:00:00",
          "2024-01-15T00:00:00",
          "2024-01-16T00:00:00",
          "2024-01-17T00:00:00",
          "2024-01-18T00:00:00",
          "2024-01-19T00:00:00",
          "2024-01-22T00:00:00",
          "2024-01-23T00:00:00",
          "2024-01-24T00:00:00",
          "2024-01-25T00:00:00",
          "2024-01-29T00:00:00",
          "2024-01-30T00:00:00",
          "2024-02-01T00:00:00",
          "2024-02-02T00:00:00",
          "2024-02-05T00:00:00",
          "2024-02-06T00:00:00",
          "2024-02-07T00:00:00",
          "2024-02-08T00:00:00",
          "2024-02-09T00:00:00",
          "2024-02-13T00:00:00",
          "2024-02-14T00:00:00",
          "2024-02-22T00:00:00",
          "2024-02-23T00:00:00",
          "2024-02-26T00:00:00",
          "2024-02-27T00:00:00",
          "2024-02-28T00:00:00",
          "2024-02-29T00:00:00",
          "2024-03-01T00:00:00",
          "2024-03-02T00:00:00",
          "2024-03-04T00:00:00",
          "2024-03-05T00:00:00",
          "2024-03-06T00:00:00",
          "2024-03-07T00:00:00",
          "2024-03-08T00:00:00",
          "2024-03-11T00:00:00",
          "2024-03-12T00:00:00",
          "2024-03-13T00:00:00",
          "2024-03-14T00:00:00",
          "2024-03-18T00:00:00",
          "2024-03-19T00:00:00",
          "2024-03-20T00:00:00",
          "2024-03-22T00:00:00",
          "2024-03-25T00:00:00",
          "2024-03-26T00:00:00",
          "2024-03-27T00:00:00",
          "2024-03-28T00:00:00",
          "2024-03-29T00:00:00",
          "2024-04-01T00:00:00",
          "2024-04-02T00:00:00",
          "2024-04-03T00:00:00",
          "2024-04-04T00:00:00",
          "2024-04-05T00:00:00",
          "2024-04-11T00:00:00",
          "2024-04-12T00:00:00",
          "2024-04-15T00:00:00",
          "2024-04-16T00:00:00",
          "2024-04-17T00:00:00",
          "2024-04-18T00:00:00",
          "2024-04-19T00:00:00",
          "2024-04-22T00:00:00",
          "2024-04-23T00:00:00",
          "2024-04-25T00:00:00",
          "2024-04-29T00:00:00",
          "2024-04-30T00:00:00",
          "2024-05-01T00:00:00",
          "2024-05-02T00:00:00",
          "2024-05-03T00:00:00",
          "2024-05-06T00:00:00",
          "2024-05-07T00:00:00",
          "2024-05-08T00:00:00",
          "2024-05-09T00:00:00",
          "2024-05-10T00:00:00",
          "2024-05-13T00:00:00",
          "2024-05-14T00:00:00",
          "2024-05-15T00:00:00",
          "2024-05-16T00:00:00",
          "2024-05-17T00:00:00",
          "2024-05-20T00:00:00",
          "2024-05-21T00:00:00",
          "2024-05-22T00:00:00",
          "2024-05-23T00:00:00",
          "2024-05-24T00:00:00",
          "2024-05-27T00:00:00",
          "2024-05-28T00:00:00",
          "2024-05-29T00:00:00",
          "2024-05-30T00:00:00",
          "2024-06-03T00:00:00",
          "2024-06-04T00:00:00",
          "2024-06-05T00:00:00",
          "2024-06-06T00:00:00",
          "2024-06-07T00:00:00",
          "2024-06-10T00:00:00",
          "2024-06-12T00:00:00",
          "2024-06-13T00:00:00",
          "2024-06-14T00:00:00",
          "2024-06-17T00:00:00",
          "2024-06-18T00:00:00",
          "2024-06-19T00:00:00",
          "2024-06-20T00:00:00",
          "2024-06-21T00:00:00",
          "2024-06-24T00:00:00",
          "2024-06-25T00:00:00",
          "2024-06-26T00:00:00",
          "2024-06-27T00:00:00",
          "2024-06-28T00:00:00",
          "2024-07-01T00:00:00",
          "2024-07-02T00:00:00",
          "2024-07-03T00:00:00",
          "2024-07-05T00:00:00",
          "2024-07-07T00:00:00",
          "2024-07-08T00:00:00",
          "2024-07-10T00:00:00",
          "2024-07-11T00:00:00",
          "2024-07-12T00:00:00",
          "2024-07-15T00:00:00",
          "2024-07-16T00:00:00",
          "2024-07-17T00:00:00",
          "2024-07-19T00:00:00",
          "2024-07-22T00:00:00",
          "2024-07-23T00:00:00",
          "2024-07-24T00:00:00",
          "2024-07-25T00:00:00",
          "2024-07-26T00:00:00",
          "2024-07-29T00:00:00",
          "2024-07-31T00:00:00",
          "2024-08-01T00:00:00",
          "2024-08-02T00:00:00",
          "2024-08-05T00:00:00",
          "2024-08-06T00:00:00",
          "2024-08-07T00:00:00",
          "2024-08-08T00:00:00",
          "2024-08-12T00:00:00",
          "2024-08-13T00:00:00",
          "2024-08-14T00:00:00",
          "2024-08-15T00:00:00",
          "2024-08-16T00:00:00",
          "2024-08-17T00:00:00",
          "2024-08-19T00:00:00",
          "2024-08-20T00:00:00",
          "2024-08-21T00:00:00",
          "2024-08-22T00:00:00",
          "2024-08-23T00:00:00",
          "2024-08-26T00:00:00",
          "2024-08-27T00:00:00",
          "2024-08-28T00:00:00",
          "2024-08-29T00:00:00",
          "2024-08-30T00:00:00",
          "2024-09-03T00:00:00",
          "2024-09-04T00:00:00",
          "2024-09-05T00:00:00",
          "2024-09-06T00:00:00",
          "2024-09-09T00:00:00",
          "2024-09-10T00:00:00",
          "2024-09-11T00:00:00",
          "2024-09-12T00:00:00",
          "2024-09-16T00:00:00",
          "2024-09-17T00:00:00",
          "2024-09-18T00:00:00",
          "2024-09-19T00:00:00",
          "2024-09-20T00:00:00",
          "2024-09-24T00:00:00",
          "2024-09-26T00:00:00",
          "2024-09-28T00:00:00",
          "2024-09-30T00:00:00",
          "2024-10-01T00:00:00",
          "2024-10-02T00:00:00",
          "2024-10-03T00:00:00",
          "2024-10-04T00:00:00",
          "2024-10-07T00:00:00",
          "2024-10-08T00:00:00",
          "2024-10-09T00:00:00",
          "2024-10-10T00:00:00",
          "2024-10-11T00:00:00",
          "2024-10-15T00:00:00",
          "2024-10-16T00:00:00",
          "2024-10-17T00:00:00",
          "2024-10-21T00:00:00",
          "2024-10-23T00:00:00",
          "2024-10-24T00:00:00",
          "2024-10-25T00:00:00",
          "2024-10-26T00:00:00",
          "2024-10-28T00:00:00",
          "2024-10-29T00:00:00",
          "2024-10-30T00:00:00",
          "2024-10-31T00:00:00",
          "2024-11-01T00:00:00",
          "2024-11-04T00:00:00",
          "2024-11-05T00:00:00",
          "2024-11-07T00:00:00",
          "2024-11-08T00:00:00",
          "2024-11-11T00:00:00",
          "2024-11-15T00:00:00",
          "2024-11-18T00:00:00",
          "2024-11-19T00:00:00",
          "2024-11-20T00:00:00",
          "2024-11-24T00:00:00",
          "2024-11-25T00:00:00",
          "2024-11-26T00:00:00",
          "2024-11-27T00:00:00",
          "2024-12-02T00:00:00",
          "2024-12-03T00:00:00",
          "2024-12-04T00:00:00",
          "2024-12-05T00:00:00",
          "2024-12-06T00:00:00",
          "2024-12-07T00:00:00",
          "2024-12-10T00:00:00",
          "2024-12-11T00:00:00",
          "2024-12-13T00:00:00",
          "2024-12-16T00:00:00",
          "2024-12-18T00:00:00",
          "2024-12-20T00:00:00",
          "2024-12-23T00:00:00",
          "2024-12-26T00:00:00",
          "2024-12-27T00:00:00",
          "2024-12-30T00:00:00",
          "2025-01-02T00:00:00",
          "2025-01-03T00:00:00",
          "2025-01-06T00:00:00",
          "2025-01-07T00:00:00",
          "2025-01-08T00:00:00",
          "2025-01-10T00:00:00",
          "2025-01-13T00:00:00",
          "2025-01-14T00:00:00",
          "2025-01-15T00:00:00",
          "2025-01-16T00:00:00",
          "2025-01-17T00:00:00",
          "2025-01-21T00:00:00",
          "2025-01-22T00:00:00",
          "2025-01-23T00:00:00",
          "2025-01-24T00:00:00",
          "2025-01-27T00:00:00",
          "2025-01-28T00:00:00",
          "2025-01-29T00:00:00",
          "2025-01-31T00:00:00",
          "2025-02-04T00:00:00",
          "2025-02-05T00:00:00",
          "2025-02-06T00:00:00"
         ],
         "xaxis": "x2",
         "y": [
          8,
          7,
          6,
          6,
          2,
          8,
          11,
          12,
          19,
          1,
          1,
          5,
          10,
          13,
          6,
          9,
          4,
          5,
          10,
          5,
          2,
          2,
          26,
          11,
          15,
          13,
          4,
          12,
          8,
          4,
          1,
          11,
          5,
          3,
          5,
          9,
          4,
          1,
          24,
          17,
          8,
          18,
          9,
          2,
          4,
          6,
          2,
          4,
          1,
          2,
          16,
          5,
          3,
          5,
          4,
          18,
          1,
          3,
          4,
          6,
          3,
          6,
          1,
          3,
          5,
          14,
          4,
          4,
          2,
          2,
          6,
          26,
          4,
          3,
          6,
          10,
          5,
          6,
          4,
          8,
          8,
          4,
          6,
          4,
          3,
          8,
          2,
          3,
          2,
          4,
          11,
          31,
          2,
          17,
          2,
          3,
          3,
          8,
          3,
          1,
          8,
          2,
          1,
          1,
          3,
          6,
          10,
          12,
          6,
          2,
          3,
          2,
          8,
          14,
          5,
          1,
          3,
          11,
          4,
          36,
          1,
          5,
          15,
          1,
          2,
          9,
          2,
          4,
          2,
          2,
          20,
          6,
          1,
          6,
          19,
          13,
          8,
          1,
          4,
          3,
          2,
          3,
          1,
          6,
          null,
          6,
          3,
          5,
          6,
          1,
          12,
          7,
          5,
          9,
          21,
          2,
          6,
          9,
          3,
          3,
          1,
          30,
          21,
          2,
          14,
          1,
          5,
          5,
          10,
          9,
          6,
          13,
          11,
          5,
          null,
          2,
          5,
          1,
          5,
          4,
          3,
          3,
          2,
          15,
          5,
          2,
          3,
          1,
          15,
          4,
          7,
          2,
          9,
          31,
          3,
          20,
          4,
          7,
          9,
          16,
          7,
          2,
          36,
          6,
          14,
          3,
          16,
          6,
          16,
          3,
          4,
          5,
          2,
          2,
          2,
          2,
          2,
          null,
          4,
          2,
          6,
          1,
          19,
          1,
          4,
          1,
          5,
          10,
          9,
          1,
          4,
          12,
          2,
          1,
          2,
          5,
          1,
          2,
          2,
          8,
          1,
          2,
          2,
          6,
          7,
          3,
          2,
          2,
          10,
          3,
          2,
          9,
          13,
          30,
          2,
          17,
          3,
          2,
          8,
          3,
          3,
          1,
          1,
          4,
          1,
          7,
          6,
          1,
          4,
          2,
          16,
          14,
          1,
          3,
          1,
          5,
          1,
          5,
          10,
          11,
          2,
          5,
          8,
          1,
          2,
          4,
          1,
          6,
          12,
          4,
          2,
          16,
          5,
          6,
          12,
          4,
          1,
          4,
          1,
          2,
          3,
          2,
          6,
          2,
          5,
          7,
          4,
          7,
          1,
          2,
          5,
          1,
          11,
          3,
          11,
          14,
          1,
          4,
          2,
          11,
          2,
          4,
          5,
          25,
          4,
          4,
          8,
          4,
          3,
          4,
          8,
          5,
          1,
          11,
          6,
          9,
          2,
          4,
          2,
          7,
          13,
          1,
          7,
          4,
          4,
          1,
          2,
          21,
          28,
          5,
          2,
          9,
          1,
          3,
          15,
          11,
          14,
          4,
          7,
          14,
          6,
          9,
          7,
          4,
          5,
          14,
          9,
          9,
          4,
          4,
          1,
          7,
          1,
          8,
          11,
          4,
          7,
          21,
          7,
          9,
          11,
          7,
          5,
          23,
          3,
          1,
          4,
          2,
          13,
          7,
          13,
          2,
          2,
          3,
          1,
          5,
          6,
          5,
          10,
          3,
          3,
          4,
          3,
          2,
          4,
          19,
          10,
          5,
          7,
          4,
          2,
          1,
          5,
          3,
          4,
          2,
          14,
          6,
          4,
          6,
          6,
          2,
          12,
          1,
          1,
          8,
          3,
          2,
          4,
          2,
          26,
          1,
          4,
          11,
          9,
          9,
          3,
          4,
          5,
          2,
          2,
          1,
          8,
          3,
          1,
          6,
          2,
          8,
          2,
          2,
          1,
          4,
          4,
          6,
          4,
          2,
          5,
          2,
          7,
          3,
          6,
          3,
          6,
          19,
          4,
          1,
          1,
          1,
          2,
          7,
          5,
          5,
          2,
          6,
          4,
          1,
          3,
          13,
          2,
          13,
          2,
          8,
          6,
          9,
          4,
          3,
          11,
          6,
          9,
          72,
          null,
          null,
          null,
          null,
          null,
          null,
          null,
          null,
          null,
          null,
          4,
          6,
          2,
          5,
          9,
          3,
          1,
          5,
          2,
          6,
          2,
          9,
          7,
          3,
          3,
          3,
          1,
          4,
          9,
          1,
          4,
          3,
          6,
          5,
          3,
          14,
          10,
          9,
          4,
          9,
          6,
          14,
          6,
          4,
          2,
          4,
          10,
          10,
          2,
          4,
          2,
          9,
          14,
          2,
          3,
          4,
          2,
          2,
          5,
          3,
          7,
          4,
          6,
          4,
          8,
          23,
          9,
          3,
          8,
          1,
          11,
          2,
          7,
          5,
          1,
          3,
          3,
          6,
          2,
          1,
          4,
          3,
          5,
          7,
          4,
          23,
          7,
          1,
          1,
          2,
          12,
          5,
          2,
          4,
          2,
          2,
          1,
          3,
          2,
          2,
          2,
          3,
          2,
          2,
          4,
          6,
          8,
          2,
          2,
          1,
          6,
          1,
          4,
          8,
          5,
          9,
          6,
          3,
          6,
          3,
          5,
          2,
          15,
          1,
          11,
          1,
          5,
          14,
          7,
          8,
          4,
          8,
          7,
          61,
          1,
          6,
          4,
          5,
          5,
          7,
          5,
          1,
          3,
          2,
          2,
          5,
          2,
          11,
          2,
          10,
          4,
          2,
          2,
          2,
          3,
          1,
          15,
          2,
          9,
          5,
          6,
          8,
          15,
          2,
          3,
          2,
          4,
          2,
          3,
          4,
          7,
          8,
          4,
          4,
          8,
          2,
          11,
          2,
          2,
          3,
          4,
          6,
          4,
          4,
          1,
          1,
          2,
          3,
          13,
          17,
          2,
          1,
          5,
          1,
          1,
          21,
          10,
          6,
          1,
          2,
          7,
          4,
          2,
          2,
          13,
          3,
          4,
          5,
          6,
          5,
          3,
          1,
          3,
          4,
          1,
          4,
          2,
          1,
          3,
          5,
          15,
          2,
          4,
          7,
          3,
          2
         ],
         "yaxis": "y2"
        }
       ],
       "layout": {
        "height": 800,
        "hovermode": "closest",
        "legend": {
         "font": {
          "color": "black",
          "size": 14
         },
         "orientation": "h",
         "x": 0.5,
         "xanchor": "center",
         "y": 1.05
        },
        "plot_bgcolor": "rgba(0, 0, 0, 0)",
        "template": {
         "data": {
          "bar": [
           {
            "error_x": {
             "color": "#2a3f5f"
            },
            "error_y": {
             "color": "#2a3f5f"
            },
            "marker": {
             "line": {
              "color": "white",
              "width": 0.5
             },
             "pattern": {
              "fillmode": "overlay",
              "size": 10,
              "solidity": 0.2
             }
            },
            "type": "bar"
           }
          ],
          "barpolar": [
           {
            "marker": {
             "line": {
              "color": "white",
              "width": 0.5
             },
             "pattern": {
              "fillmode": "overlay",
              "size": 10,
              "solidity": 0.2
             }
            },
            "type": "barpolar"
           }
          ],
          "carpet": [
           {
            "aaxis": {
             "endlinecolor": "#2a3f5f",
             "gridcolor": "#C8D4E3",
             "linecolor": "#C8D4E3",
             "minorgridcolor": "#C8D4E3",
             "startlinecolor": "#2a3f5f"
            },
            "baxis": {
             "endlinecolor": "#2a3f5f",
             "gridcolor": "#C8D4E3",
             "linecolor": "#C8D4E3",
             "minorgridcolor": "#C8D4E3",
             "startlinecolor": "#2a3f5f"
            },
            "type": "carpet"
           }
          ],
          "choropleth": [
           {
            "colorbar": {
             "outlinewidth": 0,
             "ticks": ""
            },
            "type": "choropleth"
           }
          ],
          "contour": [
           {
            "colorbar": {
             "outlinewidth": 0,
             "ticks": ""
            },
            "colorscale": [
             [
              0,
              "#0d0887"
             ],
             [
              0.1111111111111111,
              "#46039f"
             ],
             [
              0.2222222222222222,
              "#7201a8"
             ],
             [
              0.3333333333333333,
              "#9c179e"
             ],
             [
              0.4444444444444444,
              "#bd3786"
             ],
             [
              0.5555555555555556,
              "#d8576b"
             ],
             [
              0.6666666666666666,
              "#ed7953"
             ],
             [
              0.7777777777777778,
              "#fb9f3a"
             ],
             [
              0.8888888888888888,
              "#fdca26"
             ],
             [
              1,
              "#f0f921"
             ]
            ],
            "type": "contour"
           }
          ],
          "contourcarpet": [
           {
            "colorbar": {
             "outlinewidth": 0,
             "ticks": ""
            },
            "type": "contourcarpet"
           }
          ],
          "heatmap": [
           {
            "colorbar": {
             "outlinewidth": 0,
             "ticks": ""
            },
            "colorscale": [
             [
              0,
              "#0d0887"
             ],
             [
              0.1111111111111111,
              "#46039f"
             ],
             [
              0.2222222222222222,
              "#7201a8"
             ],
             [
              0.3333333333333333,
              "#9c179e"
             ],
             [
              0.4444444444444444,
              "#bd3786"
             ],
             [
              0.5555555555555556,
              "#d8576b"
             ],
             [
              0.6666666666666666,
              "#ed7953"
             ],
             [
              0.7777777777777778,
              "#fb9f3a"
             ],
             [
              0.8888888888888888,
              "#fdca26"
             ],
             [
              1,
              "#f0f921"
             ]
            ],
            "type": "heatmap"
           }
          ],
          "heatmapgl": [
           {
            "colorbar": {
             "outlinewidth": 0,
             "ticks": ""
            },
            "colorscale": [
             [
              0,
              "#0d0887"
             ],
             [
              0.1111111111111111,
              "#46039f"
             ],
             [
              0.2222222222222222,
              "#7201a8"
             ],
             [
              0.3333333333333333,
              "#9c179e"
             ],
             [
              0.4444444444444444,
              "#bd3786"
             ],
             [
              0.5555555555555556,
              "#d8576b"
             ],
             [
              0.6666666666666666,
              "#ed7953"
             ],
             [
              0.7777777777777778,
              "#fb9f3a"
             ],
             [
              0.8888888888888888,
              "#fdca26"
             ],
             [
              1,
              "#f0f921"
             ]
            ],
            "type": "heatmapgl"
           }
          ],
          "histogram": [
           {
            "marker": {
             "pattern": {
              "fillmode": "overlay",
              "size": 10,
              "solidity": 0.2
             }
            },
            "type": "histogram"
           }
          ],
          "histogram2d": [
           {
            "colorbar": {
             "outlinewidth": 0,
             "ticks": ""
            },
            "colorscale": [
             [
              0,
              "#0d0887"
             ],
             [
              0.1111111111111111,
              "#46039f"
             ],
             [
              0.2222222222222222,
              "#7201a8"
             ],
             [
              0.3333333333333333,
              "#9c179e"
             ],
             [
              0.4444444444444444,
              "#bd3786"
             ],
             [
              0.5555555555555556,
              "#d8576b"
             ],
             [
              0.6666666666666666,
              "#ed7953"
             ],
             [
              0.7777777777777778,
              "#fb9f3a"
             ],
             [
              0.8888888888888888,
              "#fdca26"
             ],
             [
              1,
              "#f0f921"
             ]
            ],
            "type": "histogram2d"
           }
          ],
          "histogram2dcontour": [
           {
            "colorbar": {
             "outlinewidth": 0,
             "ticks": ""
            },
            "colorscale": [
             [
              0,
              "#0d0887"
             ],
             [
              0.1111111111111111,
              "#46039f"
             ],
             [
              0.2222222222222222,
              "#7201a8"
             ],
             [
              0.3333333333333333,
              "#9c179e"
             ],
             [
              0.4444444444444444,
              "#bd3786"
             ],
             [
              0.5555555555555556,
              "#d8576b"
             ],
             [
              0.6666666666666666,
              "#ed7953"
             ],
             [
              0.7777777777777778,
              "#fb9f3a"
             ],
             [
              0.8888888888888888,
              "#fdca26"
             ],
             [
              1,
              "#f0f921"
             ]
            ],
            "type": "histogram2dcontour"
           }
          ],
          "mesh3d": [
           {
            "colorbar": {
             "outlinewidth": 0,
             "ticks": ""
            },
            "type": "mesh3d"
           }
          ],
          "parcoords": [
           {
            "line": {
             "colorbar": {
              "outlinewidth": 0,
              "ticks": ""
             }
            },
            "type": "parcoords"
           }
          ],
          "pie": [
           {
            "automargin": true,
            "type": "pie"
           }
          ],
          "scatter": [
           {
            "fillpattern": {
             "fillmode": "overlay",
             "size": 10,
             "solidity": 0.2
            },
            "type": "scatter"
           }
          ],
          "scatter3d": [
           {
            "line": {
             "colorbar": {
              "outlinewidth": 0,
              "ticks": ""
             }
            },
            "marker": {
             "colorbar": {
              "outlinewidth": 0,
              "ticks": ""
             }
            },
            "type": "scatter3d"
           }
          ],
          "scattercarpet": [
           {
            "marker": {
             "colorbar": {
              "outlinewidth": 0,
              "ticks": ""
             }
            },
            "type": "scattercarpet"
           }
          ],
          "scattergeo": [
           {
            "marker": {
             "colorbar": {
              "outlinewidth": 0,
              "ticks": ""
             }
            },
            "type": "scattergeo"
           }
          ],
          "scattergl": [
           {
            "marker": {
             "colorbar": {
              "outlinewidth": 0,
              "ticks": ""
             }
            },
            "type": "scattergl"
           }
          ],
          "scattermapbox": [
           {
            "marker": {
             "colorbar": {
              "outlinewidth": 0,
              "ticks": ""
             }
            },
            "type": "scattermapbox"
           }
          ],
          "scatterpolar": [
           {
            "marker": {
             "colorbar": {
              "outlinewidth": 0,
              "ticks": ""
             }
            },
            "type": "scatterpolar"
           }
          ],
          "scatterpolargl": [
           {
            "marker": {
             "colorbar": {
              "outlinewidth": 0,
              "ticks": ""
             }
            },
            "type": "scatterpolargl"
           }
          ],
          "scatterternary": [
           {
            "marker": {
             "colorbar": {
              "outlinewidth": 0,
              "ticks": ""
             }
            },
            "type": "scatterternary"
           }
          ],
          "surface": [
           {
            "colorbar": {
             "outlinewidth": 0,
             "ticks": ""
            },
            "colorscale": [
             [
              0,
              "#0d0887"
             ],
             [
              0.1111111111111111,
              "#46039f"
             ],
             [
              0.2222222222222222,
              "#7201a8"
             ],
             [
              0.3333333333333333,
              "#9c179e"
             ],
             [
              0.4444444444444444,
              "#bd3786"
             ],
             [
              0.5555555555555556,
              "#d8576b"
             ],
             [
              0.6666666666666666,
              "#ed7953"
             ],
             [
              0.7777777777777778,
              "#fb9f3a"
             ],
             [
              0.8888888888888888,
              "#fdca26"
             ],
             [
              1,
              "#f0f921"
             ]
            ],
            "type": "surface"
           }
          ],
          "table": [
           {
            "cells": {
             "fill": {
              "color": "#EBF0F8"
             },
             "line": {
              "color": "white"
             }
            },
            "header": {
             "fill": {
              "color": "#C8D4E3"
             },
             "line": {
              "color": "white"
             }
            },
            "type": "table"
           }
          ]
         },
         "layout": {
          "annotationdefaults": {
           "arrowcolor": "#2a3f5f",
           "arrowhead": 0,
           "arrowwidth": 1
          },
          "autotypenumbers": "strict",
          "coloraxis": {
           "colorbar": {
            "outlinewidth": 0,
            "ticks": ""
           }
          },
          "colorscale": {
           "diverging": [
            [
             0,
             "#8e0152"
            ],
            [
             0.1,
             "#c51b7d"
            ],
            [
             0.2,
             "#de77ae"
            ],
            [
             0.3,
             "#f1b6da"
            ],
            [
             0.4,
             "#fde0ef"
            ],
            [
             0.5,
             "#f7f7f7"
            ],
            [
             0.6,
             "#e6f5d0"
            ],
            [
             0.7,
             "#b8e186"
            ],
            [
             0.8,
             "#7fbc41"
            ],
            [
             0.9,
             "#4d9221"
            ],
            [
             1,
             "#276419"
            ]
           ],
           "sequential": [
            [
             0,
             "#0d0887"
            ],
            [
             0.1111111111111111,
             "#46039f"
            ],
            [
             0.2222222222222222,
             "#7201a8"
            ],
            [
             0.3333333333333333,
             "#9c179e"
            ],
            [
             0.4444444444444444,
             "#bd3786"
            ],
            [
             0.5555555555555556,
             "#d8576b"
            ],
            [
             0.6666666666666666,
             "#ed7953"
            ],
            [
             0.7777777777777778,
             "#fb9f3a"
            ],
            [
             0.8888888888888888,
             "#fdca26"
            ],
            [
             1,
             "#f0f921"
            ]
           ],
           "sequentialminus": [
            [
             0,
             "#0d0887"
            ],
            [
             0.1111111111111111,
             "#46039f"
            ],
            [
             0.2222222222222222,
             "#7201a8"
            ],
            [
             0.3333333333333333,
             "#9c179e"
            ],
            [
             0.4444444444444444,
             "#bd3786"
            ],
            [
             0.5555555555555556,
             "#d8576b"
            ],
            [
             0.6666666666666666,
             "#ed7953"
            ],
            [
             0.7777777777777778,
             "#fb9f3a"
            ],
            [
             0.8888888888888888,
             "#fdca26"
            ],
            [
             1,
             "#f0f921"
            ]
           ]
          },
          "colorway": [
           "#636efa",
           "#EF553B",
           "#00cc96",
           "#ab63fa",
           "#FFA15A",
           "#19d3f3",
           "#FF6692",
           "#B6E880",
           "#FF97FF",
           "#FECB52"
          ],
          "font": {
           "color": "#2a3f5f"
          },
          "geo": {
           "bgcolor": "white",
           "lakecolor": "white",
           "landcolor": "white",
           "showlakes": true,
           "showland": true,
           "subunitcolor": "#C8D4E3"
          },
          "hoverlabel": {
           "align": "left"
          },
          "hovermode": "closest",
          "mapbox": {
           "style": "light"
          },
          "paper_bgcolor": "white",
          "plot_bgcolor": "white",
          "polar": {
           "angularaxis": {
            "gridcolor": "#EBF0F8",
            "linecolor": "#EBF0F8",
            "ticks": ""
           },
           "bgcolor": "white",
           "radialaxis": {
            "gridcolor": "#EBF0F8",
            "linecolor": "#EBF0F8",
            "ticks": ""
           }
          },
          "scene": {
           "xaxis": {
            "backgroundcolor": "white",
            "gridcolor": "#DFE8F3",
            "gridwidth": 2,
            "linecolor": "#EBF0F8",
            "showbackground": true,
            "ticks": "",
            "zerolinecolor": "#EBF0F8"
           },
           "yaxis": {
            "backgroundcolor": "white",
            "gridcolor": "#DFE8F3",
            "gridwidth": 2,
            "linecolor": "#EBF0F8",
            "showbackground": true,
            "ticks": "",
            "zerolinecolor": "#EBF0F8"
           },
           "zaxis": {
            "backgroundcolor": "white",
            "gridcolor": "#DFE8F3",
            "gridwidth": 2,
            "linecolor": "#EBF0F8",
            "showbackground": true,
            "ticks": "",
            "zerolinecolor": "#EBF0F8"
           }
          },
          "shapedefaults": {
           "line": {
            "color": "#2a3f5f"
           }
          },
          "ternary": {
           "aaxis": {
            "gridcolor": "#DFE8F3",
            "linecolor": "#A2B1C6",
            "ticks": ""
           },
           "baxis": {
            "gridcolor": "#DFE8F3",
            "linecolor": "#A2B1C6",
            "ticks": ""
           },
           "bgcolor": "white",
           "caxis": {
            "gridcolor": "#DFE8F3",
            "linecolor": "#A2B1C6",
            "ticks": ""
           }
          },
          "title": {
           "x": 0.05
          },
          "xaxis": {
           "automargin": true,
           "gridcolor": "#EBF0F8",
           "linecolor": "#EBF0F8",
           "ticks": "",
           "title": {
            "standoff": 15
           },
           "zerolinecolor": "#EBF0F8",
           "zerolinewidth": 2
          },
          "yaxis": {
           "automargin": true,
           "gridcolor": "#EBF0F8",
           "linecolor": "#EBF0F8",
           "ticks": "",
           "title": {
            "standoff": 15
           },
           "zerolinecolor": "#EBF0F8",
           "zerolinewidth": 2
          }
         }
        },
        "title": {
         "font": {
          "color": "black",
          "size": 15
         },
         "text": "REVISED HISTORICAL DATA of ATT.100083026"
        },
        "width": 1100,
        "xaxis": {
         "anchor": "y",
         "autorange": true,
         "domain": [
          0,
          1
         ],
         "linecolor": "black",
         "linewidth": 3,
         "matches": "x2",
         "mirror": true,
         "range": [
          "2022-01-03",
          "2025-02-06"
         ],
         "showgrid": false,
         "showline": true,
         "showticklabels": false,
         "ticklabelstep": 1,
         "title": {
          "text": "Date"
         },
         "type": "date"
        },
        "xaxis2": {
         "anchor": "y2",
         "autorange": true,
         "domain": [
          0,
          1
         ],
         "range": [
          "2022-01-03",
          "2025-02-06"
         ],
         "showgrid": false,
         "type": "date"
        },
        "yaxis": {
         "anchor": "x",
         "autorange": true,
         "domain": [
          0.55,
          1
         ],
         "linecolor": "black",
         "linewidth": 3,
         "mirror": true,
         "range": [
          -26.722222222222225,
          527.7222222222222
         ],
         "showgrid": false,
         "showline": true,
         "title": {
          "text": "Historical Data"
         },
         "type": "linear"
        },
        "yaxis2": {
         "anchor": "x2",
         "autorange": true,
         "domain": [
          0,
          0.45
         ],
         "range": [
          -2.9444444444444446,
          75.94444444444444
         ],
         "showgrid": false,
         "type": "linear"
        }
       }
      },
      "image/png": "[encoded data removed]",
      "text/html": [
       "<div>                            <div id=\"35f5c1b8-d888-47f9-9d9b-a310c1b96caf\" class=\"plotly-graph-div\" style=\"height:800px; width:1100px;\"></div>            <script type=\"text/javascript\">                require([\"plotly\"], function(Plotly) {                    window.PLOTLYENV=window.PLOTLYENV || {};                                    if (document.getElementById(\"35f5c1b8-d888-47f9-9d9b-a310c1b96caf\")) {                    Plotly.newPlot(                        \"35f5c1b8-d888-47f9-9d9b-a310c1b96caf\",                        [{\"line\":{\"color\":\"orange\",\"dash\":\"solid\",\"shape\":\"spline\",\"width\":1},\"mode\":\"lines\",\"name\":\"PO\",\"x\":[\"2022-02-01T00:00:00\",\"2022-02-28T00:00:00\",\"2022-05-25T00:00:00\",\"2022-07-15T00:00:00\",\"2022-09-16T00:00:00\",\"2022-11-13T00:00:00\",\"2022-12-15T00:00:00\",\"2023-02-23T00:00:00\",\"2023-07-10T00:00:00\",\"2023-09-21T00:00:00\",\"2023-12-18T00:00:00\",\"2024-02-22T00:00:00\",\"2024-02-23T00:00:00\",\"2024-02-26T00:00:00\",\"2024-02-27T00:00:00\",\"2024-02-28T00:00:00\",\"2024-02-29T00:00:00\",\"2024-03-01T00:00:00\",\"2024-03-02T00:00:00\",\"2024-03-04T00:00:00\",\"2024-03-05T00:00:00\",\"2024-03-06T00:00:00\",\"2024-03-07T00:00:00\",\"2024-03-08T00:00:00\",\"2024-03-11T00:00:00\",\"2024-03-12T00:00:00\",\"2024-03-13T00:00:00\",\"2024-03-14T00:00:00\",\"2024-03-18T00:00:00\",\"2024-03-19T00:00:00\",\"2024-03-20T00:00:00\",\"2024-03-22T00:00:00\",\"2024-03-25T00:00:00\",\"2024-03-26T00:00:00\",\"2024-03-27T00:00:00\",\"2024-03-28T00:00:00\",\"2024-03-29T00:00:00\",\"2024-04-01T00:00:00\",\"2024-04-02T00:00:00\",\"2024-04-03T00:00:00\",\"2024-04-04T00:00:00\",\"2024-04-05T00:00:00\",\"2024-04-11T00:00:00\",\"2024-04-12T00:00:00\",\"2024-04-15T00:00:00\",\"2024-04-16T00:00:00\",\"2024-04-17T00:00:00\",\"2024-04-18T00:00:00\",\"2024-04-19T00:00:00\",\"2024-04-22T00:00:00\",\"2024-04-23T00:00:00\",\"2024-04-25T00:00:00\",\"2024-04-29T00:00:00\",\"2024-04-30T00:00:00\",\"2024-05-01T00:00:00\",\"2024-05-02T00:00:00\",\"2024-05-03T00:00:00\",\"2024-05-06T00:00:00\",\"2024-05-07T00:00:00\",\"2024-05-08T00:00:00\",\"2024-05-09T00:00:00\",\"2024-05-10T00:00:00\",\"2024-05-13T00:00:00\",\"2024-05-14T00:00:00\",\"2024-05-15T00:00:00\",\"2024-05-16T00:00:00\",\"2024-05-17T00:00:00\",\"2024-05-20T00:00:00\",\"2024-05-21T00:00:00\",\"2024-05-22T00:00:00\",\"2024-05-23T00:00:00\",\"2024-05-24T00:00:00\",\"2024-05-27T00:00:00\",\"2024-05-28T00:00:00\",\"2024-05-29T00:00:00\",\"2024-05-30T00:00:00\",\"2024-06-03T00:00:00\",\"2024-06-04T00:00:00\",\"2024-06-05T00:00:00\",\"2024-06-06T00:00:00\",\"2024-06-07T00:00:00\",\"2024-06-10T00:00:00\",\"2024-06-12T00:00:00\",\"2024-06-13T00:00:00\",\"2024-06-14T00:00:00\",\"2024-06-17T00:00:00\",\"2024-06-18T00:00:00\",\"2024-06-19T00:00:00\",\"2024-06-20T00:00:00\",\"2024-06-21T00:00:00\",\"2024-06-24T00:00:00\",\"2024-06-25T00:00:00\",\"2024-06-26T00:00:00\",\"2024-06-27T00:00:00\",\"2024-06-28T00:00:00\",\"2024-07-01T00:00:00\",\"2024-07-02T00:00:00\",\"2024-07-03T00:00:00\",\"2024-07-05T00:00:00\",\"2024-07-07T00:00:00\",\"2024-07-08T00:00:00\",\"2024-07-10T00:00:00\",\"2024-07-11T00:00:00\",\"2024-07-12T00:00:00\",\"2024-07-15T00:00:00\",\"2024-07-16T00:00:00\",\"2024-07-17T00:00:00\",\"2024-07-19T00:00:00\",\"2024-07-22T00:00:00\",\"2024-07-23T00:00:00\",\"2024-07-24T00:00:00\",\"2024-07-25T00:00:00\",\"2024-07-26T00:00:00\",\"2024-07-29T00:00:00\",\"2024-07-31T00:00:00\",\"2024-08-01T00:00:00\",\"2024-08-02T00:00:00\",\"2024-08-05T00:00:00\",\"2024-08-06T00:00:00\",\"2024-08-07T00:00:00\",\"2024-08-08T00:00:00\",\"2024-08-12T00:00:00\",\"2024-08-13T00:00:00\",\"2024-08-14T00:00:00\",\"2024-08-15T00:00:00\",\"2024-08-16T00:00:00\",\"2024-08-17T00:00:00\",\"2024-08-19T00:00:00\",\"2024-08-20T00:00:00\",\"2024-08-21T00:00:00\",\"2024-08-22T00:00:00\",\"2024-08-23T00:00:00\",\"2024-08-26T00:00:00\",\"2024-08-27T00:00:00\",\"2024-08-28T00:00:00\",\"2024-08-29T00:00:00\",\"2024-08-30T00:00:00\",\"2024-09-03T00:00:00\",\"2024-09-04T00:00:00\",\"2024-09-05T00:00:00\",\"2024-09-06T00:00:00\",\"2024-09-09T00:00:00\",\"2024-09-10T00:00:00\",\"2024-09-11T00:00:00\",\"2024-09-12T00:00:00\",\"2024-09-16T00:00:00\",\"2024-09-17T00:00:00\",\"2024-09-18T00:00:00\",\"2024-09-19T00:00:00\",\"2024-09-20T00:00:00\",\"2024-09-24T00:00:00\",\"2024-09-26T00:00:00\",\"2024-09-28T00:00:00\",\"2024-09-30T00:00:00\",\"2024-10-01T00:00:00\",\"2024-10-02T00:00:00\",\"2024-10-03T00:00:00\",\"2024-10-04T00:00:00\",\"2024-10-07T00:00:00\",\"2024-10-08T00:00:00\",\"2024-10-09T00:00:00\",\"2024-10-10T00:00:00\",\"2024-10-11T00:00:00\",\"2024-10-15T00:00:00\",\"2024-10-16T00:00:00\",\"2024-10-17T00:00:00\",\"2024-10-21T00:00:00\",\"2024-10-23T00:00:00\",\"2024-10-24T00:00:00\",\"2024-10-25T00:00:00\",\"2024-10-26T00:00:00\",\"2024-10-28T00:00:00\",\"2024-10-29T00:00:00\",\"2024-10-30T00:00:00\",\"2024-10-31T00:00:00\",\"2024-11-01T00:00:00\",\"2024-11-04T00:00:00\",\"2024-11-05T00:00:00\",\"2024-11-07T00:00:00\",\"2024-11-08T00:00:00\",\"2024-11-11T00:00:00\",\"2024-11-15T00:00:00\",\"2024-11-18T00:00:00\",\"2024-11-19T00:00:00\",\"2024-11-20T00:00:00\",\"2024-11-24T00:00:00\",\"2024-11-25T00:00:00\",\"2024-11-26T00:00:00\",\"2024-11-27T00:00:00\",\"2024-12-02T00:00:00\",\"2024-12-03T00:00:00\",\"2024-12-04T00:00:00\",\"2024-12-05T00:00:00\",\"2024-12-06T00:00:00\",\"2024-12-07T00:00:00\",\"2024-12-10T00:00:00\",\"2024-12-11T00:00:00\",\"2024-12-13T00:00:00\",\"2024-12-16T00:00:00\",\"2024-12-18T00:00:00\",\"2024-12-20T00:00:00\",\"2024-12-23T00:00:00\",\"2024-12-26T00:00:00\",\"2024-12-27T00:00:00\",\"2024-12-30T00:00:00\",\"2025-01-02T00:00:00\",\"2025-01-03T00:00:00\",\"2025-01-06T00:00:00\",\"2025-01-07T00:00:00\",\"2025-01-08T00:00:00\",\"2025-01-10T00:00:00\",\"2025-01-13T00:00:00\",\"2025-01-14T00:00:00\",\"2025-01-15T00:00:00\",\"2025-01-16T00:00:00\",\"2025-01-17T00:00:00\",\"2025-01-21T00:00:00\",\"2025-01-22T00:00:00\",\"2025-01-23T00:00:00\",\"2025-01-24T00:00:00\",\"2025-01-27T00:00:00\",\"2025-01-28T00:00:00\",\"2025-01-29T00:00:00\",\"2025-01-31T00:00:00\",\"2025-02-04T00:00:00\",\"2025-02-05T00:00:00\",\"2025-02-06T00:00:00\"],\"y\":[150.0,300.0,200.0,200.0,300.0,250.0,100.0,250.0,350.0,500.0,284.0,4.0,6.0,2.0,5.0,9.0,3.0,1.0,5.0,2.0,6.0,2.0,9.0,7.0,3.0,3.0,3.0,1.0,4.0,9.0,1.0,4.0,3.0,6.0,5.0,3.0,14.0,10.0,9.0,4.0,9.0,6.0,14.0,6.0,4.0,2.0,4.0,10.0,10.0,2.0,4.0,2.0,9.0,14.0,2.0,3.0,4.0,2.0,2.0,5.0,3.0,7.0,4.0,6.0,4.0,8.0,23.0,9.0,3.0,8.0,1.0,11.0,2.0,7.0,5.0,1.0,3.0,3.0,6.0,2.0,1.0,4.0,3.0,5.0,7.0,4.0,23.0,7.0,1.0,1.0,2.0,12.0,5.0,2.0,4.0,2.0,2.0,1.0,3.0,2.0,2.0,2.0,3.0,2.0,2.0,4.0,6.0,8.0,2.0,2.0,1.0,6.0,1.0,4.0,8.0,5.0,9.0,6.0,3.0,6.0,3.0,5.0,2.0,15.0,1.0,11.0,1.0,5.0,14.0,7.0,8.0,4.0,8.0,7.0,61.0,1.0,6.0,4.0,5.0,5.0,7.0,5.0,1.0,3.0,2.0,2.0,5.0,2.0,11.0,2.0,10.0,4.0,2.0,2.0,2.0,3.0,1.0,15.0,2.0,9.0,5.0,6.0,8.0,15.0,2.0,3.0,2.0,4.0,2.0,3.0,4.0,7.0,8.0,4.0,4.0,8.0,2.0,11.0,2.0,2.0,3.0,4.0,6.0,4.0,4.0,1.0,1.0,2.0,3.0,13.0,17.0,2.0,1.0,5.0,1.0,1.0,21.0,10.0,6.0,1.0,2.0,7.0,4.0,2.0,2.0,13.0,3.0,4.0,5.0,6.0,5.0,3.0,1.0,3.0,4.0,1.0,4.0,2.0,1.0,3.0,5.0,15.0,2.0,4.0,7.0,3.0,2.0],\"type\":\"scatter\",\"xaxis\":\"x\",\"yaxis\":\"y\"},{\"line\":{\"color\":\"skyblue\",\"dash\":\"solid\",\"shape\":\"spline\",\"width\":1},\"mode\":\"lines\",\"name\":\"SO\",\"x\":[\"2022-01-03T00:00:00\",\"2022-01-04T00:00:00\",\"2022-01-05T00:00:00\",\"2022-01-06T00:00:00\",\"2022-01-07T00:00:00\",\"2022-01-10T00:00:00\",\"2022-01-12T00:00:00\",\"2022-01-13T00:00:00\",\"2022-01-14T00:00:00\",\"2022-01-16T00:00:00\",\"2022-01-17T00:00:00\",\"2022-01-18T00:00:00\",\"2022-01-19T00:00:00\",\"2022-01-20T00:00:00\",\"2022-01-21T00:00:00\",\"2022-01-24T00:00:00\",\"2022-01-25T00:00:00\",\"2022-01-26T00:00:00\",\"2022-01-27T00:00:00\",\"2022-01-28T00:00:00\",\"2022-01-31T00:00:00\",\"2022-02-01T00:00:00\",\"2022-02-02T00:00:00\",\"2022-02-03T00:00:00\",\"2022-02-04T00:00:00\",\"2022-02-07T00:00:00\",\"2022-02-08T00:00:00\",\"2022-02-09T00:00:00\",\"2022-02-10T00:00:00\",\"2022-02-11T00:00:00\",\"2022-02-13T00:00:00\",\"2022-02-14T00:00:00\",\"2022-02-15T00:00:00\",\"2022-02-16T00:00:00\",\"2022-02-17T00:00:00\",\"2022-02-18T00:00:00\",\"2022-02-21T00:00:00\",\"2022-02-22T00:00:00\",\"2022-02-23T00:00:00\",\"2022-02-24T00:00:00\",\"2022-02-25T00:00:00\",\"2022-02-28T00:00:00\",\"2022-03-01T00:00:00\",\"2022-03-02T00:00:00\",\"2022-03-03T00:00:00\",\"2022-03-04T00:00:00\",\"2022-03-05T00:00:00\",\"2022-03-07T00:00:00\",\"2022-03-08T00:00:00\",\"2022-03-09T00:00:00\",\"2022-03-11T00:00:00\",\"2022-03-14T00:00:00\",\"2022-03-15T00:00:00\",\"2022-03-16T00:00:00\",\"2022-03-17T00:00:00\",\"2022-03-21T00:00:00\",\"2022-03-23T00:00:00\",\"2022-03-24T00:00:00\",\"2022-03-25T00:00:00\",\"2022-03-28T00:00:00\",\"2022-03-29T00:00:00\",\"2022-03-30T00:00:00\",\"2022-03-31T00:00:00\",\"2022-04-01T00:00:00\",\"2022-04-04T00:00:00\",\"2022-04-05T00:00:00\",\"2022-04-06T00:00:00\",\"2022-04-07T00:00:00\",\"2022-04-08T00:00:00\",\"2022-04-12T00:00:00\",\"2022-04-13T00:00:00\",\"2022-04-14T00:00:00\",\"2022-04-15T00:00:00\",\"2022-04-18T00:00:00\",\"2022-04-19T00:00:00\",\"2022-04-20T00:00:00\",\"2022-04-21T00:00:00\",\"2022-04-22T00:00:00\",\"2022-04-25T00:00:00\",\"2022-04-26T00:00:00\",\"2022-04-29T00:00:00\",\"2022-05-02T00:00:00\",\"2022-05-03T00:00:00\",\"2022-05-04T00:00:00\",\"2022-05-05T00:00:00\",\"2022-05-06T00:00:00\",\"2022-05-08T00:00:00\",\"2022-05-09T00:00:00\",\"2022-05-11T00:00:00\",\"2022-05-13T00:00:00\",\"2022-05-16T00:00:00\",\"2022-05-17T00:00:00\",\"2022-05-19T00:00:00\",\"2022-05-20T00:00:00\",\"2022-05-22T00:00:00\",\"2022-05-23T00:00:00\",\"2022-05-24T00:00:00\",\"2022-05-25T00:00:00\",\"2022-05-26T00:00:00\",\"2022-05-27T00:00:00\",\"2022-05-31T00:00:00\",\"2022-06-01T00:00:00\",\"2022-06-02T00:00:00\",\"2022-06-03T00:00:00\",\"2022-06-06T00:00:00\",\"2022-06-07T00:00:00\",\"2022-06-08T00:00:00\",\"2022-06-09T00:00:00\",\"2022-06-10T00:00:00\",\"2022-06-13T00:00:00\",\"2022-06-14T00:00:00\",\"2022-06-15T00:00:00\",\"2022-06-16T00:00:00\",\"2022-06-17T00:00:00\",\"2022-06-20T00:00:00\",\"2022-06-21T00:00:00\",\"2022-06-22T00:00:00\",\"2022-06-23T00:00:00\",\"2022-06-24T00:00:00\",\"2022-06-27T00:00:00\",\"2022-06-28T00:00:00\",\"2022-06-29T00:00:00\",\"2022-07-05T00:00:00\",\"2022-07-06T00:00:00\",\"2022-07-07T00:00:00\",\"2022-07-08T00:00:00\",\"2022-07-09T00:00:00\",\"2022-07-11T00:00:00\",\"2022-07-12T00:00:00\",\"2022-07-13T00:00:00\",\"2022-07-14T00:00:00\",\"2022-07-15T00:00:00\",\"2022-07-18T00:00:00\",\"2022-07-19T00:00:00\",\"2022-07-20T00:00:00\",\"2022-07-21T00:00:00\",\"2022-07-22T00:00:00\",\"2022-07-25T00:00:00\",\"2022-07-26T00:00:00\",\"2022-07-27T00:00:00\",\"2022-07-28T00:00:00\",\"2022-08-01T00:00:00\",\"2022-08-03T00:00:00\",\"2022-08-04T00:00:00\",\"2022-08-05T00:00:00\",\"2022-08-08T00:00:00\",\"2022-08-09T00:00:00\",\"2022-08-10T00:00:00\",\"2022-08-11T00:00:00\",\"2022-08-12T00:00:00\",\"2022-08-15T00:00:00\",\"2022-08-16T00:00:00\",\"2022-08-17T00:00:00\",\"2022-08-18T00:00:00\",\"2022-08-19T00:00:00\",\"2022-08-22T00:00:00\",\"2022-08-23T00:00:00\",\"2022-08-25T00:00:00\",\"2022-08-26T00:00:00\",\"2022-08-29T00:00:00\",\"2022-08-30T00:00:00\",\"2022-08-31T00:00:00\",\"2022-09-02T00:00:00\",\"2022-09-06T00:00:00\",\"2022-09-08T00:00:00\",\"2022-09-09T00:00:00\",\"2022-09-12T00:00:00\",\"2022-09-13T00:00:00\",\"2022-09-14T00:00:00\",\"2022-09-15T00:00:00\",\"2022-09-16T00:00:00\",\"2022-09-20T00:00:00\",\"2022-09-21T00:00:00\",\"2022-09-22T00:00:00\",\"2022-09-23T00:00:00\",\"2022-09-26T00:00:00\",\"2022-09-27T00:00:00\",\"2022-09-28T00:00:00\",\"2022-09-29T00:00:00\",\"2022-09-30T00:00:00\",\"2022-10-03T00:00:00\",\"2022-10-04T00:00:00\",\"2022-10-05T00:00:00\",\"2022-10-06T00:00:00\",\"2022-10-07T00:00:00\",\"2022-10-10T00:00:00\",\"2022-10-11T00:00:00\",\"2022-10-12T00:00:00\",\"2022-10-13T00:00:00\",\"2022-10-14T00:00:00\",\"2022-10-17T00:00:00\",\"2022-10-18T00:00:00\",\"2022-10-19T00:00:00\",\"2022-10-20T00:00:00\",\"2022-10-21T00:00:00\",\"2022-10-24T00:00:00\",\"2022-10-25T00:00:00\",\"2022-10-26T00:00:00\",\"2022-10-27T00:00:00\",\"2022-10-28T00:00:00\",\"2022-10-31T00:00:00\",\"2022-11-01T00:00:00\",\"2022-11-02T00:00:00\",\"2022-11-03T00:00:00\",\"2022-11-04T00:00:00\",\"2022-11-07T00:00:00\",\"2022-11-09T00:00:00\",\"2022-11-10T00:00:00\",\"2022-11-11T00:00:00\",\"2022-11-15T00:00:00\",\"2022-11-16T00:00:00\",\"2022-11-17T00:00:00\",\"2022-11-18T00:00:00\",\"2022-11-22T00:00:00\",\"2022-11-23T00:00:00\",\"2022-11-28T00:00:00\",\"2022-11-29T00:00:00\",\"2022-11-30T00:00:00\",\"2022-12-01T00:00:00\",\"2022-12-02T00:00:00\",\"2022-12-05T00:00:00\",\"2022-12-06T00:00:00\",\"2022-12-07T00:00:00\",\"2022-12-08T00:00:00\",\"2022-12-09T00:00:00\",\"2022-12-12T00:00:00\",\"2022-12-13T00:00:00\",\"2022-12-14T00:00:00\",\"2022-12-15T00:00:00\",\"2022-12-19T00:00:00\",\"2022-12-21T00:00:00\",\"2022-12-22T00:00:00\",\"2022-12-23T00:00:00\",\"2022-12-25T00:00:00\",\"2022-12-27T00:00:00\",\"2022-12-28T00:00:00\",\"2022-12-29T00:00:00\",\"2022-12-30T00:00:00\",\"2023-01-03T00:00:00\",\"2023-01-04T00:00:00\",\"2023-01-05T00:00:00\",\"2023-01-07T00:00:00\",\"2023-01-09T00:00:00\",\"2023-01-10T00:00:00\",\"2023-01-11T00:00:00\",\"2023-01-13T00:00:00\",\"2023-01-16T00:00:00\",\"2023-01-17T00:00:00\",\"2023-01-18T00:00:00\",\"2023-01-19T00:00:00\",\"2023-01-20T00:00:00\",\"2023-01-23T00:00:00\",\"2023-01-24T00:00:00\",\"2023-01-25T00:00:00\",\"2023-01-26T00:00:00\",\"2023-01-27T00:00:00\",\"2023-01-30T00:00:00\",\"2023-01-31T00:00:00\",\"2023-02-01T00:00:00\",\"2023-02-02T00:00:00\",\"2023-02-03T00:00:00\",\"2023-02-06T00:00:00\",\"2023-02-07T00:00:00\",\"2023-02-08T00:00:00\",\"2023-02-10T00:00:00\",\"2023-02-13T00:00:00\",\"2023-02-14T00:00:00\",\"2023-02-15T00:00:00\",\"2023-02-16T00:00:00\",\"2023-02-17T00:00:00\",\"2023-02-21T00:00:00\",\"2023-02-22T00:00:00\",\"2023-02-23T00:00:00\",\"2023-02-24T00:00:00\",\"2023-02-26T00:00:00\",\"2023-02-27T00:00:00\",\"2023-02-28T00:00:00\",\"2023-03-02T00:00:00\",\"2023-03-03T00:00:00\",\"2023-03-06T00:00:00\",\"2023-03-07T00:00:00\",\"2023-03-09T00:00:00\",\"2023-03-10T00:00:00\",\"2023-03-13T00:00:00\",\"2023-03-14T00:00:00\",\"2023-03-15T00:00:00\",\"2023-03-16T00:00:00\",\"2023-03-17T00:00:00\",\"2023-03-19T00:00:00\",\"2023-03-21T00:00:00\",\"2023-03-22T00:00:00\",\"2023-03-23T00:00:00\",\"2023-03-24T00:00:00\",\"2023-03-26T00:00:00\",\"2023-03-27T00:00:00\",\"2023-03-28T00:00:00\",\"2023-03-29T00:00:00\",\"2023-03-30T00:00:00\",\"2023-03-31T00:00:00\",\"2023-04-03T00:00:00\",\"2023-04-04T00:00:00\",\"2023-04-05T00:00:00\",\"2023-04-06T00:00:00\",\"2023-04-07T00:00:00\",\"2023-04-10T00:00:00\",\"2023-04-11T00:00:00\",\"2023-04-12T00:00:00\",\"2023-04-14T00:00:00\",\"2023-04-17T00:00:00\",\"2023-04-18T00:00:00\",\"2023-04-21T00:00:00\",\"2023-04-24T00:00:00\",\"2023-04-25T00:00:00\",\"2023-04-26T00:00:00\",\"2023-04-27T00:00:00\",\"2023-04-28T00:00:00\",\"2023-05-01T00:00:00\",\"2023-05-02T00:00:00\",\"2023-05-03T00:00:00\",\"2023-05-04T00:00:00\",\"2023-05-08T00:00:00\",\"2023-05-09T00:00:00\",\"2023-05-10T00:00:00\",\"2023-05-11T00:00:00\",\"2023-05-12T00:00:00\",\"2023-05-15T00:00:00\",\"2023-05-16T00:00:00\",\"2023-05-17T00:00:00\",\"2023-05-19T00:00:00\",\"2023-05-20T00:00:00\",\"2023-05-22T00:00:00\",\"2023-05-23T00:00:00\",\"2023-05-24T00:00:00\",\"2023-05-25T00:00:00\",\"2023-05-26T00:00:00\",\"2023-05-30T00:00:00\",\"2023-05-31T00:00:00\",\"2023-06-02T00:00:00\",\"2023-06-05T00:00:00\",\"2023-06-06T00:00:00\",\"2023-06-07T00:00:00\",\"2023-06-08T00:00:00\",\"2023-06-09T00:00:00\",\"2023-06-12T00:00:00\",\"2023-06-13T00:00:00\",\"2023-06-14T00:00:00\",\"2023-06-15T00:00:00\",\"2023-06-16T00:00:00\",\"2023-06-19T00:00:00\",\"2023-06-20T00:00:00\",\"2023-06-21T00:00:00\",\"2023-06-22T00:00:00\",\"2023-06-23T00:00:00\",\"2023-06-26T00:00:00\",\"2023-06-27T00:00:00\",\"2023-06-29T00:00:00\",\"2023-06-30T00:00:00\",\"2023-07-03T00:00:00\",\"2023-07-05T00:00:00\",\"2023-07-06T00:00:00\",\"2023-07-10T00:00:00\",\"2023-07-11T00:00:00\",\"2023-07-12T00:00:00\",\"2023-07-13T00:00:00\",\"2023-07-14T00:00:00\",\"2023-07-17T00:00:00\",\"2023-07-18T00:00:00\",\"2023-07-19T00:00:00\",\"2023-07-20T00:00:00\",\"2023-07-21T00:00:00\",\"2023-07-23T00:00:00\",\"2023-07-24T00:00:00\",\"2023-07-26T00:00:00\",\"2023-07-27T00:00:00\",\"2023-07-28T00:00:00\",\"2023-07-31T00:00:00\",\"2023-08-01T00:00:00\",\"2023-08-02T00:00:00\",\"2023-08-03T00:00:00\",\"2023-08-04T00:00:00\",\"2023-08-07T00:00:00\",\"2023-08-08T00:00:00\",\"2023-08-09T00:00:00\",\"2023-08-10T00:00:00\",\"2023-08-11T00:00:00\",\"2023-08-12T00:00:00\",\"2023-08-14T00:00:00\",\"2023-08-15T00:00:00\",\"2023-08-16T00:00:00\",\"2023-08-17T00:00:00\",\"2023-08-18T00:00:00\",\"2023-08-21T00:00:00\",\"2023-08-23T00:00:00\",\"2023-08-24T00:00:00\",\"2023-08-25T00:00:00\",\"2023-08-28T00:00:00\",\"2023-08-29T00:00:00\",\"2023-08-30T00:00:00\",\"2023-09-01T00:00:00\",\"2023-09-04T00:00:00\",\"2023-09-05T00:00:00\",\"2023-09-07T00:00:00\",\"2023-09-08T00:00:00\",\"2023-09-11T00:00:00\",\"2023-09-12T00:00:00\",\"2023-09-13T00:00:00\",\"2023-09-14T00:00:00\",\"2023-09-15T00:00:00\",\"2023-09-18T00:00:00\",\"2023-09-19T00:00:00\",\"2023-09-20T00:00:00\",\"2023-09-22T00:00:00\",\"2023-09-25T00:00:00\",\"2023-09-26T00:00:00\",\"2023-09-27T00:00:00\",\"2023-09-29T00:00:00\",\"2023-10-03T00:00:00\",\"2023-10-04T00:00:00\",\"2023-10-05T00:00:00\",\"2023-10-06T00:00:00\",\"2023-10-09T00:00:00\",\"2023-10-10T00:00:00\",\"2023-10-11T00:00:00\",\"2023-10-12T00:00:00\",\"2023-10-13T00:00:00\",\"2023-10-16T00:00:00\",\"2023-10-17T00:00:00\",\"2023-10-18T00:00:00\",\"2023-10-20T00:00:00\",\"2023-10-23T00:00:00\",\"2023-10-24T00:00:00\",\"2023-10-25T00:00:00\",\"2023-10-30T00:00:00\",\"2023-10-31T00:00:00\",\"2023-11-01T00:00:00\",\"2023-11-02T00:00:00\",\"2023-11-03T00:00:00\",\"2023-11-04T00:00:00\",\"2023-11-06T00:00:00\",\"2023-11-07T00:00:00\",\"2023-11-08T00:00:00\",\"2023-11-09T00:00:00\",\"2023-11-10T00:00:00\",\"2023-11-13T00:00:00\",\"2023-11-14T00:00:00\",\"2023-11-15T00:00:00\",\"2023-11-16T00:00:00\",\"2023-11-17T00:00:00\",\"2023-11-20T00:00:00\",\"2023-11-21T00:00:00\",\"2023-11-22T00:00:00\",\"2023-11-23T00:00:00\",\"2023-11-28T00:00:00\",\"2023-11-30T00:00:00\",\"2023-12-01T00:00:00\",\"2023-12-02T00:00:00\",\"2023-12-05T00:00:00\",\"2023-12-06T00:00:00\",\"2023-12-07T00:00:00\",\"2023-12-08T00:00:00\",\"2023-12-11T00:00:00\",\"2023-12-12T00:00:00\",\"2023-12-13T00:00:00\",\"2023-12-15T00:00:00\",\"2023-12-19T00:00:00\",\"2023-12-21T00:00:00\",\"2023-12-22T00:00:00\",\"2023-12-25T00:00:00\",\"2023-12-27T00:00:00\",\"2023-12-29T00:00:00\",\"2024-01-02T00:00:00\",\"2024-01-03T00:00:00\",\"2024-01-04T00:00:00\",\"2024-01-05T00:00:00\",\"2024-01-06T00:00:00\",\"2024-01-08T00:00:00\",\"2024-01-09T00:00:00\",\"2024-01-10T00:00:00\",\"2024-01-11T00:00:00\",\"2024-01-12T00:00:00\",\"2024-01-15T00:00:00\",\"2024-01-16T00:00:00\",\"2024-01-17T00:00:00\",\"2024-01-18T00:00:00\",\"2024-01-19T00:00:00\",\"2024-01-22T00:00:00\",\"2024-01-23T00:00:00\",\"2024-01-24T00:00:00\",\"2024-01-25T00:00:00\",\"2024-01-29T00:00:00\",\"2024-01-30T00:00:00\",\"2024-02-01T00:00:00\",\"2024-02-02T00:00:00\",\"2024-02-05T00:00:00\",\"2024-02-06T00:00:00\",\"2024-02-07T00:00:00\",\"2024-02-08T00:00:00\",\"2024-02-09T00:00:00\",\"2024-02-13T00:00:00\",\"2024-02-14T00:00:00\"],\"y\":[8.0,7.0,6.0,6.0,2.0,8.0,11.0,12.0,19.0,1.0,1.0,5.0,10.0,13.0,6.0,9.0,4.0,5.0,10.0,5.0,2.0,2.0,26.0,11.0,15.0,13.0,4.0,12.0,8.0,4.0,1.0,11.0,5.0,3.0,5.0,9.0,4.0,1.0,24.0,17.0,8.0,18.0,9.0,2.0,4.0,6.0,2.0,4.0,1.0,2.0,16.0,5.0,3.0,5.0,4.0,18.0,1.0,3.0,4.0,6.0,3.0,6.0,1.0,3.0,5.0,14.0,4.0,4.0,2.0,2.0,6.0,26.0,4.0,3.0,6.0,10.0,5.0,6.0,4.0,8.0,8.0,4.0,6.0,4.0,3.0,8.0,2.0,3.0,2.0,4.0,11.0,31.0,2.0,17.0,2.0,3.0,3.0,8.0,3.0,1.0,8.0,2.0,1.0,1.0,3.0,6.0,10.0,12.0,6.0,2.0,3.0,2.0,8.0,14.0,5.0,1.0,3.0,11.0,4.0,36.0,1.0,5.0,15.0,1.0,2.0,9.0,2.0,4.0,2.0,2.0,20.0,6.0,1.0,6.0,19.0,13.0,8.0,1.0,4.0,3.0,2.0,3.0,1.0,6.0,null,6.0,3.0,5.0,6.0,1.0,12.0,7.0,5.0,9.0,21.0,2.0,6.0,9.0,3.0,3.0,1.0,30.0,21.0,2.0,14.0,1.0,5.0,5.0,10.0,9.0,6.0,13.0,11.0,5.0,null,2.0,5.0,1.0,5.0,4.0,3.0,3.0,2.0,15.0,5.0,2.0,3.0,1.0,15.0,4.0,7.0,2.0,9.0,31.0,3.0,20.0,4.0,7.0,9.0,16.0,7.0,2.0,36.0,6.0,14.0,3.0,16.0,6.0,16.0,3.0,4.0,5.0,2.0,2.0,2.0,2.0,2.0,null,4.0,2.0,6.0,1.0,19.0,1.0,4.0,1.0,5.0,10.0,9.0,1.0,4.0,12.0,2.0,1.0,2.0,5.0,1.0,2.0,2.0,8.0,1.0,2.0,2.0,6.0,7.0,3.0,2.0,2.0,10.0,3.0,2.0,9.0,13.0,30.0,2.0,17.0,3.0,2.0,8.0,3.0,3.0,1.0,1.0,4.0,1.0,7.0,6.0,1.0,4.0,2.0,16.0,14.0,1.0,3.0,1.0,5.0,1.0,5.0,10.0,11.0,2.0,5.0,8.0,1.0,2.0,4.0,1.0,6.0,12.0,4.0,2.0,16.0,5.0,6.0,12.0,4.0,1.0,4.0,1.0,2.0,3.0,2.0,6.0,2.0,5.0,7.0,4.0,7.0,1.0,2.0,5.0,1.0,11.0,3.0,11.0,14.0,1.0,4.0,2.0,11.0,2.0,4.0,5.0,25.0,4.0,4.0,8.0,4.0,3.0,4.0,8.0,5.0,1.0,11.0,6.0,9.0,2.0,4.0,2.0,7.0,13.0,1.0,7.0,4.0,4.0,1.0,2.0,21.0,28.0,5.0,2.0,9.0,1.0,3.0,15.0,11.0,14.0,4.0,7.0,14.0,6.0,9.0,7.0,4.0,5.0,14.0,9.0,9.0,4.0,4.0,1.0,7.0,1.0,8.0,11.0,4.0,7.0,21.0,7.0,9.0,11.0,7.0,5.0,23.0,3.0,1.0,4.0,2.0,13.0,7.0,13.0,2.0,2.0,3.0,1.0,5.0,6.0,5.0,10.0,3.0,3.0,4.0,3.0,2.0,4.0,19.0,10.0,5.0,7.0,4.0,2.0,1.0,5.0,3.0,4.0,2.0,14.0,6.0,4.0,6.0,6.0,2.0,12.0,1.0,1.0,8.0,3.0,2.0,4.0,2.0,26.0,1.0,4.0,11.0,9.0,9.0,3.0,4.0,5.0,2.0,2.0,1.0,8.0,3.0,1.0,6.0,2.0,8.0,2.0,2.0,1.0,4.0,4.0,6.0,4.0,2.0,5.0,2.0,7.0,3.0,6.0,3.0,6.0,19.0,4.0,1.0,1.0,1.0,2.0,7.0,5.0,5.0,2.0,6.0,4.0,1.0,3.0,13.0,2.0,13.0,2.0,8.0,6.0,9.0,4.0,3.0,11.0,6.0,9.0,72.0,null,null,null,null,null,null,null,null,null,null],\"type\":\"scatter\",\"xaxis\":\"x\",\"yaxis\":\"y\"},{\"line\":{\"color\":\"green\",\"shape\":\"spline\",\"width\":1},\"mode\":\"lines\",\"name\":\"PM\",\"x\":[\"2022-01-03T00:00:00\",\"2022-01-04T00:00:00\",\"2022-01-05T00:00:00\",\"2022-01-06T00:00:00\",\"2022-01-07T00:00:00\",\"2022-01-10T00:00:00\",\"2022-01-12T00:00:00\",\"2022-01-13T00:00:00\",\"2022-01-14T00:00:00\",\"2022-01-16T00:00:00\",\"2022-01-17T00:00:00\",\"2022-01-18T00:00:00\",\"2022-01-19T00:00:00\",\"2022-01-20T00:00:00\",\"2022-01-21T00:00:00\",\"2022-01-24T00:00:00\",\"2022-01-25T00:00:00\",\"2022-01-26T00:00:00\",\"2022-01-27T00:00:00\",\"2022-01-28T00:00:00\",\"2022-01-31T00:00:00\",\"2022-02-01T00:00:00\",\"2022-02-02T00:00:00\",\"2022-02-03T00:00:00\",\"2022-02-04T00:00:00\",\"2022-02-07T00:00:00\",\"2022-02-08T00:00:00\",\"2022-02-09T00:00:00\",\"2022-02-10T00:00:00\",\"2022-02-11T00:00:00\",\"2022-02-13T00:00:00\",\"2022-02-14T00:00:00\",\"2022-02-15T00:00:00\",\"2022-02-16T00:00:00\",\"2022-02-17T00:00:00\",\"2022-02-18T00:00:00\",\"2022-02-21T00:00:00\",\"2022-02-22T00:00:00\",\"2022-02-23T00:00:00\",\"2022-02-24T00:00:00\",\"2022-02-25T00:00:00\",\"2022-02-28T00:00:00\",\"2022-03-01T00:00:00\",\"2022-03-02T00:00:00\",\"2022-03-03T00:00:00\",\"2022-03-04T00:00:00\",\"2022-03-05T00:00:00\",\"2022-03-07T00:00:00\",\"2022-03-08T00:00:00\",\"2022-03-09T00:00:00\",\"2022-03-11T00:00:00\",\"2022-03-14T00:00:00\",\"2022-03-15T00:00:00\",\"2022-03-16T00:00:00\",\"2022-03-17T00:00:00\",\"2022-03-21T00:00:00\",\"2022-03-23T00:00:00\",\"2022-03-24T00:00:00\",\"2022-03-25T00:00:00\",\"2022-03-28T00:00:00\",\"2022-03-29T00:00:00\",\"2022-03-30T00:00:00\",\"2022-03-31T00:00:00\",\"2022-04-01T00:00:00\",\"2022-04-04T00:00:00\",\"2022-04-05T00:00:00\",\"2022-04-06T00:00:00\",\"2022-04-07T00:00:00\",\"2022-04-08T00:00:00\",\"2022-04-12T00:00:00\",\"2022-04-13T00:00:00\",\"2022-04-14T00:00:00\",\"2022-04-15T00:00:00\",\"2022-04-18T00:00:00\",\"2022-04-19T00:00:00\",\"2022-04-20T00:00:00\",\"2022-04-21T00:00:00\",\"2022-04-22T00:00:00\",\"2022-04-25T00:00:00\",\"2022-04-26T00:00:00\",\"2022-04-29T00:00:00\",\"2022-05-02T00:00:00\",\"2022-05-03T00:00:00\",\"2022-05-04T00:00:00\",\"2022-05-05T00:00:00\",\"2022-05-06T00:00:00\",\"2022-05-08T00:00:00\",\"2022-05-09T00:00:00\",\"2022-05-11T00:00:00\",\"2022-05-13T00:00:00\",\"2022-05-16T00:00:00\",\"2022-05-17T00:00:00\",\"2022-05-19T00:00:00\",\"2022-05-20T00:00:00\",\"2022-05-22T00:00:00\",\"2022-05-23T00:00:00\",\"2022-05-24T00:00:00\",\"2022-05-25T00:00:00\",\"2022-05-26T00:00:00\",\"2022-05-27T00:00:00\",\"2022-05-31T00:00:00\",\"2022-06-01T00:00:00\",\"2022-06-02T00:00:00\",\"2022-06-03T00:00:00\",\"2022-06-06T00:00:00\",\"2022-06-07T00:00:00\",\"2022-06-08T00:00:00\",\"2022-06-09T00:00:00\",\"2022-06-10T00:00:00\",\"2022-06-13T00:00:00\",\"2022-06-14T00:00:00\",\"2022-06-15T00:00:00\",\"2022-06-16T00:00:00\",\"2022-06-17T00:00:00\",\"2022-06-20T00:00:00\",\"2022-06-21T00:00:00\",\"2022-06-22T00:00:00\",\"2022-06-23T00:00:00\",\"2022-06-24T00:00:00\",\"2022-06-27T00:00:00\",\"2022-06-28T00:00:00\",\"2022-06-29T00:00:00\",\"2022-07-05T00:00:00\",\"2022-07-06T00:00:00\",\"2022-07-07T00:00:00\",\"2022-07-08T00:00:00\",\"2022-07-09T00:00:00\",\"2022-07-11T00:00:00\",\"2022-07-12T00:00:00\",\"2022-07-13T00:00:00\",\"2022-07-14T00:00:00\",\"2022-07-15T00:00:00\",\"2022-07-18T00:00:00\",\"2022-07-19T00:00:00\",\"2022-07-20T00:00:00\",\"2022-07-21T00:00:00\",\"2022-07-22T00:00:00\",\"2022-07-25T00:00:00\",\"2022-07-26T00:00:00\",\"2022-07-27T00:00:00\",\"2022-07-28T00:00:00\",\"2022-08-01T00:00:00\",\"2022-08-03T00:00:00\",\"2022-08-04T00:00:00\",\"2022-08-05T00:00:00\",\"2022-08-08T00:00:00\",\"2022-08-09T00:00:00\",\"2022-08-10T00:00:00\",\"2022-08-11T00:00:00\",\"2022-08-12T00:00:00\",\"2022-08-15T00:00:00\",\"2022-08-16T00:00:00\",\"2022-08-17T00:00:00\",\"2022-08-18T00:00:00\",\"2022-08-19T00:00:00\",\"2022-08-22T00:00:00\",\"2022-08-23T00:00:00\",\"2022-08-25T00:00:00\",\"2022-08-26T00:00:00\",\"2022-08-29T00:00:00\",\"2022-08-30T00:00:00\",\"2022-08-31T00:00:00\",\"2022-09-02T00:00:00\",\"2022-09-06T00:00:00\",\"2022-09-08T00:00:00\",\"2022-09-09T00:00:00\",\"2022-09-12T00:00:00\",\"2022-09-13T00:00:00\",\"2022-09-14T00:00:00\",\"2022-09-15T00:00:00\",\"2022-09-16T00:00:00\",\"2022-09-20T00:00:00\",\"2022-09-21T00:00:00\",\"2022-09-22T00:00:00\",\"2022-09-23T00:00:00\",\"2022-09-26T00:00:00\",\"2022-09-27T00:00:00\",\"2022-09-28T00:00:00\",\"2022-09-29T00:00:00\",\"2022-09-30T00:00:00\",\"2022-10-03T00:00:00\",\"2022-10-04T00:00:00\",\"2022-10-05T00:00:00\",\"2022-10-06T00:00:00\",\"2022-10-07T00:00:00\",\"2022-10-10T00:00:00\",\"2022-10-11T00:00:00\",\"2022-10-12T00:00:00\",\"2022-10-13T00:00:00\",\"2022-10-14T00:00:00\",\"2022-10-17T00:00:00\",\"2022-10-18T00:00:00\",\"2022-10-19T00:00:00\",\"2022-10-20T00:00:00\",\"2022-10-21T00:00:00\",\"2022-10-24T00:00:00\",\"2022-10-25T00:00:00\",\"2022-10-26T00:00:00\",\"2022-10-27T00:00:00\",\"2022-10-28T00:00:00\",\"2022-10-31T00:00:00\",\"2022-11-01T00:00:00\",\"2022-11-02T00:00:00\",\"2022-11-03T00:00:00\",\"2022-11-04T00:00:00\",\"2022-11-07T00:00:00\",\"2022-11-09T00:00:00\",\"2022-11-10T00:00:00\",\"2022-11-11T00:00:00\",\"2022-11-15T00:00:00\",\"2022-11-16T00:00:00\",\"2022-11-17T00:00:00\",\"2022-11-18T00:00:00\",\"2022-11-22T00:00:00\",\"2022-11-23T00:00:00\",\"2022-11-28T00:00:00\",\"2022-11-29T00:00:00\",\"2022-11-30T00:00:00\",\"2022-12-01T00:00:00\",\"2022-12-02T00:00:00\",\"2022-12-05T00:00:00\",\"2022-12-06T00:00:00\",\"2022-12-07T00:00:00\",\"2022-12-08T00:00:00\",\"2022-12-09T00:00:00\",\"2022-12-12T00:00:00\",\"2022-12-13T00:00:00\",\"2022-12-14T00:00:00\",\"2022-12-15T00:00:00\",\"2022-12-19T00:00:00\",\"2022-12-21T00:00:00\",\"2022-12-22T00:00:00\",\"2022-12-23T00:00:00\",\"2022-12-25T00:00:00\",\"2022-12-27T00:00:00\",\"2022-12-28T00:00:00\",\"2022-12-29T00:00:00\",\"2022-12-30T00:00:00\",\"2023-01-03T00:00:00\",\"2023-01-04T00:00:00\",\"2023-01-05T00:00:00\",\"2023-01-07T00:00:00\",\"2023-01-09T00:00:00\",\"2023-01-10T00:00:00\",\"2023-01-11T00:00:00\",\"2023-01-13T00:00:00\",\"2023-01-16T00:00:00\",\"2023-01-17T00:00:00\",\"2023-01-18T00:00:00\",\"2023-01-19T00:00:00\",\"2023-01-20T00:00:00\",\"2023-01-23T00:00:00\",\"2023-01-24T00:00:00\",\"2023-01-25T00:00:00\",\"2023-01-26T00:00:00\",\"2023-01-27T00:00:00\",\"2023-01-30T00:00:00\",\"2023-01-31T00:00:00\",\"2023-02-01T00:00:00\",\"2023-02-02T00:00:00\",\"2023-02-03T00:00:00\",\"2023-02-06T00:00:00\",\"2023-02-07T00:00:00\",\"2023-02-08T00:00:00\",\"2023-02-10T00:00:00\",\"2023-02-13T00:00:00\",\"2023-02-14T00:00:00\",\"2023-02-15T00:00:00\",\"2023-02-16T00:00:00\",\"2023-02-17T00:00:00\",\"2023-02-21T00:00:00\",\"2023-02-22T00:00:00\",\"2023-02-23T00:00:00\",\"2023-02-24T00:00:00\",\"2023-02-26T00:00:00\",\"2023-02-27T00:00:00\",\"2023-02-28T00:00:00\",\"2023-03-02T00:00:00\",\"2023-03-03T00:00:00\",\"2023-03-06T00:00:00\",\"2023-03-07T00:00:00\",\"2023-03-09T00:00:00\",\"2023-03-10T00:00:00\",\"2023-03-13T00:00:00\",\"2023-03-14T00:00:00\",\"2023-03-15T00:00:00\",\"2023-03-16T00:00:00\",\"2023-03-17T00:00:00\",\"2023-03-19T00:00:00\",\"2023-03-21T00:00:00\",\"2023-03-22T00:00:00\",\"2023-03-23T00:00:00\",\"2023-03-24T00:00:00\",\"2023-03-26T00:00:00\",\"2023-03-27T00:00:00\",\"2023-03-28T00:00:00\",\"2023-03-29T00:00:00\",\"2023-03-30T00:00:00\",\"2023-03-31T00:00:00\",\"2023-04-03T00:00:00\",\"2023-04-04T00:00:00\",\"2023-04-05T00:00:00\",\"2023-04-06T00:00:00\",\"2023-04-07T00:00:00\",\"2023-04-10T00:00:00\",\"2023-04-11T00:00:00\",\"2023-04-12T00:00:00\",\"2023-04-14T00:00:00\",\"2023-04-17T00:00:00\",\"2023-04-18T00:00:00\",\"2023-04-21T00:00:00\",\"2023-04-24T00:00:00\",\"2023-04-25T00:00:00\",\"2023-04-26T00:00:00\",\"2023-04-27T00:00:00\",\"2023-04-28T00:00:00\",\"2023-05-01T00:00:00\",\"2023-05-02T00:00:00\",\"2023-05-03T00:00:00\",\"2023-05-04T00:00:00\",\"2023-05-08T00:00:00\",\"2023-05-09T00:00:00\",\"2023-05-10T00:00:00\",\"2023-05-11T00:00:00\",\"2023-05-12T00:00:00\",\"2023-05-15T00:00:00\",\"2023-05-16T00:00:00\",\"2023-05-17T00:00:00\",\"2023-05-19T00:00:00\",\"2023-05-20T00:00:00\",\"2023-05-22T00:00:00\",\"2023-05-23T00:00:00\",\"2023-05-24T00:00:00\",\"2023-05-25T00:00:00\",\"2023-05-26T00:00:00\",\"2023-05-30T00:00:00\",\"2023-05-31T00:00:00\",\"2023-06-02T00:00:00\",\"2023-06-05T00:00:00\",\"2023-06-06T00:00:00\",\"2023-06-07T00:00:00\",\"2023-06-08T00:00:00\",\"2023-06-09T00:00:00\",\"2023-06-12T00:00:00\",\"2023-06-13T00:00:00\",\"2023-06-14T00:00:00\",\"2023-06-15T00:00:00\",\"2023-06-16T00:00:00\",\"2023-06-19T00:00:00\",\"2023-06-20T00:00:00\",\"2023-06-21T00:00:00\",\"2023-06-22T00:00:00\",\"2023-06-23T00:00:00\",\"2023-06-26T00:00:00\",\"2023-06-27T00:00:00\",\"2023-06-29T00:00:00\",\"2023-06-30T00:00:00\",\"2023-07-03T00:00:00\",\"2023-07-05T00:00:00\",\"2023-07-06T00:00:00\",\"2023-07-10T00:00:00\",\"2023-07-11T00:00:00\",\"2023-07-12T00:00:00\",\"2023-07-13T00:00:00\",\"2023-07-14T00:00:00\",\"2023-07-17T00:00:00\",\"2023-07-18T00:00:00\",\"2023-07-19T00:00:00\",\"2023-07-20T00:00:00\",\"2023-07-21T00:00:00\",\"2023-07-23T00:00:00\",\"2023-07-24T00:00:00\",\"2023-07-26T00:00:00\",\"2023-07-27T00:00:00\",\"2023-07-28T00:00:00\",\"2023-07-31T00:00:00\",\"2023-08-01T00:00:00\",\"2023-08-02T00:00:00\",\"2023-08-03T00:00:00\",\"2023-08-04T00:00:00\",\"2023-08-07T00:00:00\",\"2023-08-08T00:00:00\",\"2023-08-09T00:00:00\",\"2023-08-10T00:00:00\",\"2023-08-11T00:00:00\",\"2023-08-12T00:00:00\",\"2023-08-14T00:00:00\",\"2023-08-15T00:00:00\",\"2023-08-16T00:00:00\",\"2023-08-17T00:00:00\",\"2023-08-18T00:00:00\",\"2023-08-21T00:00:00\",\"2023-08-23T00:00:00\",\"2023-08-24T00:00:00\",\"2023-08-25T00:00:00\",\"2023-08-28T00:00:00\",\"2023-08-29T00:00:00\",\"2023-08-30T00:00:00\",\"2023-09-01T00:00:00\",\"2023-09-04T00:00:00\",\"2023-09-05T00:00:00\",\"2023-09-07T00:00:00\",\"2023-09-08T00:00:00\",\"2023-09-11T00:00:00\",\"2023-09-12T00:00:00\",\"2023-09-13T00:00:00\",\"2023-09-14T00:00:00\",\"2023-09-15T00:00:00\",\"2023-09-18T00:00:00\",\"2023-09-19T00:00:00\",\"2023-09-20T00:00:00\",\"2023-09-22T00:00:00\",\"2023-09-25T00:00:00\",\"2023-09-26T00:00:00\",\"2023-09-27T00:00:00\",\"2023-09-29T00:00:00\",\"2023-10-03T00:00:00\",\"2023-10-04T00:00:00\",\"2023-10-05T00:00:00\",\"2023-10-06T00:00:00\",\"2023-10-09T00:00:00\",\"2023-10-10T00:00:00\",\"2023-10-11T00:00:00\",\"2023-10-12T00:00:00\",\"2023-10-13T00:00:00\",\"2023-10-16T00:00:00\",\"2023-10-17T00:00:00\",\"2023-10-18T00:00:00\",\"2023-10-20T00:00:00\",\"2023-10-23T00:00:00\",\"2023-10-24T00:00:00\",\"2023-10-25T00:00:00\",\"2023-10-30T00:00:00\",\"2023-10-31T00:00:00\",\"2023-11-01T00:00:00\",\"2023-11-02T00:00:00\",\"2023-11-03T00:00:00\",\"2023-11-04T00:00:00\",\"2023-11-06T00:00:00\",\"2023-11-07T00:00:00\",\"2023-11-08T00:00:00\",\"2023-11-09T00:00:00\",\"2023-11-10T00:00:00\",\"2023-11-13T00:00:00\",\"2023-11-14T00:00:00\",\"2023-11-15T00:00:00\",\"2023-11-16T00:00:00\",\"2023-11-17T00:00:00\",\"2023-11-20T00:00:00\",\"2023-11-21T00:00:00\",\"2023-11-22T00:00:00\",\"2023-11-23T00:00:00\",\"2023-11-28T00:00:00\",\"2023-11-30T00:00:00\",\"2023-12-01T00:00:00\",\"2023-12-02T00:00:00\",\"2023-12-05T00:00:00\",\"2023-12-06T00:00:00\",\"2023-12-07T00:00:00\",\"2023-12-08T00:00:00\",\"2023-12-11T00:00:00\",\"2023-12-12T00:00:00\",\"2023-12-13T00:00:00\",\"2023-12-15T00:00:00\",\"2023-12-19T00:00:00\",\"2023-12-21T00:00:00\",\"2023-12-22T00:00:00\",\"2023-12-25T00:00:00\",\"2023-12-27T00:00:00\",\"2023-12-29T00:00:00\",\"2024-01-02T00:00:00\",\"2024-01-03T00:00:00\",\"2024-01-04T00:00:00\",\"2024-01-05T00:00:00\",\"2024-01-06T00:00:00\",\"2024-01-08T00:00:00\",\"2024-01-09T00:00:00\",\"2024-01-10T00:00:00\",\"2024-01-11T00:00:00\",\"2024-01-12T00:00:00\",\"2024-01-15T00:00:00\",\"2024-01-16T00:00:00\",\"2024-01-17T00:00:00\",\"2024-01-18T00:00:00\",\"2024-01-19T00:00:00\",\"2024-01-22T00:00:00\",\"2024-01-23T00:00:00\",\"2024-01-24T00:00:00\",\"2024-01-25T00:00:00\",\"2024-01-29T00:00:00\",\"2024-01-30T00:00:00\",\"2024-02-01T00:00:00\",\"2024-02-02T00:00:00\",\"2024-02-05T00:00:00\",\"2024-02-06T00:00:00\",\"2024-02-07T00:00:00\",\"2024-02-08T00:00:00\",\"2024-02-09T00:00:00\",\"2024-02-13T00:00:00\",\"2024-02-14T00:00:00\",\"2024-02-22T00:00:00\",\"2024-02-23T00:00:00\",\"2024-02-26T00:00:00\",\"2024-02-27T00:00:00\",\"2024-02-28T00:00:00\",\"2024-02-29T00:00:00\",\"2024-03-01T00:00:00\",\"2024-03-02T00:00:00\",\"2024-03-04T00:00:00\",\"2024-03-05T00:00:00\",\"2024-03-06T00:00:00\",\"2024-03-07T00:00:00\",\"2024-03-08T00:00:00\",\"2024-03-11T00:00:00\",\"2024-03-12T00:00:00\",\"2024-03-13T00:00:00\",\"2024-03-14T00:00:00\",\"2024-03-18T00:00:00\",\"2024-03-19T00:00:00\",\"2024-03-20T00:00:00\",\"2024-03-22T00:00:00\",\"2024-03-25T00:00:00\",\"2024-03-26T00:00:00\",\"2024-03-27T00:00:00\",\"2024-03-28T00:00:00\",\"2024-03-29T00:00:00\",\"2024-04-01T00:00:00\",\"2024-04-02T00:00:00\",\"2024-04-03T00:00:00\",\"2024-04-04T00:00:00\",\"2024-04-05T00:00:00\",\"2024-04-11T00:00:00\",\"2024-04-12T00:00:00\",\"2024-04-15T00:00:00\",\"2024-04-16T00:00:00\",\"2024-04-17T00:00:00\",\"2024-04-18T00:00:00\",\"2024-04-19T00:00:00\",\"2024-04-22T00:00:00\",\"2024-04-23T00:00:00\",\"2024-04-25T00:00:00\",\"2024-04-29T00:00:00\",\"2024-04-30T00:00:00\",\"2024-05-01T00:00:00\",\"2024-05-02T00:00:00\",\"2024-05-03T00:00:00\",\"2024-05-06T00:00:00\",\"2024-05-07T00:00:00\",\"2024-05-08T00:00:00\",\"2024-05-09T00:00:00\",\"2024-05-10T00:00:00\",\"2024-05-13T00:00:00\",\"2024-05-14T00:00:00\",\"2024-05-15T00:00:00\",\"2024-05-16T00:00:00\",\"2024-05-17T00:00:00\",\"2024-05-20T00:00:00\",\"2024-05-21T00:00:00\",\"2024-05-22T00:00:00\",\"2024-05-23T00:00:00\",\"2024-05-24T00:00:00\",\"2024-05-27T00:00:00\",\"2024-05-28T00:00:00\",\"2024-05-29T00:00:00\",\"2024-05-30T00:00:00\",\"2024-06-03T00:00:00\",\"2024-06-04T00:00:00\",\"2024-06-05T00:00:00\",\"2024-06-06T00:00:00\",\"2024-06-07T00:00:00\",\"2024-06-10T00:00:00\",\"2024-06-12T00:00:00\",\"2024-06-13T00:00:00\",\"2024-06-14T00:00:00\",\"2024-06-17T00:00:00\",\"2024-06-18T00:00:00\",\"2024-06-19T00:00:00\",\"2024-06-20T00:00:00\",\"2024-06-21T00:00:00\",\"2024-06-24T00:00:00\",\"2024-06-25T00:00:00\",\"2024-06-26T00:00:00\",\"2024-06-27T00:00:00\",\"2024-06-28T00:00:00\",\"2024-07-01T00:00:00\",\"2024-07-02T00:00:00\",\"2024-07-03T00:00:00\",\"2024-07-05T00:00:00\",\"2024-07-07T00:00:00\",\"2024-07-08T00:00:00\",\"2024-07-10T00:00:00\",\"2024-07-11T00:00:00\",\"2024-07-12T00:00:00\",\"2024-07-15T00:00:00\",\"2024-07-16T00:00:00\",\"2024-07-17T00:00:00\",\"2024-07-19T00:00:00\",\"2024-07-22T00:00:00\",\"2024-07-23T00:00:00\",\"2024-07-24T00:00:00\",\"2024-07-25T00:00:00\",\"2024-07-26T00:00:00\",\"2024-07-29T00:00:00\",\"2024-07-31T00:00:00\",\"2024-08-01T00:00:00\",\"2024-08-02T00:00:00\",\"2024-08-05T00:00:00\",\"2024-08-06T00:00:00\",\"2024-08-07T00:00:00\",\"2024-08-08T00:00:00\",\"2024-08-12T00:00:00\",\"2024-08-13T00:00:00\",\"2024-08-14T00:00:00\",\"2024-08-15T00:00:00\",\"2024-08-16T00:00:00\",\"2024-08-17T00:00:00\",\"2024-08-19T00:00:00\",\"2024-08-20T00:00:00\",\"2024-08-21T00:00:00\",\"2024-08-22T00:00:00\",\"2024-08-23T00:00:00\",\"2024-08-26T00:00:00\",\"2024-08-27T00:00:00\",\"2024-08-28T00:00:00\",\"2024-08-29T00:00:00\",\"2024-08-30T00:00:00\",\"2024-09-03T00:00:00\",\"2024-09-04T00:00:00\",\"2024-09-05T00:00:00\",\"2024-09-06T00:00:00\",\"2024-09-09T00:00:00\",\"2024-09-10T00:00:00\",\"2024-09-11T00:00:00\",\"2024-09-12T00:00:00\",\"2024-09-16T00:00:00\",\"2024-09-17T00:00:00\",\"2024-09-18T00:00:00\",\"2024-09-19T00:00:00\",\"2024-09-20T00:00:00\",\"2024-09-24T00:00:00\",\"2024-09-26T00:00:00\",\"2024-09-28T00:00:00\",\"2024-09-30T00:00:00\",\"2024-10-01T00:00:00\",\"2024-10-02T00:00:00\",\"2024-10-03T00:00:00\",\"2024-10-04T00:00:00\",\"2024-10-07T00:00:00\",\"2024-10-08T00:00:00\",\"2024-10-09T00:00:00\",\"2024-10-10T00:00:00\",\"2024-10-11T00:00:00\",\"2024-10-15T00:00:00\",\"2024-10-16T00:00:00\",\"2024-10-17T00:00:00\",\"2024-10-21T00:00:00\",\"2024-10-23T00:00:00\",\"2024-10-24T00:00:00\",\"2024-10-25T00:00:00\",\"2024-10-26T00:00:00\",\"2024-10-28T00:00:00\",\"2024-10-29T00:00:00\",\"2024-10-30T00:00:00\",\"2024-10-31T00:00:00\",\"2024-11-01T00:00:00\",\"2024-11-04T00:00:00\",\"2024-11-05T00:00:00\",\"2024-11-07T00:00:00\",\"2024-11-08T00:00:00\",\"2024-11-11T00:00:00\",\"2024-11-15T00:00:00\",\"2024-11-18T00:00:00\",\"2024-11-19T00:00:00\",\"2024-11-20T00:00:00\",\"2024-11-24T00:00:00\",\"2024-11-25T00:00:00\",\"2024-11-26T00:00:00\",\"2024-11-27T00:00:00\",\"2024-12-02T00:00:00\",\"2024-12-03T00:00:00\",\"2024-12-04T00:00:00\",\"2024-12-05T00:00:00\",\"2024-12-06T00:00:00\",\"2024-12-07T00:00:00\",\"2024-12-10T00:00:00\",\"2024-12-11T00:00:00\",\"2024-12-13T00:00:00\",\"2024-12-16T00:00:00\",\"2024-12-18T00:00:00\",\"2024-12-20T00:00:00\",\"2024-12-23T00:00:00\",\"2024-12-26T00:00:00\",\"2024-12-27T00:00:00\",\"2024-12-30T00:00:00\",\"2025-01-02T00:00:00\",\"2025-01-03T00:00:00\",\"2025-01-06T00:00:00\",\"2025-01-07T00:00:00\",\"2025-01-08T00:00:00\",\"2025-01-10T00:00:00\",\"2025-01-13T00:00:00\",\"2025-01-14T00:00:00\",\"2025-01-15T00:00:00\",\"2025-01-16T00:00:00\",\"2025-01-17T00:00:00\",\"2025-01-21T00:00:00\",\"2025-01-22T00:00:00\",\"2025-01-23T00:00:00\",\"2025-01-24T00:00:00\",\"2025-01-27T00:00:00\",\"2025-01-28T00:00:00\",\"2025-01-29T00:00:00\",\"2025-01-31T00:00:00\",\"2025-02-04T00:00:00\",\"2025-02-05T00:00:00\",\"2025-02-06T00:00:00\"],\"y\":[8.0,7.0,6.0,6.0,2.0,8.0,11.0,12.0,19.0,1.0,1.0,5.0,10.0,13.0,6.0,9.0,4.0,5.0,10.0,5.0,2.0,2.0,26.0,11.0,15.0,13.0,4.0,12.0,8.0,4.0,1.0,11.0,5.0,3.0,5.0,9.0,4.0,1.0,24.0,17.0,8.0,18.0,9.0,2.0,4.0,6.0,2.0,4.0,1.0,2.0,16.0,5.0,3.0,5.0,4.0,18.0,1.0,3.0,4.0,6.0,3.0,6.0,1.0,3.0,5.0,14.0,4.0,4.0,2.0,2.0,6.0,26.0,4.0,3.0,6.0,10.0,5.0,6.0,4.0,8.0,8.0,4.0,6.0,4.0,3.0,8.0,2.0,3.0,2.0,4.0,11.0,31.0,2.0,17.0,2.0,3.0,3.0,8.0,3.0,1.0,8.0,2.0,1.0,1.0,3.0,6.0,10.0,12.0,6.0,2.0,3.0,2.0,8.0,14.0,5.0,1.0,3.0,11.0,4.0,36.0,1.0,5.0,15.0,1.0,2.0,9.0,2.0,4.0,2.0,2.0,20.0,6.0,1.0,6.0,19.0,13.0,8.0,1.0,4.0,3.0,2.0,3.0,1.0,6.0,null,6.0,3.0,5.0,6.0,1.0,12.0,7.0,5.0,9.0,21.0,2.0,6.0,9.0,3.0,3.0,1.0,30.0,21.0,2.0,14.0,1.0,5.0,5.0,10.0,9.0,6.0,13.0,11.0,5.0,null,2.0,5.0,1.0,5.0,4.0,3.0,3.0,2.0,15.0,5.0,2.0,3.0,1.0,15.0,4.0,7.0,2.0,9.0,31.0,3.0,20.0,4.0,7.0,9.0,16.0,7.0,2.0,36.0,6.0,14.0,3.0,16.0,6.0,16.0,3.0,4.0,5.0,2.0,2.0,2.0,2.0,2.0,null,4.0,2.0,6.0,1.0,19.0,1.0,4.0,1.0,5.0,10.0,9.0,1.0,4.0,12.0,2.0,1.0,2.0,5.0,1.0,2.0,2.0,8.0,1.0,2.0,2.0,6.0,7.0,3.0,2.0,2.0,10.0,3.0,2.0,9.0,13.0,30.0,2.0,17.0,3.0,2.0,8.0,3.0,3.0,1.0,1.0,4.0,1.0,7.0,6.0,1.0,4.0,2.0,16.0,14.0,1.0,3.0,1.0,5.0,1.0,5.0,10.0,11.0,2.0,5.0,8.0,1.0,2.0,4.0,1.0,6.0,12.0,4.0,2.0,16.0,5.0,6.0,12.0,4.0,1.0,4.0,1.0,2.0,3.0,2.0,6.0,2.0,5.0,7.0,4.0,7.0,1.0,2.0,5.0,1.0,11.0,3.0,11.0,14.0,1.0,4.0,2.0,11.0,2.0,4.0,5.0,25.0,4.0,4.0,8.0,4.0,3.0,4.0,8.0,5.0,1.0,11.0,6.0,9.0,2.0,4.0,2.0,7.0,13.0,1.0,7.0,4.0,4.0,1.0,2.0,21.0,28.0,5.0,2.0,9.0,1.0,3.0,15.0,11.0,14.0,4.0,7.0,14.0,6.0,9.0,7.0,4.0,5.0,14.0,9.0,9.0,4.0,4.0,1.0,7.0,1.0,8.0,11.0,4.0,7.0,21.0,7.0,9.0,11.0,7.0,5.0,23.0,3.0,1.0,4.0,2.0,13.0,7.0,13.0,2.0,2.0,3.0,1.0,5.0,6.0,5.0,10.0,3.0,3.0,4.0,3.0,2.0,4.0,19.0,10.0,5.0,7.0,4.0,2.0,1.0,5.0,3.0,4.0,2.0,14.0,6.0,4.0,6.0,6.0,2.0,12.0,1.0,1.0,8.0,3.0,2.0,4.0,2.0,26.0,1.0,4.0,11.0,9.0,9.0,3.0,4.0,5.0,2.0,2.0,1.0,8.0,3.0,1.0,6.0,2.0,8.0,2.0,2.0,1.0,4.0,4.0,6.0,4.0,2.0,5.0,2.0,7.0,3.0,6.0,3.0,6.0,19.0,4.0,1.0,1.0,1.0,2.0,7.0,5.0,5.0,2.0,6.0,4.0,1.0,3.0,13.0,2.0,13.0,2.0,8.0,6.0,9.0,4.0,3.0,11.0,6.0,9.0,72.0,null,null,null,null,null,null,null,null,null,null,4.0,6.0,2.0,5.0,9.0,3.0,1.0,5.0,2.0,6.0,2.0,9.0,7.0,3.0,3.0,3.0,1.0,4.0,9.0,1.0,4.0,3.0,6.0,5.0,3.0,14.0,10.0,9.0,4.0,9.0,6.0,14.0,6.0,4.0,2.0,4.0,10.0,10.0,2.0,4.0,2.0,9.0,14.0,2.0,3.0,4.0,2.0,2.0,5.0,3.0,7.0,4.0,6.0,4.0,8.0,23.0,9.0,3.0,8.0,1.0,11.0,2.0,7.0,5.0,1.0,3.0,3.0,6.0,2.0,1.0,4.0,3.0,5.0,7.0,4.0,23.0,7.0,1.0,1.0,2.0,12.0,5.0,2.0,4.0,2.0,2.0,1.0,3.0,2.0,2.0,2.0,3.0,2.0,2.0,4.0,6.0,8.0,2.0,2.0,1.0,6.0,1.0,4.0,8.0,5.0,9.0,6.0,3.0,6.0,3.0,5.0,2.0,15.0,1.0,11.0,1.0,5.0,14.0,7.0,8.0,4.0,8.0,7.0,61.0,1.0,6.0,4.0,5.0,5.0,7.0,5.0,1.0,3.0,2.0,2.0,5.0,2.0,11.0,2.0,10.0,4.0,2.0,2.0,2.0,3.0,1.0,15.0,2.0,9.0,5.0,6.0,8.0,15.0,2.0,3.0,2.0,4.0,2.0,3.0,4.0,7.0,8.0,4.0,4.0,8.0,2.0,11.0,2.0,2.0,3.0,4.0,6.0,4.0,4.0,1.0,1.0,2.0,3.0,13.0,17.0,2.0,1.0,5.0,1.0,1.0,21.0,10.0,6.0,1.0,2.0,7.0,4.0,2.0,2.0,13.0,3.0,4.0,5.0,6.0,5.0,3.0,1.0,3.0,4.0,1.0,4.0,2.0,1.0,3.0,5.0,15.0,2.0,4.0,7.0,3.0,2.0],\"type\":\"scatter\",\"xaxis\":\"x2\",\"yaxis\":\"y2\"}],                        {\"template\":{\"data\":{\"barpolar\":[{\"marker\":{\"line\":{\"color\":\"white\",\"width\":0.5},\"pattern\":{\"fillmode\":\"overlay\",\"size\":10,\"solidity\":0.2}},\"type\":\"barpolar\"}],\"bar\":[{\"error_x\":{\"color\":\"#2a3f5f\"},\"error_y\":{\"color\":\"#2a3f5f\"},\"marker\":{\"line\":{\"color\":\"white\",\"width\":0.5},\"pattern\":{\"fillmode\":\"overlay\",\"size\":10,\"solidity\":0.2}},\"type\":\"bar\"}],\"carpet\":[{\"aaxis\":{\"endlinecolor\":\"#2a3f5f\",\"gridcolor\":\"#C8D4E3\",\"linecolor\":\"#C8D4E3\",\"minorgridcolor\":\"#C8D4E3\",\"startlinecolor\":\"#2a3f5f\"},\"baxis\":{\"endlinecolor\":\"#2a3f5f\",\"gridcolor\":\"#C8D4E3\",\"linecolor\":\"#C8D4E3\",\"minorgridcolor\":\"#C8D4E3\",\"startlinecolor\":\"#2a3f5f\"},\"type\":\"carpet\"}],\"choropleth\":[{\"colorbar\":{\"outlinewidth\":0,\"ticks\":\"\"},\"type\":\"choropleth\"}],\"contourcarpet\":[{\"colorbar\":{\"outlinewidth\":0,\"ticks\":\"\"},\"type\":\"contourcarpet\"}],\"contour\":[{\"colorbar\":{\"outlinewidth\":0,\"ticks\":\"\"},\"colorscale\":[[0.0,\"#0d0887\"],[0.1111111111111111,\"#46039f\"],[0.2222222222222222,\"#7201a8\"],[0.3333333333333333,\"#9c179e\"],[0.4444444444444444,\"#bd3786\"],[0.5555555555555556,\"#d8576b\"],[0.6666666666666666,\"#ed7953\"],[0.7777777777777778,\"#fb9f3a\"],[0.8888888888888888,\"#fdca26\"],[1.0,\"#f0f921\"]],\"type\":\"contour\"}],\"heatmapgl\":[{\"colorbar\":{\"outlinewidth\":0,\"ticks\":\"\"},\"colorscale\":[[0.0,\"#0d0887\"],[0.1111111111111111,\"#46039f\"],[0.2222222222222222,\"#7201a8\"],[0.3333333333333333,\"#9c179e\"],[0.4444444444444444,\"#bd3786\"],[0.5555555555555556,\"#d8576b\"],[0.6666666666666666,\"#ed7953\"],[0.7777777777777778,\"#fb9f3a\"],[0.8888888888888888,\"#fdca26\"],[1.0,\"#f0f921\"]],\"type\":\"heatmapgl\"}],\"heatmap\":[{\"colorbar\":{\"outlinewidth\":0,\"ticks\":\"\"},\"colorscale\":[[0.0,\"#0d0887\"],[0.1111111111111111,\"#46039f\"],[0.2222222222222222,\"#7201a8\"],[0.3333333333333333,\"#9c179e\"],[0.4444444444444444,\"#bd3786\"],[0.5555555555555556,\"#d8576b\"],[0.6666666666666666,\"#ed7953\"],[0.7777777777777778,\"#fb9f3a\"],[0.8888888888888888,\"#fdca26\"],[1.0,\"#f0f921\"]],\"type\":\"heatmap\"}],\"histogram2dcontour\":[{\"colorbar\":{\"outlinewidth\":0,\"ticks\":\"\"},\"colorscale\":[[0.0,\"#0d0887\"],[0.1111111111111111,\"#46039f\"],[0.2222222222222222,\"#7201a8\"],[0.3333333333333333,\"#9c179e\"],[0.4444444444444444,\"#bd3786\"],[0.5555555555555556,\"#d8576b\"],[0.6666666666666666,\"#ed7953\"],[0.7777777777777778,\"#fb9f3a\"],[0.8888888888888888,\"#fdca26\"],[1.0,\"#f0f921\"]],\"type\":\"histogram2dcontour\"}],\"histogram2d\":[{\"colorbar\":{\"outlinewidth\":0,\"ticks\":\"\"},\"colorscale\":[[0.0,\"#0d0887\"],[0.1111111111111111,\"#46039f\"],[0.2222222222222222,\"#7201a8\"],[0.3333333333333333,\"#9c179e\"],[0.4444444444444444,\"#bd3786\"],[0.5555555555555556,\"#d8576b\"],[0.6666666666666666,\"#ed7953\"],[0.7777777777777778,\"#fb9f3a\"],[0.8888888888888888,\"#fdca26\"],[1.0,\"#f0f921\"]],\"type\":\"histogram2d\"}],\"histogram\":[{\"marker\":{\"pattern\":{\"fillmode\":\"overlay\",\"size\":10,\"solidity\":0.2}},\"type\":\"histogram\"}],\"mesh3d\":[{\"colorbar\":{\"outlinewidth\":0,\"ticks\":\"\"},\"type\":\"mesh3d\"}],\"parcoords\":[{\"line\":{\"colorbar\":{\"outlinewidth\":0,\"ticks\":\"\"}},\"type\":\"parcoords\"}],\"pie\":[{\"automargin\":true,\"type\":\"pie\"}],\"scatter3d\":[{\"line\":{\"colorbar\":{\"outlinewidth\":0,\"ticks\":\"\"}},\"marker\":{\"colorbar\":{\"outlinewidth\":0,\"ticks\":\"\"}},\"type\":\"scatter3d\"}],\"scattercarpet\":[{\"marker\":{\"colorbar\":{\"outlinewidth\":0,\"ticks\":\"\"}},\"type\":\"scattercarpet\"}],\"scattergeo\":[{\"marker\":{\"colorbar\":{\"outlinewidth\":0,\"ticks\":\"\"}},\"type\":\"scattergeo\"}],\"scattergl\":[{\"marker\":{\"colorbar\":{\"outlinewidth\":0,\"ticks\":\"\"}},\"type\":\"scattergl\"}],\"scattermapbox\":[{\"marker\":{\"colorbar\":{\"outlinewidth\":0,\"ticks\":\"\"}},\"type\":\"scattermapbox\"}],\"scatterpolargl\":[{\"marker\":{\"colorbar\":{\"outlinewidth\":0,\"ticks\":\"\"}},\"type\":\"scatterpolargl\"}],\"scatterpolar\":[{\"marker\":{\"colorbar\":{\"outlinewidth\":0,\"ticks\":\"\"}},\"type\":\"scatterpolar\"}],\"scatter\":[{\"fillpattern\":{\"fillmode\":\"overlay\",\"size\":10,\"solidity\":0.2},\"type\":\"scatter\"}],\"scatterternary\":[{\"marker\":{\"colorbar\":{\"outlinewidth\":0,\"ticks\":\"\"}},\"type\":\"scatterternary\"}],\"surface\":[{\"colorbar\":{\"outlinewidth\":0,\"ticks\":\"\"},\"colorscale\":[[0.0,\"#0d0887\"],[0.1111111111111111,\"#46039f\"],[0.2222222222222222,\"#7201a8\"],[0.3333333333333333,\"#9c179e\"],[0.4444444444444444,\"#bd3786\"],[0.5555555555555556,\"#d8576b\"],[0.6666666666666666,\"#ed7953\"],[0.7777777777777778,\"#fb9f3a\"],[0.8888888888888888,\"#fdca26\"],[1.0,\"#f0f921\"]],\"type\":\"surface\"}],\"table\":[{\"cells\":{\"fill\":{\"color\":\"#EBF0F8\"},\"line\":{\"color\":\"white\"}},\"header\":{\"fill\":{\"color\":\"#C8D4E3\"},\"line\":{\"color\":\"white\"}},\"type\":\"table\"}]},\"layout\":{\"annotationdefaults\":{\"arrowcolor\":\"#2a3f5f\",\"arrowhead\":0,\"arrowwidth\":1},\"autotypenumbers\":\"strict\",\"coloraxis\":{\"colorbar\":{\"outlinewidth\":0,\"ticks\":\"\"}},\"colorscale\":{\"diverging\":[[0,\"#8e0152\"],[0.1,\"#c51b7d\"],[0.2,\"#de77ae\"],[0.3,\"#f1b6da\"],[0.4,\"#fde0ef\"],[0.5,\"#f7f7f7\"],[0.6,\"#e6f5d0\"],[0.7,\"#b8e186\"],[0.8,\"#7fbc41\"],[0.9,\"#4d9221\"],[1,\"#276419\"]],\"sequential\":[[0.0,\"#0d0887\"],[0.1111111111111111,\"#46039f\"],[0.2222222222222222,\"#7201a8\"],[0.3333333333333333,\"#9c179e\"],[0.4444444444444444,\"#bd3786\"],[0.5555555555555556,\"#d8576b\"],[0.6666666666666666,\"#ed7953\"],[0.7777777777777778,\"#fb9f3a\"],[0.8888888888888888,\"#fdca26\"],[1.0,\"#f0f921\"]],\"sequentialminus\":[[0.0,\"#0d0887\"],[0.1111111111111111,\"#46039f\"],[0.2222222222222222,\"#7201a8\"],[0.3333333333333333,\"#9c179e\"],[0.4444444444444444,\"#bd3786\"],[0.5555555555555556,\"#d8576b\"],[0.6666666666666666,\"#ed7953\"],[0.7777777777777778,\"#fb9f3a\"],[0.8888888888888888,\"#fdca26\"],[1.0,\"#f0f921\"]]},\"colorway\":[\"#636efa\",\"#EF553B\",\"#00cc96\",\"#ab63fa\",\"#FFA15A\",\"#19d3f3\",\"#FF6692\",\"#B6E880\",\"#FF97FF\",\"#FECB52\"],\"font\":{\"color\":\"#2a3f5f\"},\"geo\":{\"bgcolor\":\"white\",\"lakecolor\":\"white\",\"landcolor\":\"white\",\"showlakes\":true,\"showland\":true,\"subunitcolor\":\"#C8D4E3\"},\"hoverlabel\":{\"align\":\"left\"},\"hovermode\":\"closest\",\"mapbox\":{\"style\":\"light\"},\"paper_bgcolor\":\"white\",\"plot_bgcolor\":\"white\",\"polar\":{\"angularaxis\":{\"gridcolor\":\"#EBF0F8\",\"linecolor\":\"#EBF0F8\",\"ticks\":\"\"},\"bgcolor\":\"white\",\"radialaxis\":{\"gridcolor\":\"#EBF0F8\",\"linecolor\":\"#EBF0F8\",\"ticks\":\"\"}},\"scene\":{\"xaxis\":{\"backgroundcolor\":\"white\",\"gridcolor\":\"#DFE8F3\",\"gridwidth\":2,\"linecolor\":\"#EBF0F8\",\"showbackground\":true,\"ticks\":\"\",\"zerolinecolor\":\"#EBF0F8\"},\"yaxis\":{\"backgroundcolor\":\"white\",\"gridcolor\":\"#DFE8F3\",\"gridwidth\":2,\"linecolor\":\"#EBF0F8\",\"showbackground\":true,\"ticks\":\"\",\"zerolinecolor\":\"#EBF0F8\"},\"zaxis\":{\"backgroundcolor\":\"white\",\"gridcolor\":\"#DFE8F3\",\"gridwidth\":2,\"linecolor\":\"#EBF0F8\",\"showbackground\":true,\"ticks\":\"\",\"zerolinecolor\":\"#EBF0F8\"}},\"shapedefaults\":{\"line\":{\"color\":\"#2a3f5f\"}},\"ternary\":{\"aaxis\":{\"gridcolor\":\"#DFE8F3\",\"linecolor\":\"#A2B1C6\",\"ticks\":\"\"},\"baxis\":{\"gridcolor\":\"#DFE8F3\",\"linecolor\":\"#A2B1C6\",\"ticks\":\"\"},\"bgcolor\":\"white\",\"caxis\":{\"gridcolor\":\"#DFE8F3\",\"linecolor\":\"#A2B1C6\",\"ticks\":\"\"}},\"title\":{\"x\":0.05},\"xaxis\":{\"automargin\":true,\"gridcolor\":\"#EBF0F8\",\"linecolor\":\"#EBF0F8\",\"ticks\":\"\",\"title\":{\"standoff\":15},\"zerolinecolor\":\"#EBF0F8\",\"zerolinewidth\":2},\"yaxis\":{\"automargin\":true,\"gridcolor\":\"#EBF0F8\",\"linecolor\":\"#EBF0F8\",\"ticks\":\"\",\"title\":{\"standoff\":15},\"zerolinecolor\":\"#EBF0F8\",\"zerolinewidth\":2}}},\"xaxis\":{\"anchor\":\"y\",\"domain\":[0.0,1.0],\"matches\":\"x2\",\"showticklabels\":false,\"title\":{\"text\":\"Date\"},\"showline\":true,\"linewidth\":3,\"linecolor\":\"black\",\"mirror\":true,\"ticklabelstep\":1,\"showgrid\":false},\"yaxis\":{\"anchor\":\"x\",\"domain\":[0.55,1.0],\"title\":{\"text\":\"Historical Data\"},\"showline\":true,\"linewidth\":3,\"linecolor\":\"black\",\"mirror\":true,\"showgrid\":false},\"xaxis2\":{\"anchor\":\"y2\",\"domain\":[0.0,1.0],\"showgrid\":false},\"yaxis2\":{\"anchor\":\"x2\",\"domain\":[0.0,0.45],\"showgrid\":false},\"title\":{\"text\":\"REVISED HISTORICAL DATA of ATT.100083026\",\"font\":{\"size\":15,\"color\":\"black\"}},\"legend\":{\"font\":{\"size\":14,\"color\":\"black\"},\"orientation\":\"h\",\"x\":0.5,\"y\":1.05,\"xanchor\":\"center\"},\"width\":1100,\"height\":800,\"plot_bgcolor\":\"rgba(0, 0, 0, 0)\",\"hovermode\":\"closest\"},                        {\"responsive\": true}                    ).then(function(){\n",
       "                            \n",
       "var gd = document.getElementById('35f5c1b8-d888-47f9-9d9b-a310c1b96caf');\n",
       "var x = new MutationObserver(function (mutations, observer) {{\n",
       "        var display = window.getComputedStyle(gd).display;\n",
       "        if (!display || display === 'none') {{\n",
       "            console.log([gd, 'removed!']);\n",
       "            Plotly.purge(gd);\n",
       "            observer.disconnect();\n",
       "        }}\n",
       "}});\n",
       "\n",
       "// Listen for the removal of the full notebook cells\n",
       "var notebookContainer = gd.closest('#notebook-container');\n",
       "if (notebookContainer) {{\n",
       "    x.observe(notebookContainer, {childList: true});\n",
       "}}\n",
       "\n",
       "// Listen for the clearing of the current output cell\n",
       "var outputEl = gd.closest('.output');\n",
       "if (outputEl) {{\n",
       "    x.observe(outputEl, {childList: true});\n",
       "}}\n",
       "\n",
       "                        })                };                });            </script>        </div>"
      ]
     },
     "metadata": {},
     "output_type": "display_data"
    },
    {
     "name": "stdout",
     "output_type": "stream",
     "text": [
      " \n",
      "Preprocessing  Get Started.....\n",
      " \n",
      "Imputing missing values in 'Quantity' with MODE (high skewness detected).\n",
      "Global IQR: Lower Bound = -10.0, Upper Bound = 20.0\n",
      "data (After_Preprocessing)\n",
      "           ds      y\n",
      "0  2022-01-31  150.0\n",
      "1  2022-02-28  157.0\n",
      "2  2022-03-31  105.0\n",
      "3  2022-04-30  100.0\n",
      "4  2022-05-31  105.0\n",
      "5  2022-06-30  111.0\n",
      "6  2022-07-31  120.0\n",
      "7  2022-08-31  102.0\n",
      "8  2022-09-30  103.0\n",
      "9  2022-10-31  146.0\n",
      "10 2022-11-30   94.0\n",
      "11 2022-12-31   92.0\n",
      "12 2023-01-31  109.0\n",
      "13 2023-02-28   82.0\n",
      "14 2023-03-31  122.0\n",
      "15 2023-04-30   86.0\n",
      "16 2023-05-31  103.0\n",
      "17 2023-06-30  109.0\n",
      "18 2023-07-31  128.0\n",
      "19 2023-08-31  127.0\n",
      "20 2023-09-30   91.0\n",
      "21 2023-10-31   91.0\n",
      "22 2023-11-30   82.0\n",
      "23 2023-12-31   73.0\n",
      "24 2024-01-31  123.0\n",
      "25 2024-02-29   47.0\n",
      "26 2024-03-31   91.0\n",
      "27 2024-04-30  119.0\n",
      "28 2024-05-31  105.0\n",
      "29 2024-06-30   79.0\n",
      "30 2024-07-31   63.0\n",
      "31 2024-08-31  135.0\n",
      "32 2024-09-30   72.0\n",
      "33 2024-10-31  109.0\n",
      "34 2024-11-30   53.0\n",
      "35 2024-12-31   75.0\n",
      "36 2025-01-31   84.0\n"
     ]
    },
    {
     "data": {
      "application/vnd.plotly.v1+json": {
       "config": {
        "plotlyServerURL": "https://plot.ly"
       },
       "data": [
        {
         "line": {
          "color": "blue",
          "dash": "solid",
          "shape": "spline",
          "width": 1.5
         },
         "mode": "lines",
         "name": "Original Data",
         "type": "scatter",
         "x": [
          "2022-01-31T00:00:00",
          "2022-02-28T00:00:00",
          "2022-03-31T00:00:00",
          "2022-04-30T00:00:00",
          "2022-05-31T00:00:00",
          "2022-06-30T00:00:00",
          "2022-07-31T00:00:00",
          "2022-08-31T00:00:00",
          "2022-09-30T00:00:00",
          "2022-10-31T00:00:00",
          "2022-11-30T00:00:00",
          "2022-12-31T00:00:00",
          "2023-01-31T00:00:00",
          "2023-02-28T00:00:00",
          "2023-03-31T00:00:00",
          "2023-04-30T00:00:00",
          "2023-05-31T00:00:00",
          "2023-06-30T00:00:00",
          "2023-07-31T00:00:00",
          "2023-08-31T00:00:00",
          "2023-09-30T00:00:00",
          "2023-10-31T00:00:00",
          "2023-11-30T00:00:00",
          "2023-12-31T00:00:00",
          "2024-01-31T00:00:00",
          "2024-02-29T00:00:00",
          "2024-03-31T00:00:00",
          "2024-04-30T00:00:00",
          "2024-05-31T00:00:00",
          "2024-06-30T00:00:00",
          "2024-07-31T00:00:00",
          "2024-08-31T00:00:00",
          "2024-09-30T00:00:00",
          "2024-10-31T00:00:00",
          "2024-11-30T00:00:00",
          "2024-12-31T00:00:00",
          "2025-01-31T00:00:00"
         ],
         "y": [
          150,
          157,
          105,
          100,
          105,
          111,
          120,
          102,
          103,
          146,
          94,
          92,
          109,
          82,
          122,
          86,
          103,
          109,
          128,
          127,
          91,
          91,
          82,
          73,
          123,
          47,
          91,
          119,
          105,
          79,
          63,
          135,
          72,
          109,
          53,
          75,
          84
         ]
        }
       ],
       "layout": {
        "height": 500,
        "hovermode": "closest",
        "legend": {
         "font": {
          "color": "black",
          "size": 10
         },
         "orientation": "h",
         "x": 0.5,
         "xanchor": "center",
         "y": 1.05
        },
        "plot_bgcolor": "rgba(255, 255, 255, 1)",
        "template": {
         "data": {
          "bar": [
           {
            "error_x": {
             "color": "#2a3f5f"
            },
            "error_y": {
             "color": "#2a3f5f"
            },
            "marker": {
             "line": {
              "color": "white",
              "width": 0.5
             },
             "pattern": {
              "fillmode": "overlay",
              "size": 10,
              "solidity": 0.2
             }
            },
            "type": "bar"
           }
          ],
          "barpolar": [
           {
            "marker": {
             "line": {
              "color": "white",
              "width": 0.5
             },
             "pattern": {
              "fillmode": "overlay",
              "size": 10,
              "solidity": 0.2
             }
            },
            "type": "barpolar"
           }
          ],
          "carpet": [
           {
            "aaxis": {
             "endlinecolor": "#2a3f5f",
             "gridcolor": "#C8D4E3",
             "linecolor": "#C8D4E3",
             "minorgridcolor": "#C8D4E3",
             "startlinecolor": "#2a3f5f"
            },
            "baxis": {
             "endlinecolor": "#2a3f5f",
             "gridcolor": "#C8D4E3",
             "linecolor": "#C8D4E3",
             "minorgridcolor": "#C8D4E3",
             "startlinecolor": "#2a3f5f"
            },
            "type": "carpet"
           }
          ],
          "choropleth": [
           {
            "colorbar": {
             "outlinewidth": 0,
             "ticks": ""
            },
            "type": "choropleth"
           }
          ],
          "contour": [
           {
            "colorbar": {
             "outlinewidth": 0,
             "ticks": ""
            },
            "colorscale": [
             [
              0,
              "#0d0887"
             ],
             [
              0.1111111111111111,
              "#46039f"
             ],
             [
              0.2222222222222222,
              "#7201a8"
             ],
             [
              0.3333333333333333,
              "#9c179e"
             ],
             [
              0.4444444444444444,
              "#bd3786"
             ],
             [
              0.5555555555555556,
              "#d8576b"
             ],
             [
              0.6666666666666666,
              "#ed7953"
             ],
             [
              0.7777777777777778,
              "#fb9f3a"
             ],
             [
              0.8888888888888888,
              "#fdca26"
             ],
             [
              1,
              "#f0f921"
             ]
            ],
            "type": "contour"
           }
          ],
          "contourcarpet": [
           {
            "colorbar": {
             "outlinewidth": 0,
             "ticks": ""
            },
            "type": "contourcarpet"
           }
          ],
          "heatmap": [
           {
            "colorbar": {
             "outlinewidth": 0,
             "ticks": ""
            },
            "colorscale": [
             [
              0,
              "#0d0887"
             ],
             [
              0.1111111111111111,
              "#46039f"
             ],
             [
              0.2222222222222222,
              "#7201a8"
             ],
             [
              0.3333333333333333,
              "#9c179e"
             ],
             [
              0.4444444444444444,
              "#bd3786"
             ],
             [
              0.5555555555555556,
              "#d8576b"
             ],
             [
              0.6666666666666666,
              "#ed7953"
             ],
             [
              0.7777777777777778,
              "#fb9f3a"
             ],
             [
              0.8888888888888888,
              "#fdca26"
             ],
             [
              1,
              "#f0f921"
             ]
            ],
            "type": "heatmap"
           }
          ],
          "heatmapgl": [
           {
            "colorbar": {
             "outlinewidth": 0,
             "ticks": ""
            },
            "colorscale": [
             [
              0,
              "#0d0887"
             ],
             [
              0.1111111111111111,
              "#46039f"
             ],
             [
              0.2222222222222222,
              "#7201a8"
             ],
             [
              0.3333333333333333,
              "#9c179e"
             ],
             [
              0.4444444444444444,
              "#bd3786"
             ],
             [
              0.5555555555555556,
              "#d8576b"
             ],
             [
              0.6666666666666666,
              "#ed7953"
             ],
             [
              0.7777777777777778,
              "#fb9f3a"
             ],
             [
              0.8888888888888888,
              "#fdca26"
             ],
             [
              1,
              "#f0f921"
             ]
            ],
            "type": "heatmapgl"
           }
          ],
          "histogram": [
           {
            "marker": {
             "pattern": {
              "fillmode": "overlay",
              "size": 10,
              "solidity": 0.2
             }
            },
            "type": "histogram"
           }
          ],
          "histogram2d": [
           {
            "colorbar": {
             "outlinewidth": 0,
             "ticks": ""
            },
            "colorscale": [
             [
              0,
              "#0d0887"
             ],
             [
              0.1111111111111111,
              "#46039f"
             ],
             [
              0.2222222222222222,
              "#7201a8"
             ],
             [
              0.3333333333333333,
              "#9c179e"
             ],
             [
              0.4444444444444444,
              "#bd3786"
             ],
             [
              0.5555555555555556,
              "#d8576b"
             ],
             [
              0.6666666666666666,
              "#ed7953"
             ],
             [
              0.7777777777777778,
              "#fb9f3a"
             ],
             [
              0.8888888888888888,
              "#fdca26"
             ],
             [
              1,
              "#f0f921"
             ]
            ],
            "type": "histogram2d"
           }
          ],
          "histogram2dcontour": [
           {
            "colorbar": {
             "outlinewidth": 0,
             "ticks": ""
            },
            "colorscale": [
             [
              0,
              "#0d0887"
             ],
             [
              0.1111111111111111,
              "#46039f"
             ],
             [
              0.2222222222222222,
              "#7201a8"
             ],
             [
              0.3333333333333333,
              "#9c179e"
             ],
             [
              0.4444444444444444,
              "#bd3786"
             ],
             [
              0.5555555555555556,
              "#d8576b"
             ],
             [
              0.6666666666666666,
              "#ed7953"
             ],
             [
              0.7777777777777778,
              "#fb9f3a"
             ],
             [
              0.8888888888888888,
              "#fdca26"
             ],
             [
              1,
              "#f0f921"
             ]
            ],
            "type": "histogram2dcontour"
           }
          ],
          "mesh3d": [
           {
            "colorbar": {
             "outlinewidth": 0,
             "ticks": ""
            },
            "type": "mesh3d"
           }
          ],
          "parcoords": [
           {
            "line": {
             "colorbar": {
              "outlinewidth": 0,
              "ticks": ""
             }
            },
            "type": "parcoords"
           }
          ],
          "pie": [
           {
            "automargin": true,
            "type": "pie"
           }
          ],
          "scatter": [
           {
            "fillpattern": {
             "fillmode": "overlay",
             "size": 10,
             "solidity": 0.2
            },
            "type": "scatter"
           }
          ],
          "scatter3d": [
           {
            "line": {
             "colorbar": {
              "outlinewidth": 0,
              "ticks": ""
             }
            },
            "marker": {
             "colorbar": {
              "outlinewidth": 0,
              "ticks": ""
             }
            },
            "type": "scatter3d"
           }
          ],
          "scattercarpet": [
           {
            "marker": {
             "colorbar": {
              "outlinewidth": 0,
              "ticks": ""
             }
            },
            "type": "scattercarpet"
           }
          ],
          "scattergeo": [
           {
            "marker": {
             "colorbar": {
              "outlinewidth": 0,
              "ticks": ""
             }
            },
            "type": "scattergeo"
           }
          ],
          "scattergl": [
           {
            "marker": {
             "colorbar": {
              "outlinewidth": 0,
              "ticks": ""
             }
            },
            "type": "scattergl"
           }
          ],
          "scattermapbox": [
           {
            "marker": {
             "colorbar": {
              "outlinewidth": 0,
              "ticks": ""
             }
            },
            "type": "scattermapbox"
           }
          ],
          "scatterpolar": [
           {
            "marker": {
             "colorbar": {
              "outlinewidth": 0,
              "ticks": ""
             }
            },
            "type": "scatterpolar"
           }
          ],
          "scatterpolargl": [
           {
            "marker": {
             "colorbar": {
              "outlinewidth": 0,
              "ticks": ""
             }
            },
            "type": "scatterpolargl"
           }
          ],
          "scatterternary": [
           {
            "marker": {
             "colorbar": {
              "outlinewidth": 0,
              "ticks": ""
             }
            },
            "type": "scatterternary"
           }
          ],
          "surface": [
           {
            "colorbar": {
             "outlinewidth": 0,
             "ticks": ""
            },
            "colorscale": [
             [
              0,
              "#0d0887"
             ],
             [
              0.1111111111111111,
              "#46039f"
             ],
             [
              0.2222222222222222,
              "#7201a8"
             ],
             [
              0.3333333333333333,
              "#9c179e"
             ],
             [
              0.4444444444444444,
              "#bd3786"
             ],
             [
              0.5555555555555556,
              "#d8576b"
             ],
             [
              0.6666666666666666,
              "#ed7953"
             ],
             [
              0.7777777777777778,
              "#fb9f3a"
             ],
             [
              0.8888888888888888,
              "#fdca26"
             ],
             [
              1,
              "#f0f921"
             ]
            ],
            "type": "surface"
           }
          ],
          "table": [
           {
            "cells": {
             "fill": {
              "color": "#EBF0F8"
             },
             "line": {
              "color": "white"
             }
            },
            "header": {
             "fill": {
              "color": "#C8D4E3"
             },
             "line": {
              "color": "white"
             }
            },
            "type": "table"
           }
          ]
         },
         "layout": {
          "annotationdefaults": {
           "arrowcolor": "#2a3f5f",
           "arrowhead": 0,
           "arrowwidth": 1
          },
          "autotypenumbers": "strict",
          "coloraxis": {
           "colorbar": {
            "outlinewidth": 0,
            "ticks": ""
           }
          },
          "colorscale": {
           "diverging": [
            [
             0,
             "#8e0152"
            ],
            [
             0.1,
             "#c51b7d"
            ],
            [
             0.2,
             "#de77ae"
            ],
            [
             0.3,
             "#f1b6da"
            ],
            [
             0.4,
             "#fde0ef"
            ],
            [
             0.5,
             "#f7f7f7"
            ],
            [
             0.6,
             "#e6f5d0"
            ],
            [
             0.7,
             "#b8e186"
            ],
            [
             0.8,
             "#7fbc41"
            ],
            [
             0.9,
             "#4d9221"
            ],
            [
             1,
             "#276419"
            ]
           ],
           "sequential": [
            [
             0,
             "#0d0887"
            ],
            [
             0.1111111111111111,
             "#46039f"
            ],
            [
             0.2222222222222222,
             "#7201a8"
            ],
            [
             0.3333333333333333,
             "#9c179e"
            ],
            [
             0.4444444444444444,
             "#bd3786"
            ],
            [
             0.5555555555555556,
             "#d8576b"
            ],
            [
             0.6666666666666666,
             "#ed7953"
            ],
            [
             0.7777777777777778,
             "#fb9f3a"
            ],
            [
             0.8888888888888888,
             "#fdca26"
            ],
            [
             1,
             "#f0f921"
            ]
           ],
           "sequentialminus": [
            [
             0,
             "#0d0887"
            ],
            [
             0.1111111111111111,
             "#46039f"
            ],
            [
             0.2222222222222222,
             "#7201a8"
            ],
            [
             0.3333333333333333,
             "#9c179e"
            ],
            [
             0.4444444444444444,
             "#bd3786"
            ],
            [
             0.5555555555555556,
             "#d8576b"
            ],
            [
             0.6666666666666666,
             "#ed7953"
            ],
            [
             0.7777777777777778,
             "#fb9f3a"
            ],
            [
             0.8888888888888888,
             "#fdca26"
            ],
            [
             1,
             "#f0f921"
            ]
           ]
          },
          "colorway": [
           "#636efa",
           "#EF553B",
           "#00cc96",
           "#ab63fa",
           "#FFA15A",
           "#19d3f3",
           "#FF6692",
           "#B6E880",
           "#FF97FF",
           "#FECB52"
          ],
          "font": {
           "color": "#2a3f5f"
          },
          "geo": {
           "bgcolor": "white",
           "lakecolor": "white",
           "landcolor": "white",
           "showlakes": true,
           "showland": true,
           "subunitcolor": "#C8D4E3"
          },
          "hoverlabel": {
           "align": "left"
          },
          "hovermode": "closest",
          "mapbox": {
           "style": "light"
          },
          "paper_bgcolor": "white",
          "plot_bgcolor": "white",
          "polar": {
           "angularaxis": {
            "gridcolor": "#EBF0F8",
            "linecolor": "#EBF0F8",
            "ticks": ""
           },
           "bgcolor": "white",
           "radialaxis": {
            "gridcolor": "#EBF0F8",
            "linecolor": "#EBF0F8",
            "ticks": ""
           }
          },
          "scene": {
           "xaxis": {
            "backgroundcolor": "white",
            "gridcolor": "#DFE8F3",
            "gridwidth": 2,
            "linecolor": "#EBF0F8",
            "showbackground": true,
            "ticks": "",
            "zerolinecolor": "#EBF0F8"
           },
           "yaxis": {
            "backgroundcolor": "white",
            "gridcolor": "#DFE8F3",
            "gridwidth": 2,
            "linecolor": "#EBF0F8",
            "showbackground": true,
            "ticks": "",
            "zerolinecolor": "#EBF0F8"
           },
           "zaxis": {
            "backgroundcolor": "white",
            "gridcolor": "#DFE8F3",
            "gridwidth": 2,
            "linecolor": "#EBF0F8",
            "showbackground": true,
            "ticks": "",
            "zerolinecolor": "#EBF0F8"
           }
          },
          "shapedefaults": {
           "line": {
            "color": "#2a3f5f"
           }
          },
          "ternary": {
           "aaxis": {
            "gridcolor": "#DFE8F3",
            "linecolor": "#A2B1C6",
            "ticks": ""
           },
           "baxis": {
            "gridcolor": "#DFE8F3",
            "linecolor": "#A2B1C6",
            "ticks": ""
           },
           "bgcolor": "white",
           "caxis": {
            "gridcolor": "#DFE8F3",
            "linecolor": "#A2B1C6",
            "ticks": ""
           }
          },
          "title": {
           "x": 0.05
          },
          "xaxis": {
           "automargin": true,
           "gridcolor": "#EBF0F8",
           "linecolor": "#EBF0F8",
           "ticks": "",
           "title": {
            "standoff": 15
           },
           "zerolinecolor": "#EBF0F8",
           "zerolinewidth": 2
          },
          "yaxis": {
           "automargin": true,
           "gridcolor": "#EBF0F8",
           "linecolor": "#EBF0F8",
           "ticks": "",
           "title": {
            "standoff": 15
           },
           "zerolinecolor": "#EBF0F8",
           "zerolinewidth": 2
          }
         }
        },
        "title": {
         "font": {
          "color": "black",
          "family": "Arial",
          "size": 15
         },
         "text": "Nature of Dataset_1 after Outlier treatment (Monthly)"
        },
        "width": 1100,
        "xaxis": {
         "autorange": true,
         "gridcolor": "lightgray",
         "linecolor": "black",
         "linewidth": 1,
         "range": [
          "2022-01-31",
          "2025-01-31"
         ],
         "showgrid": false,
         "showline": false,
         "title": {
          "text": "Date"
         },
         "type": "date",
         "zeroline": true,
         "zerolinewidth": 1
        },
        "yaxis": {
         "autorange": true,
         "gridcolor": "lightgray",
         "linecolor": "black",
         "linewidth": 1,
         "range": [
          40.888888888888886,
          163.11111111111111
         ],
         "showgrid": false,
         "showline": false,
         "title": {
          "text": "Values"
         },
         "type": "linear",
         "zeroline": true,
         "zerolinewidth": 1
        }
       }
      },
      "image/png": "[encoded data removed]",
      "text/html": [
       "<div>                            <div id=\"f21dec97-1d7d-46e5-9992-24b1e1b60484\" class=\"plotly-graph-div\" style=\"height:500px; width:1100px;\"></div>            <script type=\"text/javascript\">                require([\"plotly\"], function(Plotly) {                    window.PLOTLYENV=window.PLOTLYENV || {};                                    if (document.getElementById(\"f21dec97-1d7d-46e5-9992-24b1e1b60484\")) {                    Plotly.newPlot(                        \"f21dec97-1d7d-46e5-9992-24b1e1b60484\",                        [{\"line\":{\"color\":\"blue\",\"dash\":\"solid\",\"shape\":\"spline\",\"width\":1.5},\"mode\":\"lines\",\"name\":\"Original Data\",\"x\":[\"2022-01-31T00:00:00\",\"2022-02-28T00:00:00\",\"2022-03-31T00:00:00\",\"2022-04-30T00:00:00\",\"2022-05-31T00:00:00\",\"2022-06-30T00:00:00\",\"2022-07-31T00:00:00\",\"2022-08-31T00:00:00\",\"2022-09-30T00:00:00\",\"2022-10-31T00:00:00\",\"2022-11-30T00:00:00\",\"2022-12-31T00:00:00\",\"2023-01-31T00:00:00\",\"2023-02-28T00:00:00\",\"2023-03-31T00:00:00\",\"2023-04-30T00:00:00\",\"2023-05-31T00:00:00\",\"2023-06-30T00:00:00\",\"2023-07-31T00:00:00\",\"2023-08-31T00:00:00\",\"2023-09-30T00:00:00\",\"2023-10-31T00:00:00\",\"2023-11-30T00:00:00\",\"2023-12-31T00:00:00\",\"2024-01-31T00:00:00\",\"2024-02-29T00:00:00\",\"2024-03-31T00:00:00\",\"2024-04-30T00:00:00\",\"2024-05-31T00:00:00\",\"2024-06-30T00:00:00\",\"2024-07-31T00:00:00\",\"2024-08-31T00:00:00\",\"2024-09-30T00:00:00\",\"2024-10-31T00:00:00\",\"2024-11-30T00:00:00\",\"2024-12-31T00:00:00\",\"2025-01-31T00:00:00\"],\"y\":[150.0,157.0,105.0,100.0,105.0,111.0,120.0,102.0,103.0,146.0,94.0,92.0,109.0,82.0,122.0,86.0,103.0,109.0,128.0,127.0,91.0,91.0,82.0,73.0,123.0,47.0,91.0,119.0,105.0,79.0,63.0,135.0,72.0,109.0,53.0,75.0,84.0],\"type\":\"scatter\"}],                        {\"template\":{\"data\":{\"barpolar\":[{\"marker\":{\"line\":{\"color\":\"white\",\"width\":0.5},\"pattern\":{\"fillmode\":\"overlay\",\"size\":10,\"solidity\":0.2}},\"type\":\"barpolar\"}],\"bar\":[{\"error_x\":{\"color\":\"#2a3f5f\"},\"error_y\":{\"color\":\"#2a3f5f\"},\"marker\":{\"line\":{\"color\":\"white\",\"width\":0.5},\"pattern\":{\"fillmode\":\"overlay\",\"size\":10,\"solidity\":0.2}},\"type\":\"bar\"}],\"carpet\":[{\"aaxis\":{\"endlinecolor\":\"#2a3f5f\",\"gridcolor\":\"#C8D4E3\",\"linecolor\":\"#C8D4E3\",\"minorgridcolor\":\"#C8D4E3\",\"startlinecolor\":\"#2a3f5f\"},\"baxis\":{\"endlinecolor\":\"#2a3f5f\",\"gridcolor\":\"#C8D4E3\",\"linecolor\":\"#C8D4E3\",\"minorgridcolor\":\"#C8D4E3\",\"startlinecolor\":\"#2a3f5f\"},\"type\":\"carpet\"}],\"choropleth\":[{\"colorbar\":{\"outlinewidth\":0,\"ticks\":\"\"},\"type\":\"choropleth\"}],\"contourcarpet\":[{\"colorbar\":{\"outlinewidth\":0,\"ticks\":\"\"},\"type\":\"contourcarpet\"}],\"contour\":[{\"colorbar\":{\"outlinewidth\":0,\"ticks\":\"\"},\"colorscale\":[[0.0,\"#0d0887\"],[0.1111111111111111,\"#46039f\"],[0.2222222222222222,\"#7201a8\"],[0.3333333333333333,\"#9c179e\"],[0.4444444444444444,\"#bd3786\"],[0.5555555555555556,\"#d8576b\"],[0.6666666666666666,\"#ed7953\"],[0.7777777777777778,\"#fb9f3a\"],[0.8888888888888888,\"#fdca26\"],[1.0,\"#f0f921\"]],\"type\":\"contour\"}],\"heatmapgl\":[{\"colorbar\":{\"outlinewidth\":0,\"ticks\":\"\"},\"colorscale\":[[0.0,\"#0d0887\"],[0.1111111111111111,\"#46039f\"],[0.2222222222222222,\"#7201a8\"],[0.3333333333333333,\"#9c179e\"],[0.4444444444444444,\"#bd3786\"],[0.5555555555555556,\"#d8576b\"],[0.6666666666666666,\"#ed7953\"],[0.7777777777777778,\"#fb9f3a\"],[0.8888888888888888,\"#fdca26\"],[1.0,\"#f0f921\"]],\"type\":\"heatmapgl\"}],\"heatmap\":[{\"colorbar\":{\"outlinewidth\":0,\"ticks\":\"\"},\"colorscale\":[[0.0,\"#0d0887\"],[0.1111111111111111,\"#46039f\"],[0.2222222222222222,\"#7201a8\"],[0.3333333333333333,\"#9c179e\"],[0.4444444444444444,\"#bd3786\"],[0.5555555555555556,\"#d8576b\"],[0.6666666666666666,\"#ed7953\"],[0.7777777777777778,\"#fb9f3a\"],[0.8888888888888888,\"#fdca26\"],[1.0,\"#f0f921\"]],\"type\":\"heatmap\"}],\"histogram2dcontour\":[{\"colorbar\":{\"outlinewidth\":0,\"ticks\":\"\"},\"colorscale\":[[0.0,\"#0d0887\"],[0.1111111111111111,\"#46039f\"],[0.2222222222222222,\"#7201a8\"],[0.3333333333333333,\"#9c179e\"],[0.4444444444444444,\"#bd3786\"],[0.5555555555555556,\"#d8576b\"],[0.6666666666666666,\"#ed7953\"],[0.7777777777777778,\"#fb9f3a\"],[0.8888888888888888,\"#fdca26\"],[1.0,\"#f0f921\"]],\"type\":\"histogram2dcontour\"}],\"histogram2d\":[{\"colorbar\":{\"outlinewidth\":0,\"ticks\":\"\"},\"colorscale\":[[0.0,\"#0d0887\"],[0.1111111111111111,\"#46039f\"],[0.2222222222222222,\"#7201a8\"],[0.3333333333333333,\"#9c179e\"],[0.4444444444444444,\"#bd3786\"],[0.5555555555555556,\"#d8576b\"],[0.6666666666666666,\"#ed7953\"],[0.7777777777777778,\"#fb9f3a\"],[0.8888888888888888,\"#fdca26\"],[1.0,\"#f0f921\"]],\"type\":\"histogram2d\"}],\"histogram\":[{\"marker\":{\"pattern\":{\"fillmode\":\"overlay\",\"size\":10,\"solidity\":0.2}},\"type\":\"histogram\"}],\"mesh3d\":[{\"colorbar\":{\"outlinewidth\":0,\"ticks\":\"\"},\"type\":\"mesh3d\"}],\"parcoords\":[{\"line\":{\"colorbar\":{\"outlinewidth\":0,\"ticks\":\"\"}},\"type\":\"parcoords\"}],\"pie\":[{\"automargin\":true,\"type\":\"pie\"}],\"scatter3d\":[{\"line\":{\"colorbar\":{\"outlinewidth\":0,\"ticks\":\"\"}},\"marker\":{\"colorbar\":{\"outlinewidth\":0,\"ticks\":\"\"}},\"type\":\"scatter3d\"}],\"scattercarpet\":[{\"marker\":{\"colorbar\":{\"outlinewidth\":0,\"ticks\":\"\"}},\"type\":\"scattercarpet\"}],\"scattergeo\":[{\"marker\":{\"colorbar\":{\"outlinewidth\":0,\"ticks\":\"\"}},\"type\":\"scattergeo\"}],\"scattergl\":[{\"marker\":{\"colorbar\":{\"outlinewidth\":0,\"ticks\":\"\"}},\"type\":\"scattergl\"}],\"scattermapbox\":[{\"marker\":{\"colorbar\":{\"outlinewidth\":0,\"ticks\":\"\"}},\"type\":\"scattermapbox\"}],\"scatterpolargl\":[{\"marker\":{\"colorbar\":{\"outlinewidth\":0,\"ticks\":\"\"}},\"type\":\"scatterpolargl\"}],\"scatterpolar\":[{\"marker\":{\"colorbar\":{\"outlinewidth\":0,\"ticks\":\"\"}},\"type\":\"scatterpolar\"}],\"scatter\":[{\"fillpattern\":{\"fillmode\":\"overlay\",\"size\":10,\"solidity\":0.2},\"type\":\"scatter\"}],\"scatterternary\":[{\"marker\":{\"colorbar\":{\"outlinewidth\":0,\"ticks\":\"\"}},\"type\":\"scatterternary\"}],\"surface\":[{\"colorbar\":{\"outlinewidth\":0,\"ticks\":\"\"},\"colorscale\":[[0.0,\"#0d0887\"],[0.1111111111111111,\"#46039f\"],[0.2222222222222222,\"#7201a8\"],[0.3333333333333333,\"#9c179e\"],[0.4444444444444444,\"#bd3786\"],[0.5555555555555556,\"#d8576b\"],[0.6666666666666666,\"#ed7953\"],[0.7777777777777778,\"#fb9f3a\"],[0.8888888888888888,\"#fdca26\"],[1.0,\"#f0f921\"]],\"type\":\"surface\"}],\"table\":[{\"cells\":{\"fill\":{\"color\":\"#EBF0F8\"},\"line\":{\"color\":\"white\"}},\"header\":{\"fill\":{\"color\":\"#C8D4E3\"},\"line\":{\"color\":\"white\"}},\"type\":\"table\"}]},\"layout\":{\"annotationdefaults\":{\"arrowcolor\":\"#2a3f5f\",\"arrowhead\":0,\"arrowwidth\":1},\"autotypenumbers\":\"strict\",\"coloraxis\":{\"colorbar\":{\"outlinewidth\":0,\"ticks\":\"\"}},\"colorscale\":{\"diverging\":[[0,\"#8e0152\"],[0.1,\"#c51b7d\"],[0.2,\"#de77ae\"],[0.3,\"#f1b6da\"],[0.4,\"#fde0ef\"],[0.5,\"#f7f7f7\"],[0.6,\"#e6f5d0\"],[0.7,\"#b8e186\"],[0.8,\"#7fbc41\"],[0.9,\"#4d9221\"],[1,\"#276419\"]],\"sequential\":[[0.0,\"#0d0887\"],[0.1111111111111111,\"#46039f\"],[0.2222222222222222,\"#7201a8\"],[0.3333333333333333,\"#9c179e\"],[0.4444444444444444,\"#bd3786\"],[0.5555555555555556,\"#d8576b\"],[0.6666666666666666,\"#ed7953\"],[0.7777777777777778,\"#fb9f3a\"],[0.8888888888888888,\"#fdca26\"],[1.0,\"#f0f921\"]],\"sequentialminus\":[[0.0,\"#0d0887\"],[0.1111111111111111,\"#46039f\"],[0.2222222222222222,\"#7201a8\"],[0.3333333333333333,\"#9c179e\"],[0.4444444444444444,\"#bd3786\"],[0.5555555555555556,\"#d8576b\"],[0.6666666666666666,\"#ed7953\"],[0.7777777777777778,\"#fb9f3a\"],[0.8888888888888888,\"#fdca26\"],[1.0,\"#f0f921\"]]},\"colorway\":[\"#636efa\",\"#EF553B\",\"#00cc96\",\"#ab63fa\",\"#FFA15A\",\"#19d3f3\",\"#FF6692\",\"#B6E880\",\"#FF97FF\",\"#FECB52\"],\"font\":{\"color\":\"#2a3f5f\"},\"geo\":{\"bgcolor\":\"white\",\"lakecolor\":\"white\",\"landcolor\":\"white\",\"showlakes\":true,\"showland\":true,\"subunitcolor\":\"#C8D4E3\"},\"hoverlabel\":{\"align\":\"left\"},\"hovermode\":\"closest\",\"mapbox\":{\"style\":\"light\"},\"paper_bgcolor\":\"white\",\"plot_bgcolor\":\"white\",\"polar\":{\"angularaxis\":{\"gridcolor\":\"#EBF0F8\",\"linecolor\":\"#EBF0F8\",\"ticks\":\"\"},\"bgcolor\":\"white\",\"radialaxis\":{\"gridcolor\":\"#EBF0F8\",\"linecolor\":\"#EBF0F8\",\"ticks\":\"\"}},\"scene\":{\"xaxis\":{\"backgroundcolor\":\"white\",\"gridcolor\":\"#DFE8F3\",\"gridwidth\":2,\"linecolor\":\"#EBF0F8\",\"showbackground\":true,\"ticks\":\"\",\"zerolinecolor\":\"#EBF0F8\"},\"yaxis\":{\"backgroundcolor\":\"white\",\"gridcolor\":\"#DFE8F3\",\"gridwidth\":2,\"linecolor\":\"#EBF0F8\",\"showbackground\":true,\"ticks\":\"\",\"zerolinecolor\":\"#EBF0F8\"},\"zaxis\":{\"backgroundcolor\":\"white\",\"gridcolor\":\"#DFE8F3\",\"gridwidth\":2,\"linecolor\":\"#EBF0F8\",\"showbackground\":true,\"ticks\":\"\",\"zerolinecolor\":\"#EBF0F8\"}},\"shapedefaults\":{\"line\":{\"color\":\"#2a3f5f\"}},\"ternary\":{\"aaxis\":{\"gridcolor\":\"#DFE8F3\",\"linecolor\":\"#A2B1C6\",\"ticks\":\"\"},\"baxis\":{\"gridcolor\":\"#DFE8F3\",\"linecolor\":\"#A2B1C6\",\"ticks\":\"\"},\"bgcolor\":\"white\",\"caxis\":{\"gridcolor\":\"#DFE8F3\",\"linecolor\":\"#A2B1C6\",\"ticks\":\"\"}},\"title\":{\"x\":0.05},\"xaxis\":{\"automargin\":true,\"gridcolor\":\"#EBF0F8\",\"linecolor\":\"#EBF0F8\",\"ticks\":\"\",\"title\":{\"standoff\":15},\"zerolinecolor\":\"#EBF0F8\",\"zerolinewidth\":2},\"yaxis\":{\"automargin\":true,\"gridcolor\":\"#EBF0F8\",\"linecolor\":\"#EBF0F8\",\"ticks\":\"\",\"title\":{\"standoff\":15},\"zerolinecolor\":\"#EBF0F8\",\"zerolinewidth\":2}}},\"title\":{\"text\":\"Nature of Dataset_1 after Outlier treatment (Monthly)\",\"font\":{\"size\":15,\"color\":\"black\",\"family\":\"Arial\"}},\"xaxis\":{\"title\":{\"text\":\"Date\"},\"showgrid\":false,\"gridcolor\":\"lightgray\",\"zeroline\":true,\"zerolinewidth\":1,\"showline\":false,\"linewidth\":1,\"linecolor\":\"black\"},\"yaxis\":{\"title\":{\"text\":\"Values\"},\"showgrid\":false,\"gridcolor\":\"lightgray\",\"zeroline\":true,\"zerolinewidth\":1,\"showline\":false,\"linewidth\":1,\"linecolor\":\"black\"},\"legend\":{\"font\":{\"size\":10,\"color\":\"black\"},\"orientation\":\"h\",\"x\":0.5,\"xanchor\":\"center\",\"y\":1.05},\"width\":1100,\"height\":500,\"plot_bgcolor\":\"rgba(255, 255, 255, 1)\",\"hovermode\":\"closest\"},                        {\"responsive\": true}                    ).then(function(){\n",
       "                            \n",
       "var gd = document.getElementById('f21dec97-1d7d-46e5-9992-24b1e1b60484');\n",
       "var x = new MutationObserver(function (mutations, observer) {{\n",
       "        var display = window.getComputedStyle(gd).display;\n",
       "        if (!display || display === 'none') {{\n",
       "            console.log([gd, 'removed!']);\n",
       "            Plotly.purge(gd);\n",
       "            observer.disconnect();\n",
       "        }}\n",
       "}});\n",
       "\n",
       "// Listen for the removal of the full notebook cells\n",
       "var notebookContainer = gd.closest('#notebook-container');\n",
       "if (notebookContainer) {{\n",
       "    x.observe(notebookContainer, {childList: true});\n",
       "}}\n",
       "\n",
       "// Listen for the clearing of the current output cell\n",
       "var outputEl = gd.closest('.output');\n",
       "if (outputEl) {{\n",
       "    x.observe(outputEl, {childList: true});\n",
       "}}\n",
       "\n",
       "                        })                };                });            </script>        </div>"
      ]
     },
     "metadata": {},
     "output_type": "display_data"
    },
    {
     "name": "stdout",
     "output_type": "stream",
     "text": [
      " \n",
      "Process is going on please wait for some seconds.........\n",
      " \n",
      "\n",
      "Best Model Based on MAPE: Prophet\n",
      " \n",
      "Prophet predictions are valid. Continuing with Prophet.\n",
      " \n",
      "Prophet predictions are valid. Finalizing results with Prophet.\n",
      " \n",
      "\n",
      "\n"
     ]
    },
    {
     "data": {
      "application/vnd.plotly.v1+json": {
       "config": {
        "plotlyServerURL": "https://plot.ly"
       },
       "data": [
        {
         "line": {
          "color": "royalblue",
          "dash": "solid",
          "shape": "spline",
          "width": 1.5
         },
         "mode": "lines",
         "name": "Original Data",
         "type": "scatter",
         "x": [
          "2024-06-30T00:00:00",
          "2024-07-31T00:00:00",
          "2024-08-31T00:00:00",
          "2024-09-30T00:00:00",
          "2024-10-31T00:00:00",
          "2024-11-30T00:00:00",
          "2024-12-31T00:00:00",
          "2025-01-31T00:00:00"
         ],
         "y": [
          79,
          63,
          135,
          72,
          109,
          53,
          75,
          84
         ]
        },
        {
         "line": {
          "color": "orange",
          "dash": "solid",
          "shape": "spline",
          "width": 1.5
         },
         "mode": "lines",
         "name": "Prophet",
         "type": "scatter",
         "x": [
          "2024-06-30T00:00:00",
          "2024-07-31T00:00:00",
          "2024-08-31T00:00:00",
          "2024-09-30T00:00:00",
          "2024-10-31T00:00:00",
          "2024-11-30T00:00:00",
          "2024-12-31T00:00:00",
          "2025-01-31T00:00:00"
         ],
         "y": [
          90.22244132524447,
          85.1437837567341,
          48.788080378475506,
          76.1451949263215,
          167.711869822229,
          48.37729866368041,
          72.50638483853216,
          96.40214502114789
         ]
        },
        {
         "line": {
          "color": "green",
          "dash": "solid",
          "shape": "spline",
          "width": 1.5
         },
         "mode": "lines",
         "name": "XGBoost",
         "type": "scatter",
         "x": [
          "2024-06-30T00:00:00",
          "2024-07-31T00:00:00",
          "2024-08-31T00:00:00",
          "2024-09-30T00:00:00",
          "2024-10-31T00:00:00",
          "2024-11-30T00:00:00",
          "2024-12-31T00:00:00",
          "2025-01-31T00:00:00"
         ],
         "y": [
          102.35417938232422,
          113.85107421875,
          101.59539794921875,
          117.74108123779297,
          96.20079803466797,
          93.18485260009766,
          100.51351928710938,
          108.53082275390625
         ]
        },
        {
         "line": {
          "color": "red",
          "dash": "solid",
          "shape": "spline",
          "width": 1.5
         },
         "mode": "lines",
         "name": "Random Forest",
         "type": "scatter",
         "x": [
          "2024-06-30T00:00:00",
          "2024-07-31T00:00:00",
          "2024-08-31T00:00:00",
          "2024-09-30T00:00:00",
          "2024-10-31T00:00:00",
          "2024-11-30T00:00:00",
          "2024-12-31T00:00:00",
          "2025-01-31T00:00:00"
         ],
         "y": [
          101.17072544100691,
          109.79116706012482,
          105.23841773742309,
          131.15229266321913,
          94.07406893324104,
          84.85758597829965,
          92.99365667863268,
          101.57939629997476
         ]
        },
        {
         "line": {
          "color": "yellow",
          "dash": "solid",
          "shape": "spline",
          "width": 1.5
         },
         "mode": "lines",
         "name": "Stacking",
         "type": "scatter",
         "x": [
          "2024-06-30T00:00:00",
          "2024-07-31T00:00:00",
          "2024-08-31T00:00:00",
          "2024-09-30T00:00:00",
          "2024-10-31T00:00:00",
          "2024-11-30T00:00:00",
          "2024-12-31T00:00:00",
          "2025-01-31T00:00:00"
         ],
         "y": [
          97.26458817223623,
          112.38539437520548,
          87.18168157066187,
          114.35113744542925,
          104.91763702289099,
          76.51384620152423,
          91.60026335770904,
          107.61302116046981
         ]
        }
       ],
       "layout": {
        "height": 500,
        "hovermode": "closest",
        "legend": {
         "font": {
          "color": "black",
          "size": 14
         },
         "orientation": "h",
         "x": 0.5,
         "xanchor": "center",
         "y": 1.05
        },
        "plot_bgcolor": "rgba(255, 255, 255, 1)",
        "template": {
         "data": {
          "bar": [
           {
            "error_x": {
             "color": "#2a3f5f"
            },
            "error_y": {
             "color": "#2a3f5f"
            },
            "marker": {
             "line": {
              "color": "white",
              "width": 0.5
             },
             "pattern": {
              "fillmode": "overlay",
              "size": 10,
              "solidity": 0.2
             }
            },
            "type": "bar"
           }
          ],
          "barpolar": [
           {
            "marker": {
             "line": {
              "color": "white",
              "width": 0.5
             },
             "pattern": {
              "fillmode": "overlay",
              "size": 10,
              "solidity": 0.2
             }
            },
            "type": "barpolar"
           }
          ],
          "carpet": [
           {
            "aaxis": {
             "endlinecolor": "#2a3f5f",
             "gridcolor": "#C8D4E3",
             "linecolor": "#C8D4E3",
             "minorgridcolor": "#C8D4E3",
             "startlinecolor": "#2a3f5f"
            },
            "baxis": {
             "endlinecolor": "#2a3f5f",
             "gridcolor": "#C8D4E3",
             "linecolor": "#C8D4E3",
             "minorgridcolor": "#C8D4E3",
             "startlinecolor": "#2a3f5f"
            },
            "type": "carpet"
           }
          ],
          "choropleth": [
           {
            "colorbar": {
             "outlinewidth": 0,
             "ticks": ""
            },
            "type": "choropleth"
           }
          ],
          "contour": [
           {
            "colorbar": {
             "outlinewidth": 0,
             "ticks": ""
            },
            "colorscale": [
             [
              0,
              "#0d0887"
             ],
             [
              0.1111111111111111,
              "#46039f"
             ],
             [
              0.2222222222222222,
              "#7201a8"
             ],
             [
              0.3333333333333333,
              "#9c179e"
             ],
             [
              0.4444444444444444,
              "#bd3786"
             ],
             [
              0.5555555555555556,
              "#d8576b"
             ],
             [
              0.6666666666666666,
              "#ed7953"
             ],
             [
              0.7777777777777778,
              "#fb9f3a"
             ],
             [
              0.8888888888888888,
              "#fdca26"
             ],
             [
              1,
              "#f0f921"
             ]
            ],
            "type": "contour"
           }
          ],
          "contourcarpet": [
           {
            "colorbar": {
             "outlinewidth": 0,
             "ticks": ""
            },
            "type": "contourcarpet"
           }
          ],
          "heatmap": [
           {
            "colorbar": {
             "outlinewidth": 0,
             "ticks": ""
            },
            "colorscale": [
             [
              0,
              "#0d0887"
             ],
             [
              0.1111111111111111,
              "#46039f"
             ],
             [
              0.2222222222222222,
              "#7201a8"
             ],
             [
              0.3333333333333333,
              "#9c179e"
             ],
             [
              0.4444444444444444,
              "#bd3786"
             ],
             [
              0.5555555555555556,
              "#d8576b"
             ],
             [
              0.6666666666666666,
              "#ed7953"
             ],
             [
              0.7777777777777778,
              "#fb9f3a"
             ],
             [
              0.8888888888888888,
              "#fdca26"
             ],
             [
              1,
              "#f0f921"
             ]
            ],
            "type": "heatmap"
           }
          ],
          "heatmapgl": [
           {
            "colorbar": {
             "outlinewidth": 0,
             "ticks": ""
            },
            "colorscale": [
             [
              0,
              "#0d0887"
             ],
             [
              0.1111111111111111,
              "#46039f"
             ],
             [
              0.2222222222222222,
              "#7201a8"
             ],
             [
              0.3333333333333333,
              "#9c179e"
             ],
             [
              0.4444444444444444,
              "#bd3786"
             ],
             [
              0.5555555555555556,
              "#d8576b"
             ],
             [
              0.6666666666666666,
              "#ed7953"
             ],
             [
              0.7777777777777778,
              "#fb9f3a"
             ],
             [
              0.8888888888888888,
              "#fdca26"
             ],
             [
              1,
              "#f0f921"
             ]
            ],
            "type": "heatmapgl"
           }
          ],
          "histogram": [
           {
            "marker": {
             "pattern": {
              "fillmode": "overlay",
              "size": 10,
              "solidity": 0.2
             }
            },
            "type": "histogram"
           }
          ],
          "histogram2d": [
           {
            "colorbar": {
             "outlinewidth": 0,
             "ticks": ""
            },
            "colorscale": [
             [
              0,
              "#0d0887"
             ],
             [
              0.1111111111111111,
              "#46039f"
             ],
             [
              0.2222222222222222,
              "#7201a8"
             ],
             [
              0.3333333333333333,
              "#9c179e"
             ],
             [
              0.4444444444444444,
              "#bd3786"
             ],
             [
              0.5555555555555556,
              "#d8576b"
             ],
             [
              0.6666666666666666,
              "#ed7953"
             ],
             [
              0.7777777777777778,
              "#fb9f3a"
             ],
             [
              0.8888888888888888,
              "#fdca26"
             ],
             [
              1,
              "#f0f921"
             ]
            ],
            "type": "histogram2d"
           }
          ],
          "histogram2dcontour": [
           {
            "colorbar": {
             "outlinewidth": 0,
             "ticks": ""
            },
            "colorscale": [
             [
              0,
              "#0d0887"
             ],
             [
              0.1111111111111111,
              "#46039f"
             ],
             [
              0.2222222222222222,
              "#7201a8"
             ],
             [
              0.3333333333333333,
              "#9c179e"
             ],
             [
              0.4444444444444444,
              "#bd3786"
             ],
             [
              0.5555555555555556,
              "#d8576b"
             ],
             [
              0.6666666666666666,
              "#ed7953"
             ],
             [
              0.7777777777777778,
              "#fb9f3a"
             ],
             [
              0.8888888888888888,
              "#fdca26"
             ],
             [
              1,
              "#f0f921"
             ]
            ],
            "type": "histogram2dcontour"
           }
          ],
          "mesh3d": [
           {
            "colorbar": {
             "outlinewidth": 0,
             "ticks": ""
            },
            "type": "mesh3d"
           }
          ],
          "parcoords": [
           {
            "line": {
             "colorbar": {
              "outlinewidth": 0,
              "ticks": ""
             }
            },
            "type": "parcoords"
           }
          ],
          "pie": [
           {
            "automargin": true,
            "type": "pie"
           }
          ],
          "scatter": [
           {
            "fillpattern": {
             "fillmode": "overlay",
             "size": 10,
             "solidity": 0.2
            },
            "type": "scatter"
           }
          ],
          "scatter3d": [
           {
            "line": {
             "colorbar": {
              "outlinewidth": 0,
              "ticks": ""
             }
            },
            "marker": {
             "colorbar": {
              "outlinewidth": 0,
              "ticks": ""
             }
            },
            "type": "scatter3d"
           }
          ],
          "scattercarpet": [
           {
            "marker": {
             "colorbar": {
              "outlinewidth": 0,
              "ticks": ""
             }
            },
            "type": "scattercarpet"
           }
          ],
          "scattergeo": [
           {
            "marker": {
             "colorbar": {
              "outlinewidth": 0,
              "ticks": ""
             }
            },
            "type": "scattergeo"
           }
          ],
          "scattergl": [
           {
            "marker": {
             "colorbar": {
              "outlinewidth": 0,
              "ticks": ""
             }
            },
            "type": "scattergl"
           }
          ],
          "scattermapbox": [
           {
            "marker": {
             "colorbar": {
              "outlinewidth": 0,
              "ticks": ""
             }
            },
            "type": "scattermapbox"
           }
          ],
          "scatterpolar": [
           {
            "marker": {
             "colorbar": {
              "outlinewidth": 0,
              "ticks": ""
             }
            },
            "type": "scatterpolar"
           }
          ],
          "scatterpolargl": [
           {
            "marker": {
             "colorbar": {
              "outlinewidth": 0,
              "ticks": ""
             }
            },
            "type": "scatterpolargl"
           }
          ],
          "scatterternary": [
           {
            "marker": {
             "colorbar": {
              "outlinewidth": 0,
              "ticks": ""
             }
            },
            "type": "scatterternary"
           }
          ],
          "surface": [
           {
            "colorbar": {
             "outlinewidth": 0,
             "ticks": ""
            },
            "colorscale": [
             [
              0,
              "#0d0887"
             ],
             [
              0.1111111111111111,
              "#46039f"
             ],
             [
              0.2222222222222222,
              "#7201a8"
             ],
             [
              0.3333333333333333,
              "#9c179e"
             ],
             [
              0.4444444444444444,
              "#bd3786"
             ],
             [
              0.5555555555555556,
              "#d8576b"
             ],
             [
              0.6666666666666666,
              "#ed7953"
             ],
             [
              0.7777777777777778,
              "#fb9f3a"
             ],
             [
              0.8888888888888888,
              "#fdca26"
             ],
             [
              1,
              "#f0f921"
             ]
            ],
            "type": "surface"
           }
          ],
          "table": [
           {
            "cells": {
             "fill": {
              "color": "#EBF0F8"
             },
             "line": {
              "color": "white"
             }
            },
            "header": {
             "fill": {
              "color": "#C8D4E3"
             },
             "line": {
              "color": "white"
             }
            },
            "type": "table"
           }
          ]
         },
         "layout": {
          "annotationdefaults": {
           "arrowcolor": "#2a3f5f",
           "arrowhead": 0,
           "arrowwidth": 1
          },
          "autotypenumbers": "strict",
          "coloraxis": {
           "colorbar": {
            "outlinewidth": 0,
            "ticks": ""
           }
          },
          "colorscale": {
           "diverging": [
            [
             0,
             "#8e0152"
            ],
            [
             0.1,
             "#c51b7d"
            ],
            [
             0.2,
             "#de77ae"
            ],
            [
             0.3,
             "#f1b6da"
            ],
            [
             0.4,
             "#fde0ef"
            ],
            [
             0.5,
             "#f7f7f7"
            ],
            [
             0.6,
             "#e6f5d0"
            ],
            [
             0.7,
             "#b8e186"
            ],
            [
             0.8,
             "#7fbc41"
            ],
            [
             0.9,
             "#4d9221"
            ],
            [
             1,
             "#276419"
            ]
           ],
           "sequential": [
            [
             0,
             "#0d0887"
            ],
            [
             0.1111111111111111,
             "#46039f"
            ],
            [
             0.2222222222222222,
             "#7201a8"
            ],
            [
             0.3333333333333333,
             "#9c179e"
            ],
            [
             0.4444444444444444,
             "#bd3786"
            ],
            [
             0.5555555555555556,
             "#d8576b"
            ],
            [
             0.6666666666666666,
             "#ed7953"
            ],
            [
             0.7777777777777778,
             "#fb9f3a"
            ],
            [
             0.8888888888888888,
             "#fdca26"
            ],
            [
             1,
             "#f0f921"
            ]
           ],
           "sequentialminus": [
            [
             0,
             "#0d0887"
            ],
            [
             0.1111111111111111,
             "#46039f"
            ],
            [
             0.2222222222222222,
             "#7201a8"
            ],
            [
             0.3333333333333333,
             "#9c179e"
            ],
            [
             0.4444444444444444,
             "#bd3786"
            ],
            [
             0.5555555555555556,
             "#d8576b"
            ],
            [
             0.6666666666666666,
             "#ed7953"
            ],
            [
             0.7777777777777778,
             "#fb9f3a"
            ],
            [
             0.8888888888888888,
             "#fdca26"
            ],
            [
             1,
             "#f0f921"
            ]
           ]
          },
          "colorway": [
           "#636efa",
           "#EF553B",
           "#00cc96",
           "#ab63fa",
           "#FFA15A",
           "#19d3f3",
           "#FF6692",
           "#B6E880",
           "#FF97FF",
           "#FECB52"
          ],
          "font": {
           "color": "#2a3f5f"
          },
          "geo": {
           "bgcolor": "white",
           "lakecolor": "white",
           "landcolor": "white",
           "showlakes": true,
           "showland": true,
           "subunitcolor": "#C8D4E3"
          },
          "hoverlabel": {
           "align": "left"
          },
          "hovermode": "closest",
          "mapbox": {
           "style": "light"
          },
          "paper_bgcolor": "white",
          "plot_bgcolor": "white",
          "polar": {
           "angularaxis": {
            "gridcolor": "#EBF0F8",
            "linecolor": "#EBF0F8",
            "ticks": ""
           },
           "bgcolor": "white",
           "radialaxis": {
            "gridcolor": "#EBF0F8",
            "linecolor": "#EBF0F8",
            "ticks": ""
           }
          },
          "scene": {
           "xaxis": {
            "backgroundcolor": "white",
            "gridcolor": "#DFE8F3",
            "gridwidth": 2,
            "linecolor": "#EBF0F8",
            "showbackground": true,
            "ticks": "",
            "zerolinecolor": "#EBF0F8"
           },
           "yaxis": {
            "backgroundcolor": "white",
            "gridcolor": "#DFE8F3",
            "gridwidth": 2,
            "linecolor": "#EBF0F8",
            "showbackground": true,
            "ticks": "",
            "zerolinecolor": "#EBF0F8"
           },
           "zaxis": {
            "backgroundcolor": "white",
            "gridcolor": "#DFE8F3",
            "gridwidth": 2,
            "linecolor": "#EBF0F8",
            "showbackground": true,
            "ticks": "",
            "zerolinecolor": "#EBF0F8"
           }
          },
          "shapedefaults": {
           "line": {
            "color": "#2a3f5f"
           }
          },
          "ternary": {
           "aaxis": {
            "gridcolor": "#DFE8F3",
            "linecolor": "#A2B1C6",
            "ticks": ""
           },
           "baxis": {
            "gridcolor": "#DFE8F3",
            "linecolor": "#A2B1C6",
            "ticks": ""
           },
           "bgcolor": "white",
           "caxis": {
            "gridcolor": "#DFE8F3",
            "linecolor": "#A2B1C6",
            "ticks": ""
           }
          },
          "title": {
           "x": 0.05
          },
          "xaxis": {
           "automargin": true,
           "gridcolor": "#EBF0F8",
           "linecolor": "#EBF0F8",
           "ticks": "",
           "title": {
            "standoff": 15
           },
           "zerolinecolor": "#EBF0F8",
           "zerolinewidth": 2
          },
          "yaxis": {
           "automargin": true,
           "gridcolor": "#EBF0F8",
           "linecolor": "#EBF0F8",
           "ticks": "",
           "title": {
            "standoff": 15
           },
           "zerolinecolor": "#EBF0F8",
           "zerolinewidth": 2
          }
         }
        },
        "title": {
         "font": {
          "color": "black",
          "family": "Arial",
          "size": 24
         },
         "text": "Model Comparison for Dataset_1: Original Data vs Predictions"
        },
        "width": 1100,
        "xaxis": {
         "autorange": true,
         "gridcolor": "lightgray",
         "linecolor": "black",
         "linewidth": 1,
         "range": [
          "2024-06-30",
          "2025-01-31"
         ],
         "showgrid": false,
         "showline": false,
         "title": {
          "text": "Date"
         },
         "type": "date",
         "zeroline": true,
         "zerolinewidth": 1
        },
        "yaxis": {
         "autorange": true,
         "gridcolor": "lightgray",
         "linecolor": "black",
         "linewidth": 1,
         "range": [
          41.747600265983266,
          174.34156821992616
         ],
         "showgrid": false,
         "showline": false,
         "title": {
          "text": "Values"
         },
         "type": "linear",
         "zeroline": true,
         "zerolinewidth": 1
        }
       }
      },
      "image/png": "[encoded data removed]",
      "text/html": [
       "<div>                            <div id=\"37958f66-21ce-463d-894c-436e7c3cdc9c\" class=\"plotly-graph-div\" style=\"height:500px; width:1100px;\"></div>            <script type=\"text/javascript\">                require([\"plotly\"], function(Plotly) {                    window.PLOTLYENV=window.PLOTLYENV || {};                                    if (document.getElementById(\"37958f66-21ce-463d-894c-436e7c3cdc9c\")) {                    Plotly.newPlot(                        \"37958f66-21ce-463d-894c-436e7c3cdc9c\",                        [{\"line\":{\"color\":\"royalblue\",\"dash\":\"solid\",\"shape\":\"spline\",\"width\":1.5},\"mode\":\"lines\",\"name\":\"Original Data\",\"x\":[\"2024-06-30T00:00:00\",\"2024-07-31T00:00:00\",\"2024-08-31T00:00:00\",\"2024-09-30T00:00:00\",\"2024-10-31T00:00:00\",\"2024-11-30T00:00:00\",\"2024-12-31T00:00:00\",\"2025-01-31T00:00:00\"],\"y\":[79.0,63.0,135.0,72.0,109.0,53.0,75.0,84.0],\"type\":\"scatter\"},{\"line\":{\"color\":\"orange\",\"dash\":\"solid\",\"shape\":\"spline\",\"width\":1.5},\"mode\":\"lines\",\"name\":\"Prophet\",\"x\":[\"2024-06-30T00:00:00\",\"2024-07-31T00:00:00\",\"2024-08-31T00:00:00\",\"2024-09-30T00:00:00\",\"2024-10-31T00:00:00\",\"2024-11-30T00:00:00\",\"2024-12-31T00:00:00\",\"2025-01-31T00:00:00\"],\"y\":[90.22244132524447,85.1437837567341,48.788080378475506,76.1451949263215,167.711869822229,48.37729866368041,72.50638483853216,96.40214502114789],\"type\":\"scatter\"},{\"line\":{\"color\":\"green\",\"dash\":\"solid\",\"shape\":\"spline\",\"width\":1.5},\"mode\":\"lines\",\"name\":\"XGBoost\",\"x\":[\"2024-06-30T00:00:00\",\"2024-07-31T00:00:00\",\"2024-08-31T00:00:00\",\"2024-09-30T00:00:00\",\"2024-10-31T00:00:00\",\"2024-11-30T00:00:00\",\"2024-12-31T00:00:00\",\"2025-01-31T00:00:00\"],\"y\":[102.35417938232422,113.85107421875,101.59539794921875,117.74108123779297,96.20079803466797,93.18485260009766,100.51351928710938,108.53082275390625],\"type\":\"scatter\"},{\"line\":{\"color\":\"red\",\"dash\":\"solid\",\"shape\":\"spline\",\"width\":1.5},\"mode\":\"lines\",\"name\":\"Random Forest\",\"x\":[\"2024-06-30T00:00:00\",\"2024-07-31T00:00:00\",\"2024-08-31T00:00:00\",\"2024-09-30T00:00:00\",\"2024-10-31T00:00:00\",\"2024-11-30T00:00:00\",\"2024-12-31T00:00:00\",\"2025-01-31T00:00:00\"],\"y\":[101.17072544100691,109.79116706012482,105.23841773742309,131.15229266321913,94.07406893324104,84.85758597829965,92.99365667863268,101.57939629997476],\"type\":\"scatter\"},{\"line\":{\"color\":\"yellow\",\"dash\":\"solid\",\"shape\":\"spline\",\"width\":1.5},\"mode\":\"lines\",\"name\":\"Stacking\",\"x\":[\"2024-06-30T00:00:00\",\"2024-07-31T00:00:00\",\"2024-08-31T00:00:00\",\"2024-09-30T00:00:00\",\"2024-10-31T00:00:00\",\"2024-11-30T00:00:00\",\"2024-12-31T00:00:00\",\"2025-01-31T00:00:00\"],\"y\":[97.26458817223623,112.38539437520548,87.18168157066187,114.35113744542925,104.91763702289099,76.51384620152423,91.60026335770904,107.61302116046981],\"type\":\"scatter\"}],                        {\"template\":{\"data\":{\"barpolar\":[{\"marker\":{\"line\":{\"color\":\"white\",\"width\":0.5},\"pattern\":{\"fillmode\":\"overlay\",\"size\":10,\"solidity\":0.2}},\"type\":\"barpolar\"}],\"bar\":[{\"error_x\":{\"color\":\"#2a3f5f\"},\"error_y\":{\"color\":\"#2a3f5f\"},\"marker\":{\"line\":{\"color\":\"white\",\"width\":0.5},\"pattern\":{\"fillmode\":\"overlay\",\"size\":10,\"solidity\":0.2}},\"type\":\"bar\"}],\"carpet\":[{\"aaxis\":{\"endlinecolor\":\"#2a3f5f\",\"gridcolor\":\"#C8D4E3\",\"linecolor\":\"#C8D4E3\",\"minorgridcolor\":\"#C8D4E3\",\"startlinecolor\":\"#2a3f5f\"},\"baxis\":{\"endlinecolor\":\"#2a3f5f\",\"gridcolor\":\"#C8D4E3\",\"linecolor\":\"#C8D4E3\",\"minorgridcolor\":\"#C8D4E3\",\"startlinecolor\":\"#2a3f5f\"},\"type\":\"carpet\"}],\"choropleth\":[{\"colorbar\":{\"outlinewidth\":0,\"ticks\":\"\"},\"type\":\"choropleth\"}],\"contourcarpet\":[{\"colorbar\":{\"outlinewidth\":0,\"ticks\":\"\"},\"type\":\"contourcarpet\"}],\"contour\":[{\"colorbar\":{\"outlinewidth\":0,\"ticks\":\"\"},\"colorscale\":[[0.0,\"#0d0887\"],[0.1111111111111111,\"#46039f\"],[0.2222222222222222,\"#7201a8\"],[0.3333333333333333,\"#9c179e\"],[0.4444444444444444,\"#bd3786\"],[0.5555555555555556,\"#d8576b\"],[0.6666666666666666,\"#ed7953\"],[0.7777777777777778,\"#fb9f3a\"],[0.8888888888888888,\"#fdca26\"],[1.0,\"#f0f921\"]],\"type\":\"contour\"}],\"heatmapgl\":[{\"colorbar\":{\"outlinewidth\":0,\"ticks\":\"\"},\"colorscale\":[[0.0,\"#0d0887\"],[0.1111111111111111,\"#46039f\"],[0.2222222222222222,\"#7201a8\"],[0.3333333333333333,\"#9c179e\"],[0.4444444444444444,\"#bd3786\"],[0.5555555555555556,\"#d8576b\"],[0.6666666666666666,\"#ed7953\"],[0.7777777777777778,\"#fb9f3a\"],[0.8888888888888888,\"#fdca26\"],[1.0,\"#f0f921\"]],\"type\":\"heatmapgl\"}],\"heatmap\":[{\"colorbar\":{\"outlinewidth\":0,\"ticks\":\"\"},\"colorscale\":[[0.0,\"#0d0887\"],[0.1111111111111111,\"#46039f\"],[0.2222222222222222,\"#7201a8\"],[0.3333333333333333,\"#9c179e\"],[0.4444444444444444,\"#bd3786\"],[0.5555555555555556,\"#d8576b\"],[0.6666666666666666,\"#ed7953\"],[0.7777777777777778,\"#fb9f3a\"],[0.8888888888888888,\"#fdca26\"],[1.0,\"#f0f921\"]],\"type\":\"heatmap\"}],\"histogram2dcontour\":[{\"colorbar\":{\"outlinewidth\":0,\"ticks\":\"\"},\"colorscale\":[[0.0,\"#0d0887\"],[0.1111111111111111,\"#46039f\"],[0.2222222222222222,\"#7201a8\"],[0.3333333333333333,\"#9c179e\"],[0.4444444444444444,\"#bd3786\"],[0.5555555555555556,\"#d8576b\"],[0.6666666666666666,\"#ed7953\"],[0.7777777777777778,\"#fb9f3a\"],[0.8888888888888888,\"#fdca26\"],[1.0,\"#f0f921\"]],\"type\":\"histogram2dcontour\"}],\"histogram2d\":[{\"colorbar\":{\"outlinewidth\":0,\"ticks\":\"\"},\"colorscale\":[[0.0,\"#0d0887\"],[0.1111111111111111,\"#46039f\"],[0.2222222222222222,\"#7201a8\"],[0.3333333333333333,\"#9c179e\"],[0.4444444444444444,\"#bd3786\"],[0.5555555555555556,\"#d8576b\"],[0.6666666666666666,\"#ed7953\"],[0.7777777777777778,\"#fb9f3a\"],[0.8888888888888888,\"#fdca26\"],[1.0,\"#f0f921\"]],\"type\":\"histogram2d\"}],\"histogram\":[{\"marker\":{\"pattern\":{\"fillmode\":\"overlay\",\"size\":10,\"solidity\":0.2}},\"type\":\"histogram\"}],\"mesh3d\":[{\"colorbar\":{\"outlinewidth\":0,\"ticks\":\"\"},\"type\":\"mesh3d\"}],\"parcoords\":[{\"line\":{\"colorbar\":{\"outlinewidth\":0,\"ticks\":\"\"}},\"type\":\"parcoords\"}],\"pie\":[{\"automargin\":true,\"type\":\"pie\"}],\"scatter3d\":[{\"line\":{\"colorbar\":{\"outlinewidth\":0,\"ticks\":\"\"}},\"marker\":{\"colorbar\":{\"outlinewidth\":0,\"ticks\":\"\"}},\"type\":\"scatter3d\"}],\"scattercarpet\":[{\"marker\":{\"colorbar\":{\"outlinewidth\":0,\"ticks\":\"\"}},\"type\":\"scattercarpet\"}],\"scattergeo\":[{\"marker\":{\"colorbar\":{\"outlinewidth\":0,\"ticks\":\"\"}},\"type\":\"scattergeo\"}],\"scattergl\":[{\"marker\":{\"colorbar\":{\"outlinewidth\":0,\"ticks\":\"\"}},\"type\":\"scattergl\"}],\"scattermapbox\":[{\"marker\":{\"colorbar\":{\"outlinewidth\":0,\"ticks\":\"\"}},\"type\":\"scattermapbox\"}],\"scatterpolargl\":[{\"marker\":{\"colorbar\":{\"outlinewidth\":0,\"ticks\":\"\"}},\"type\":\"scatterpolargl\"}],\"scatterpolar\":[{\"marker\":{\"colorbar\":{\"outlinewidth\":0,\"ticks\":\"\"}},\"type\":\"scatterpolar\"}],\"scatter\":[{\"fillpattern\":{\"fillmode\":\"overlay\",\"size\":10,\"solidity\":0.2},\"type\":\"scatter\"}],\"scatterternary\":[{\"marker\":{\"colorbar\":{\"outlinewidth\":0,\"ticks\":\"\"}},\"type\":\"scatterternary\"}],\"surface\":[{\"colorbar\":{\"outlinewidth\":0,\"ticks\":\"\"},\"colorscale\":[[0.0,\"#0d0887\"],[0.1111111111111111,\"#46039f\"],[0.2222222222222222,\"#7201a8\"],[0.3333333333333333,\"#9c179e\"],[0.4444444444444444,\"#bd3786\"],[0.5555555555555556,\"#d8576b\"],[0.6666666666666666,\"#ed7953\"],[0.7777777777777778,\"#fb9f3a\"],[0.8888888888888888,\"#fdca26\"],[1.0,\"#f0f921\"]],\"type\":\"surface\"}],\"table\":[{\"cells\":{\"fill\":{\"color\":\"#EBF0F8\"},\"line\":{\"color\":\"white\"}},\"header\":{\"fill\":{\"color\":\"#C8D4E3\"},\"line\":{\"color\":\"white\"}},\"type\":\"table\"}]},\"layout\":{\"annotationdefaults\":{\"arrowcolor\":\"#2a3f5f\",\"arrowhead\":0,\"arrowwidth\":1},\"autotypenumbers\":\"strict\",\"coloraxis\":{\"colorbar\":{\"outlinewidth\":0,\"ticks\":\"\"}},\"colorscale\":{\"diverging\":[[0,\"#8e0152\"],[0.1,\"#c51b7d\"],[0.2,\"#de77ae\"],[0.3,\"#f1b6da\"],[0.4,\"#fde0ef\"],[0.5,\"#f7f7f7\"],[0.6,\"#e6f5d0\"],[0.7,\"#b8e186\"],[0.8,\"#7fbc41\"],[0.9,\"#4d9221\"],[1,\"#276419\"]],\"sequential\":[[0.0,\"#0d0887\"],[0.1111111111111111,\"#46039f\"],[0.2222222222222222,\"#7201a8\"],[0.3333333333333333,\"#9c179e\"],[0.4444444444444444,\"#bd3786\"],[0.5555555555555556,\"#d8576b\"],[0.6666666666666666,\"#ed7953\"],[0.7777777777777778,\"#fb9f3a\"],[0.8888888888888888,\"#fdca26\"],[1.0,\"#f0f921\"]],\"sequentialminus\":[[0.0,\"#0d0887\"],[0.1111111111111111,\"#46039f\"],[0.2222222222222222,\"#7201a8\"],[0.3333333333333333,\"#9c179e\"],[0.4444444444444444,\"#bd3786\"],[0.5555555555555556,\"#d8576b\"],[0.6666666666666666,\"#ed7953\"],[0.7777777777777778,\"#fb9f3a\"],[0.8888888888888888,\"#fdca26\"],[1.0,\"#f0f921\"]]},\"colorway\":[\"#636efa\",\"#EF553B\",\"#00cc96\",\"#ab63fa\",\"#FFA15A\",\"#19d3f3\",\"#FF6692\",\"#B6E880\",\"#FF97FF\",\"#FECB52\"],\"font\":{\"color\":\"#2a3f5f\"},\"geo\":{\"bgcolor\":\"white\",\"lakecolor\":\"white\",\"landcolor\":\"white\",\"showlakes\":true,\"showland\":true,\"subunitcolor\":\"#C8D4E3\"},\"hoverlabel\":{\"align\":\"left\"},\"hovermode\":\"closest\",\"mapbox\":{\"style\":\"light\"},\"paper_bgcolor\":\"white\",\"plot_bgcolor\":\"white\",\"polar\":{\"angularaxis\":{\"gridcolor\":\"#EBF0F8\",\"linecolor\":\"#EBF0F8\",\"ticks\":\"\"},\"bgcolor\":\"white\",\"radialaxis\":{\"gridcolor\":\"#EBF0F8\",\"linecolor\":\"#EBF0F8\",\"ticks\":\"\"}},\"scene\":{\"xaxis\":{\"backgroundcolor\":\"white\",\"gridcolor\":\"#DFE8F3\",\"gridwidth\":2,\"linecolor\":\"#EBF0F8\",\"showbackground\":true,\"ticks\":\"\",\"zerolinecolor\":\"#EBF0F8\"},\"yaxis\":{\"backgroundcolor\":\"white\",\"gridcolor\":\"#DFE8F3\",\"gridwidth\":2,\"linecolor\":\"#EBF0F8\",\"showbackground\":true,\"ticks\":\"\",\"zerolinecolor\":\"#EBF0F8\"},\"zaxis\":{\"backgroundcolor\":\"white\",\"gridcolor\":\"#DFE8F3\",\"gridwidth\":2,\"linecolor\":\"#EBF0F8\",\"showbackground\":true,\"ticks\":\"\",\"zerolinecolor\":\"#EBF0F8\"}},\"shapedefaults\":{\"line\":{\"color\":\"#2a3f5f\"}},\"ternary\":{\"aaxis\":{\"gridcolor\":\"#DFE8F3\",\"linecolor\":\"#A2B1C6\",\"ticks\":\"\"},\"baxis\":{\"gridcolor\":\"#DFE8F3\",\"linecolor\":\"#A2B1C6\",\"ticks\":\"\"},\"bgcolor\":\"white\",\"caxis\":{\"gridcolor\":\"#DFE8F3\",\"linecolor\":\"#A2B1C6\",\"ticks\":\"\"}},\"title\":{\"x\":0.05},\"xaxis\":{\"automargin\":true,\"gridcolor\":\"#EBF0F8\",\"linecolor\":\"#EBF0F8\",\"ticks\":\"\",\"title\":{\"standoff\":15},\"zerolinecolor\":\"#EBF0F8\",\"zerolinewidth\":2},\"yaxis\":{\"automargin\":true,\"gridcolor\":\"#EBF0F8\",\"linecolor\":\"#EBF0F8\",\"ticks\":\"\",\"title\":{\"standoff\":15},\"zerolinecolor\":\"#EBF0F8\",\"zerolinewidth\":2}}},\"title\":{\"text\":\"Model Comparison for Dataset_1: Original Data vs Predictions\",\"font\":{\"size\":24,\"color\":\"black\",\"family\":\"Arial\"}},\"xaxis\":{\"title\":{\"text\":\"Date\"},\"showgrid\":false,\"gridcolor\":\"lightgray\",\"zeroline\":true,\"zerolinewidth\":1,\"showline\":false,\"linewidth\":1,\"linecolor\":\"black\"},\"yaxis\":{\"title\":{\"text\":\"Values\"},\"showgrid\":false,\"gridcolor\":\"lightgray\",\"zeroline\":true,\"zerolinewidth\":1,\"showline\":false,\"linewidth\":1,\"linecolor\":\"black\"},\"legend\":{\"font\":{\"size\":14,\"color\":\"black\"},\"orientation\":\"h\",\"x\":0.5,\"xanchor\":\"center\",\"y\":1.05},\"width\":1100,\"height\":500,\"plot_bgcolor\":\"rgba(255, 255, 255, 1)\",\"hovermode\":\"closest\"},                        {\"responsive\": true}                    ).then(function(){\n",
       "                            \n",
       "var gd = document.getElementById('37958f66-21ce-463d-894c-436e7c3cdc9c');\n",
       "var x = new MutationObserver(function (mutations, observer) {{\n",
       "        var display = window.getComputedStyle(gd).display;\n",
       "        if (!display || display === 'none') {{\n",
       "            console.log([gd, 'removed!']);\n",
       "            Plotly.purge(gd);\n",
       "            observer.disconnect();\n",
       "        }}\n",
       "}});\n",
       "\n",
       "// Listen for the removal of the full notebook cells\n",
       "var notebookContainer = gd.closest('#notebook-container');\n",
       "if (notebookContainer) {{\n",
       "    x.observe(notebookContainer, {childList: true});\n",
       "}}\n",
       "\n",
       "// Listen for the clearing of the current output cell\n",
       "var outputEl = gd.closest('.output');\n",
       "if (outputEl) {{\n",
       "    x.observe(outputEl, {childList: true});\n",
       "}}\n",
       "\n",
       "                        })                };                });            </script>        </div>"
      ]
     },
     "metadata": {},
     "output_type": "display_data"
    },
    {
     "name": "stdout",
     "output_type": "stream",
     "text": [
      "\n"
     ]
    },
    {
     "data": {
      "application/vnd.plotly.v1+json": {
       "config": {
        "plotlyServerURL": "https://plot.ly"
       },
       "data": [
        {
         "line": {
          "color": "royalblue",
          "dash": "solid",
          "shape": "spline",
          "width": 1.5
         },
         "mode": "lines",
         "name": "Original Data",
         "type": "scatter",
         "x": [
          "2023-06-30T00:00:00",
          "2023-07-31T00:00:00",
          "2023-08-31T00:00:00",
          "2023-09-30T00:00:00",
          "2023-10-31T00:00:00",
          "2023-11-30T00:00:00",
          "2023-12-31T00:00:00",
          "2024-01-31T00:00:00",
          "2024-02-29T00:00:00",
          "2024-03-31T00:00:00",
          "2024-04-30T00:00:00",
          "2024-05-31T00:00:00",
          "2024-06-30T00:00:00",
          "2024-07-31T00:00:00",
          "2024-08-31T00:00:00",
          "2024-09-30T00:00:00",
          "2024-10-31T00:00:00",
          "2024-11-30T00:00:00",
          "2024-12-31T00:00:00",
          "2025-01-31T00:00:00"
         ],
         "y": [
          109,
          128,
          127,
          91,
          91,
          82,
          73,
          123,
          47,
          91,
          119,
          105,
          79,
          63,
          135,
          72,
          109,
          53,
          75,
          84
         ]
        },
        {
         "line": {
          "color": "green",
          "dash": "solid",
          "shape": "spline",
          "width": 1.5
         },
         "mode": "lines",
         "name": "Prophet",
         "type": "scatter",
         "x": [
          "2025-01-31T00:00:00",
          "2025-02-28T00:00:00",
          "2025-03-31T00:00:00",
          "2025-04-30T00:00:00",
          "2025-05-31T00:00:00",
          "2025-06-30T00:00:00",
          "2025-07-31T00:00:00",
          "2025-08-31T00:00:00",
          "2025-09-30T00:00:00",
          "2025-10-31T00:00:00",
          "2025-11-30T00:00:00",
          "2025-12-31T00:00:00",
          "2026-01-31T00:00:00"
         ],
         "y": [
          84,
          68,
          77,
          87,
          81,
          70,
          65,
          94,
          65,
          92,
          54,
          63,
          77
         ]
        }
       ],
       "layout": {
        "height": 500,
        "hovermode": "closest",
        "legend": {
         "font": {
          "color": "black",
          "size": 14
         },
         "orientation": "h",
         "x": 0.5,
         "xanchor": "center",
         "y": 1.05
        },
        "plot_bgcolor": "rgba(255, 255, 255, 1)",
        "template": {
         "data": {
          "bar": [
           {
            "error_x": {
             "color": "#2a3f5f"
            },
            "error_y": {
             "color": "#2a3f5f"
            },
            "marker": {
             "line": {
              "color": "white",
              "width": 0.5
             },
             "pattern": {
              "fillmode": "overlay",
              "size": 10,
              "solidity": 0.2
             }
            },
            "type": "bar"
           }
          ],
          "barpolar": [
           {
            "marker": {
             "line": {
              "color": "white",
              "width": 0.5
             },
             "pattern": {
              "fillmode": "overlay",
              "size": 10,
              "solidity": 0.2
             }
            },
            "type": "barpolar"
           }
          ],
          "carpet": [
           {
            "aaxis": {
             "endlinecolor": "#2a3f5f",
             "gridcolor": "#C8D4E3",
             "linecolor": "#C8D4E3",
             "minorgridcolor": "#C8D4E3",
             "startlinecolor": "#2a3f5f"
            },
            "baxis": {
             "endlinecolor": "#2a3f5f",
             "gridcolor": "#C8D4E3",
             "linecolor": "#C8D4E3",
             "minorgridcolor": "#C8D4E3",
             "startlinecolor": "#2a3f5f"
            },
            "type": "carpet"
           }
          ],
          "choropleth": [
           {
            "colorbar": {
             "outlinewidth": 0,
             "ticks": ""
            },
            "type": "choropleth"
           }
          ],
          "contour": [
           {
            "colorbar": {
             "outlinewidth": 0,
             "ticks": ""
            },
            "colorscale": [
             [
              0,
              "#0d0887"
             ],
             [
              0.1111111111111111,
              "#46039f"
             ],
             [
              0.2222222222222222,
              "#7201a8"
             ],
             [
              0.3333333333333333,
              "#9c179e"
             ],
             [
              0.4444444444444444,
              "#bd3786"
             ],
             [
              0.5555555555555556,
              "#d8576b"
             ],
             [
              0.6666666666666666,
              "#ed7953"
             ],
             [
              0.7777777777777778,
              "#fb9f3a"
             ],
             [
              0.8888888888888888,
              "#fdca26"
             ],
             [
              1,
              "#f0f921"
             ]
            ],
            "type": "contour"
           }
          ],
          "contourcarpet": [
           {
            "colorbar": {
             "outlinewidth": 0,
             "ticks": ""
            },
            "type": "contourcarpet"
           }
          ],
          "heatmap": [
           {
            "colorbar": {
             "outlinewidth": 0,
             "ticks": ""
            },
            "colorscale": [
             [
              0,
              "#0d0887"
             ],
             [
              0.1111111111111111,
              "#46039f"
             ],
             [
              0.2222222222222222,
              "#7201a8"
             ],
             [
              0.3333333333333333,
              "#9c179e"
             ],
             [
              0.4444444444444444,
              "#bd3786"
             ],
             [
              0.5555555555555556,
              "#d8576b"
             ],
             [
              0.6666666666666666,
              "#ed7953"
             ],
             [
              0.7777777777777778,
              "#fb9f3a"
             ],
             [
              0.8888888888888888,
              "#fdca26"
             ],
             [
              1,
              "#f0f921"
             ]
            ],
            "type": "heatmap"
           }
          ],
          "heatmapgl": [
           {
            "colorbar": {
             "outlinewidth": 0,
             "ticks": ""
            },
            "colorscale": [
             [
              0,
              "#0d0887"
             ],
             [
              0.1111111111111111,
              "#46039f"
             ],
             [
              0.2222222222222222,
              "#7201a8"
             ],
             [
              0.3333333333333333,
              "#9c179e"
             ],
             [
              0.4444444444444444,
              "#bd3786"
             ],
             [
              0.5555555555555556,
              "#d8576b"
             ],
             [
              0.6666666666666666,
              "#ed7953"
             ],
             [
              0.7777777777777778,
              "#fb9f3a"
             ],
             [
              0.8888888888888888,
              "#fdca26"
             ],
             [
              1,
              "#f0f921"
             ]
            ],
            "type": "heatmapgl"
           }
          ],
          "histogram": [
           {
            "marker": {
             "pattern": {
              "fillmode": "overlay",
              "size": 10,
              "solidity": 0.2
             }
            },
            "type": "histogram"
           }
          ],
          "histogram2d": [
           {
            "colorbar": {
             "outlinewidth": 0,
             "ticks": ""
            },
            "colorscale": [
             [
              0,
              "#0d0887"
             ],
             [
              0.1111111111111111,
              "#46039f"
             ],
             [
              0.2222222222222222,
              "#7201a8"
             ],
             [
              0.3333333333333333,
              "#9c179e"
             ],
             [
              0.4444444444444444,
              "#bd3786"
             ],
             [
              0.5555555555555556,
              "#d8576b"
             ],
             [
              0.6666666666666666,
              "#ed7953"
             ],
             [
              0.7777777777777778,
              "#fb9f3a"
             ],
             [
              0.8888888888888888,
              "#fdca26"
             ],
             [
              1,
              "#f0f921"
             ]
            ],
            "type": "histogram2d"
           }
          ],
          "histogram2dcontour": [
           {
            "colorbar": {
             "outlinewidth": 0,
             "ticks": ""
            },
            "colorscale": [
             [
              0,
              "#0d0887"
             ],
             [
              0.1111111111111111,
              "#46039f"
             ],
             [
              0.2222222222222222,
              "#7201a8"
             ],
             [
              0.3333333333333333,
              "#9c179e"
             ],
             [
              0.4444444444444444,
              "#bd3786"
             ],
             [
              0.5555555555555556,
              "#d8576b"
             ],
             [
              0.6666666666666666,
              "#ed7953"
             ],
             [
              0.7777777777777778,
              "#fb9f3a"
             ],
             [
              0.8888888888888888,
              "#fdca26"
             ],
             [
              1,
              "#f0f921"
             ]
            ],
            "type": "histogram2dcontour"
           }
          ],
          "mesh3d": [
           {
            "colorbar": {
             "outlinewidth": 0,
             "ticks": ""
            },
            "type": "mesh3d"
           }
          ],
          "parcoords": [
           {
            "line": {
             "colorbar": {
              "outlinewidth": 0,
              "ticks": ""
             }
            },
            "type": "parcoords"
           }
          ],
          "pie": [
           {
            "automargin": true,
            "type": "pie"
           }
          ],
          "scatter": [
           {
            "fillpattern": {
             "fillmode": "overlay",
             "size": 10,
             "solidity": 0.2
            },
            "type": "scatter"
           }
          ],
          "scatter3d": [
           {
            "line": {
             "colorbar": {
              "outlinewidth": 0,
              "ticks": ""
             }
            },
            "marker": {
             "colorbar": {
              "outlinewidth": 0,
              "ticks": ""
             }
            },
            "type": "scatter3d"
           }
          ],
          "scattercarpet": [
           {
            "marker": {
             "colorbar": {
              "outlinewidth": 0,
              "ticks": ""
             }
            },
            "type": "scattercarpet"
           }
          ],
          "scattergeo": [
           {
            "marker": {
             "colorbar": {
              "outlinewidth": 0,
              "ticks": ""
             }
            },
            "type": "scattergeo"
           }
          ],
          "scattergl": [
           {
            "marker": {
             "colorbar": {
              "outlinewidth": 0,
              "ticks": ""
             }
            },
            "type": "scattergl"
           }
          ],
          "scattermapbox": [
           {
            "marker": {
             "colorbar": {
              "outlinewidth": 0,
              "ticks": ""
             }
            },
            "type": "scattermapbox"
           }
          ],
          "scatterpolar": [
           {
            "marker": {
             "colorbar": {
              "outlinewidth": 0,
              "ticks": ""
             }
            },
            "type": "scatterpolar"
           }
          ],
          "scatterpolargl": [
           {
            "marker": {
             "colorbar": {
              "outlinewidth": 0,
              "ticks": ""
             }
            },
            "type": "scatterpolargl"
           }
          ],
          "scatterternary": [
           {
            "marker": {
             "colorbar": {
              "outlinewidth": 0,
              "ticks": ""
             }
            },
            "type": "scatterternary"
           }
          ],
          "surface": [
           {
            "colorbar": {
             "outlinewidth": 0,
             "ticks": ""
            },
            "colorscale": [
             [
              0,
              "#0d0887"
             ],
             [
              0.1111111111111111,
              "#46039f"
             ],
             [
              0.2222222222222222,
              "#7201a8"
             ],
             [
              0.3333333333333333,
              "#9c179e"
             ],
             [
              0.4444444444444444,
              "#bd3786"
             ],
             [
              0.5555555555555556,
              "#d8576b"
             ],
             [
              0.6666666666666666,
              "#ed7953"
             ],
             [
              0.7777777777777778,
              "#fb9f3a"
             ],
             [
              0.8888888888888888,
              "#fdca26"
             ],
             [
              1,
              "#f0f921"
             ]
            ],
            "type": "surface"
           }
          ],
          "table": [
           {
            "cells": {
             "fill": {
              "color": "#EBF0F8"
             },
             "line": {
              "color": "white"
             }
            },
            "header": {
             "fill": {
              "color": "#C8D4E3"
             },
             "line": {
              "color": "white"
             }
            },
            "type": "table"
           }
          ]
         },
         "layout": {
          "annotationdefaults": {
           "arrowcolor": "#2a3f5f",
           "arrowhead": 0,
           "arrowwidth": 1
          },
          "autotypenumbers": "strict",
          "coloraxis": {
           "colorbar": {
            "outlinewidth": 0,
            "ticks": ""
           }
          },
          "colorscale": {
           "diverging": [
            [
             0,
             "#8e0152"
            ],
            [
             0.1,
             "#c51b7d"
            ],
            [
             0.2,
             "#de77ae"
            ],
            [
             0.3,
             "#f1b6da"
            ],
            [
             0.4,
             "#fde0ef"
            ],
            [
             0.5,
             "#f7f7f7"
            ],
            [
             0.6,
             "#e6f5d0"
            ],
            [
             0.7,
             "#b8e186"
            ],
            [
             0.8,
             "#7fbc41"
            ],
            [
             0.9,
             "#4d9221"
            ],
            [
             1,
             "#276419"
            ]
           ],
           "sequential": [
            [
             0,
             "#0d0887"
            ],
            [
             0.1111111111111111,
             "#46039f"
            ],
            [
             0.2222222222222222,
             "#7201a8"
            ],
            [
             0.3333333333333333,
             "#9c179e"
            ],
            [
             0.4444444444444444,
             "#bd3786"
            ],
            [
             0.5555555555555556,
             "#d8576b"
            ],
            [
             0.6666666666666666,
             "#ed7953"
            ],
            [
             0.7777777777777778,
             "#fb9f3a"
            ],
            [
             0.8888888888888888,
             "#fdca26"
            ],
            [
             1,
             "#f0f921"
            ]
           ],
           "sequentialminus": [
            [
             0,
             "#0d0887"
            ],
            [
             0.1111111111111111,
             "#46039f"
            ],
            [
             0.2222222222222222,
             "#7201a8"
            ],
            [
             0.3333333333333333,
             "#9c179e"
            ],
            [
             0.4444444444444444,
             "#bd3786"
            ],
            [
             0.5555555555555556,
             "#d8576b"
            ],
            [
             0.6666666666666666,
             "#ed7953"
            ],
            [
             0.7777777777777778,
             "#fb9f3a"
            ],
            [
             0.8888888888888888,
             "#fdca26"
            ],
            [
             1,
             "#f0f921"
            ]
           ]
          },
          "colorway": [
           "#636efa",
           "#EF553B",
           "#00cc96",
           "#ab63fa",
           "#FFA15A",
           "#19d3f3",
           "#FF6692",
           "#B6E880",
           "#FF97FF",
           "#FECB52"
          ],
          "font": {
           "color": "#2a3f5f"
          },
          "geo": {
           "bgcolor": "white",
           "lakecolor": "white",
           "landcolor": "white",
           "showlakes": true,
           "showland": true,
           "subunitcolor": "#C8D4E3"
          },
          "hoverlabel": {
           "align": "left"
          },
          "hovermode": "closest",
          "mapbox": {
           "style": "light"
          },
          "paper_bgcolor": "white",
          "plot_bgcolor": "white",
          "polar": {
           "angularaxis": {
            "gridcolor": "#EBF0F8",
            "linecolor": "#EBF0F8",
            "ticks": ""
           },
           "bgcolor": "white",
           "radialaxis": {
            "gridcolor": "#EBF0F8",
            "linecolor": "#EBF0F8",
            "ticks": ""
           }
          },
          "scene": {
           "xaxis": {
            "backgroundcolor": "white",
            "gridcolor": "#DFE8F3",
            "gridwidth": 2,
            "linecolor": "#EBF0F8",
            "showbackground": true,
            "ticks": "",
            "zerolinecolor": "#EBF0F8"
           },
           "yaxis": {
            "backgroundcolor": "white",
            "gridcolor": "#DFE8F3",
            "gridwidth": 2,
            "linecolor": "#EBF0F8",
            "showbackground": true,
            "ticks": "",
            "zerolinecolor": "#EBF0F8"
           },
           "zaxis": {
            "backgroundcolor": "white",
            "gridcolor": "#DFE8F3",
            "gridwidth": 2,
            "linecolor": "#EBF0F8",
            "showbackground": true,
            "ticks": "",
            "zerolinecolor": "#EBF0F8"
           }
          },
          "shapedefaults": {
           "line": {
            "color": "#2a3f5f"
           }
          },
          "ternary": {
           "aaxis": {
            "gridcolor": "#DFE8F3",
            "linecolor": "#A2B1C6",
            "ticks": ""
           },
           "baxis": {
            "gridcolor": "#DFE8F3",
            "linecolor": "#A2B1C6",
            "ticks": ""
           },
           "bgcolor": "white",
           "caxis": {
            "gridcolor": "#DFE8F3",
            "linecolor": "#A2B1C6",
            "ticks": ""
           }
          },
          "title": {
           "x": 0.05
          },
          "xaxis": {
           "automargin": true,
           "gridcolor": "#EBF0F8",
           "linecolor": "#EBF0F8",
           "ticks": "",
           "title": {
            "standoff": 15
           },
           "zerolinecolor": "#EBF0F8",
           "zerolinewidth": 2
          },
          "yaxis": {
           "automargin": true,
           "gridcolor": "#EBF0F8",
           "linecolor": "#EBF0F8",
           "ticks": "",
           "title": {
            "standoff": 15
           },
           "zerolinecolor": "#EBF0F8",
           "zerolinewidth": 2
          }
         }
        },
        "title": {
         "font": {
          "color": "black",
          "family": "Arial",
          "size": 12
         },
         "text": "Model Comparison: Original Data of Dataset_1 vs Predictions"
        },
        "width": 1100,
        "xaxis": {
         "autorange": true,
         "gridcolor": "lightgray",
         "linecolor": "black",
         "linewidth": 1,
         "range": [
          "2023-06-30",
          "2026-01-31"
         ],
         "showgrid": false,
         "showline": false,
         "title": {
          "text": "Date"
         },
         "type": "date",
         "zeroline": true,
         "zerolinewidth": 1
        },
        "yaxis": {
         "autorange": true,
         "gridcolor": "lightgray",
         "linecolor": "black",
         "linewidth": 1,
         "range": [
          42.111111111111114,
          139.88888888888889
         ],
         "showgrid": false,
         "showline": false,
         "title": {
          "text": "Values"
         },
         "type": "linear",
         "zeroline": true,
         "zerolinewidth": 1
        }
       }
      },
      "image/png": "[encoded data removed]",
      "text/html": [
       "<div>                            <div id=\"f74c2eac-9095-4413-a3cd-1d836b8c0ddc\" class=\"plotly-graph-div\" style=\"height:500px; width:1100px;\"></div>            <script type=\"text/javascript\">                require([\"plotly\"], function(Plotly) {                    window.PLOTLYENV=window.PLOTLYENV || {};                                    if (document.getElementById(\"f74c2eac-9095-4413-a3cd-1d836b8c0ddc\")) {                    Plotly.newPlot(                        \"f74c2eac-9095-4413-a3cd-1d836b8c0ddc\",                        [{\"line\":{\"color\":\"royalblue\",\"dash\":\"solid\",\"shape\":\"spline\",\"width\":1.5},\"mode\":\"lines\",\"name\":\"Original Data\",\"x\":[\"2023-06-30T00:00:00\",\"2023-07-31T00:00:00\",\"2023-08-31T00:00:00\",\"2023-09-30T00:00:00\",\"2023-10-31T00:00:00\",\"2023-11-30T00:00:00\",\"2023-12-31T00:00:00\",\"2024-01-31T00:00:00\",\"2024-02-29T00:00:00\",\"2024-03-31T00:00:00\",\"2024-04-30T00:00:00\",\"2024-05-31T00:00:00\",\"2024-06-30T00:00:00\",\"2024-07-31T00:00:00\",\"2024-08-31T00:00:00\",\"2024-09-30T00:00:00\",\"2024-10-31T00:00:00\",\"2024-11-30T00:00:00\",\"2024-12-31T00:00:00\",\"2025-01-31T00:00:00\"],\"y\":[109.0,128.0,127.0,91.0,91.0,82.0,73.0,123.0,47.0,91.0,119.0,105.0,79.0,63.0,135.0,72.0,109.0,53.0,75.0,84.0],\"type\":\"scatter\"},{\"line\":{\"color\":\"green\",\"dash\":\"solid\",\"shape\":\"spline\",\"width\":1.5},\"mode\":\"lines\",\"name\":\"Prophet\",\"x\":[\"2025-01-31T00:00:00\",\"2025-02-28T00:00:00\",\"2025-03-31T00:00:00\",\"2025-04-30T00:00:00\",\"2025-05-31T00:00:00\",\"2025-06-30T00:00:00\",\"2025-07-31T00:00:00\",\"2025-08-31T00:00:00\",\"2025-09-30T00:00:00\",\"2025-10-31T00:00:00\",\"2025-11-30T00:00:00\",\"2025-12-31T00:00:00\",\"2026-01-31T00:00:00\"],\"y\":[84.0,68.0,77.0,87.0,81.0,70.0,65.0,94.0,65.0,92.0,54.0,63.0,77.0],\"type\":\"scatter\"}],                        {\"template\":{\"data\":{\"barpolar\":[{\"marker\":{\"line\":{\"color\":\"white\",\"width\":0.5},\"pattern\":{\"fillmode\":\"overlay\",\"size\":10,\"solidity\":0.2}},\"type\":\"barpolar\"}],\"bar\":[{\"error_x\":{\"color\":\"#2a3f5f\"},\"error_y\":{\"color\":\"#2a3f5f\"},\"marker\":{\"line\":{\"color\":\"white\",\"width\":0.5},\"pattern\":{\"fillmode\":\"overlay\",\"size\":10,\"solidity\":0.2}},\"type\":\"bar\"}],\"carpet\":[{\"aaxis\":{\"endlinecolor\":\"#2a3f5f\",\"gridcolor\":\"#C8D4E3\",\"linecolor\":\"#C8D4E3\",\"minorgridcolor\":\"#C8D4E3\",\"startlinecolor\":\"#2a3f5f\"},\"baxis\":{\"endlinecolor\":\"#2a3f5f\",\"gridcolor\":\"#C8D4E3\",\"linecolor\":\"#C8D4E3\",\"minorgridcolor\":\"#C8D4E3\",\"startlinecolor\":\"#2a3f5f\"},\"type\":\"carpet\"}],\"choropleth\":[{\"colorbar\":{\"outlinewidth\":0,\"ticks\":\"\"},\"type\":\"choropleth\"}],\"contourcarpet\":[{\"colorbar\":{\"outlinewidth\":0,\"ticks\":\"\"},\"type\":\"contourcarpet\"}],\"contour\":[{\"colorbar\":{\"outlinewidth\":0,\"ticks\":\"\"},\"colorscale\":[[0.0,\"#0d0887\"],[0.1111111111111111,\"#46039f\"],[0.2222222222222222,\"#7201a8\"],[0.3333333333333333,\"#9c179e\"],[0.4444444444444444,\"#bd3786\"],[0.5555555555555556,\"#d8576b\"],[0.6666666666666666,\"#ed7953\"],[0.7777777777777778,\"#fb9f3a\"],[0.8888888888888888,\"#fdca26\"],[1.0,\"#f0f921\"]],\"type\":\"contour\"}],\"heatmapgl\":[{\"colorbar\":{\"outlinewidth\":0,\"ticks\":\"\"},\"colorscale\":[[0.0,\"#0d0887\"],[0.1111111111111111,\"#46039f\"],[0.2222222222222222,\"#7201a8\"],[0.3333333333333333,\"#9c179e\"],[0.4444444444444444,\"#bd3786\"],[0.5555555555555556,\"#d8576b\"],[0.6666666666666666,\"#ed7953\"],[0.7777777777777778,\"#fb9f3a\"],[0.8888888888888888,\"#fdca26\"],[1.0,\"#f0f921\"]],\"type\":\"heatmapgl\"}],\"heatmap\":[{\"colorbar\":{\"outlinewidth\":0,\"ticks\":\"\"},\"colorscale\":[[0.0,\"#0d0887\"],[0.1111111111111111,\"#46039f\"],[0.2222222222222222,\"#7201a8\"],[0.3333333333333333,\"#9c179e\"],[0.4444444444444444,\"#bd3786\"],[0.5555555555555556,\"#d8576b\"],[0.6666666666666666,\"#ed7953\"],[0.7777777777777778,\"#fb9f3a\"],[0.8888888888888888,\"#fdca26\"],[1.0,\"#f0f921\"]],\"type\":\"heatmap\"}],\"histogram2dcontour\":[{\"colorbar\":{\"outlinewidth\":0,\"ticks\":\"\"},\"colorscale\":[[0.0,\"#0d0887\"],[0.1111111111111111,\"#46039f\"],[0.2222222222222222,\"#7201a8\"],[0.3333333333333333,\"#9c179e\"],[0.4444444444444444,\"#bd3786\"],[0.5555555555555556,\"#d8576b\"],[0.6666666666666666,\"#ed7953\"],[0.7777777777777778,\"#fb9f3a\"],[0.8888888888888888,\"#fdca26\"],[1.0,\"#f0f921\"]],\"type\":\"histogram2dcontour\"}],\"histogram2d\":[{\"colorbar\":{\"outlinewidth\":0,\"ticks\":\"\"},\"colorscale\":[[0.0,\"#0d0887\"],[0.1111111111111111,\"#46039f\"],[0.2222222222222222,\"#7201a8\"],[0.3333333333333333,\"#9c179e\"],[0.4444444444444444,\"#bd3786\"],[0.5555555555555556,\"#d8576b\"],[0.6666666666666666,\"#ed7953\"],[0.7777777777777778,\"#fb9f3a\"],[0.8888888888888888,\"#fdca26\"],[1.0,\"#f0f921\"]],\"type\":\"histogram2d\"}],\"histogram\":[{\"marker\":{\"pattern\":{\"fillmode\":\"overlay\",\"size\":10,\"solidity\":0.2}},\"type\":\"histogram\"}],\"mesh3d\":[{\"colorbar\":{\"outlinewidth\":0,\"ticks\":\"\"},\"type\":\"mesh3d\"}],\"parcoords\":[{\"line\":{\"colorbar\":{\"outlinewidth\":0,\"ticks\":\"\"}},\"type\":\"parcoords\"}],\"pie\":[{\"automargin\":true,\"type\":\"pie\"}],\"scatter3d\":[{\"line\":{\"colorbar\":{\"outlinewidth\":0,\"ticks\":\"\"}},\"marker\":{\"colorbar\":{\"outlinewidth\":0,\"ticks\":\"\"}},\"type\":\"scatter3d\"}],\"scattercarpet\":[{\"marker\":{\"colorbar\":{\"outlinewidth\":0,\"ticks\":\"\"}},\"type\":\"scattercarpet\"}],\"scattergeo\":[{\"marker\":{\"colorbar\":{\"outlinewidth\":0,\"ticks\":\"\"}},\"type\":\"scattergeo\"}],\"scattergl\":[{\"marker\":{\"colorbar\":{\"outlinewidth\":0,\"ticks\":\"\"}},\"type\":\"scattergl\"}],\"scattermapbox\":[{\"marker\":{\"colorbar\":{\"outlinewidth\":0,\"ticks\":\"\"}},\"type\":\"scattermapbox\"}],\"scatterpolargl\":[{\"marker\":{\"colorbar\":{\"outlinewidth\":0,\"ticks\":\"\"}},\"type\":\"scatterpolargl\"}],\"scatterpolar\":[{\"marker\":{\"colorbar\":{\"outlinewidth\":0,\"ticks\":\"\"}},\"type\":\"scatterpolar\"}],\"scatter\":[{\"fillpattern\":{\"fillmode\":\"overlay\",\"size\":10,\"solidity\":0.2},\"type\":\"scatter\"}],\"scatterternary\":[{\"marker\":{\"colorbar\":{\"outlinewidth\":0,\"ticks\":\"\"}},\"type\":\"scatterternary\"}],\"surface\":[{\"colorbar\":{\"outlinewidth\":0,\"ticks\":\"\"},\"colorscale\":[[0.0,\"#0d0887\"],[0.1111111111111111,\"#46039f\"],[0.2222222222222222,\"#7201a8\"],[0.3333333333333333,\"#9c179e\"],[0.4444444444444444,\"#bd3786\"],[0.5555555555555556,\"#d8576b\"],[0.6666666666666666,\"#ed7953\"],[0.7777777777777778,\"#fb9f3a\"],[0.8888888888888888,\"#fdca26\"],[1.0,\"#f0f921\"]],\"type\":\"surface\"}],\"table\":[{\"cells\":{\"fill\":{\"color\":\"#EBF0F8\"},\"line\":{\"color\":\"white\"}},\"header\":{\"fill\":{\"color\":\"#C8D4E3\"},\"line\":{\"color\":\"white\"}},\"type\":\"table\"}]},\"layout\":{\"annotationdefaults\":{\"arrowcolor\":\"#2a3f5f\",\"arrowhead\":0,\"arrowwidth\":1},\"autotypenumbers\":\"strict\",\"coloraxis\":{\"colorbar\":{\"outlinewidth\":0,\"ticks\":\"\"}},\"colorscale\":{\"diverging\":[[0,\"#8e0152\"],[0.1,\"#c51b7d\"],[0.2,\"#de77ae\"],[0.3,\"#f1b6da\"],[0.4,\"#fde0ef\"],[0.5,\"#f7f7f7\"],[0.6,\"#e6f5d0\"],[0.7,\"#b8e186\"],[0.8,\"#7fbc41\"],[0.9,\"#4d9221\"],[1,\"#276419\"]],\"sequential\":[[0.0,\"#0d0887\"],[0.1111111111111111,\"#46039f\"],[0.2222222222222222,\"#7201a8\"],[0.3333333333333333,\"#9c179e\"],[0.4444444444444444,\"#bd3786\"],[0.5555555555555556,\"#d8576b\"],[0.6666666666666666,\"#ed7953\"],[0.7777777777777778,\"#fb9f3a\"],[0.8888888888888888,\"#fdca26\"],[1.0,\"#f0f921\"]],\"sequentialminus\":[[0.0,\"#0d0887\"],[0.1111111111111111,\"#46039f\"],[0.2222222222222222,\"#7201a8\"],[0.3333333333333333,\"#9c179e\"],[0.4444444444444444,\"#bd3786\"],[0.5555555555555556,\"#d8576b\"],[0.6666666666666666,\"#ed7953\"],[0.7777777777777778,\"#fb9f3a\"],[0.8888888888888888,\"#fdca26\"],[1.0,\"#f0f921\"]]},\"colorway\":[\"#636efa\",\"#EF553B\",\"#00cc96\",\"#ab63fa\",\"#FFA15A\",\"#19d3f3\",\"#FF6692\",\"#B6E880\",\"#FF97FF\",\"#FECB52\"],\"font\":{\"color\":\"#2a3f5f\"},\"geo\":{\"bgcolor\":\"white\",\"lakecolor\":\"white\",\"landcolor\":\"white\",\"showlakes\":true,\"showland\":true,\"subunitcolor\":\"#C8D4E3\"},\"hoverlabel\":{\"align\":\"left\"},\"hovermode\":\"closest\",\"mapbox\":{\"style\":\"light\"},\"paper_bgcolor\":\"white\",\"plot_bgcolor\":\"white\",\"polar\":{\"angularaxis\":{\"gridcolor\":\"#EBF0F8\",\"linecolor\":\"#EBF0F8\",\"ticks\":\"\"},\"bgcolor\":\"white\",\"radialaxis\":{\"gridcolor\":\"#EBF0F8\",\"linecolor\":\"#EBF0F8\",\"ticks\":\"\"}},\"scene\":{\"xaxis\":{\"backgroundcolor\":\"white\",\"gridcolor\":\"#DFE8F3\",\"gridwidth\":2,\"linecolor\":\"#EBF0F8\",\"showbackground\":true,\"ticks\":\"\",\"zerolinecolor\":\"#EBF0F8\"},\"yaxis\":{\"backgroundcolor\":\"white\",\"gridcolor\":\"#DFE8F3\",\"gridwidth\":2,\"linecolor\":\"#EBF0F8\",\"showbackground\":true,\"ticks\":\"\",\"zerolinecolor\":\"#EBF0F8\"},\"zaxis\":{\"backgroundcolor\":\"white\",\"gridcolor\":\"#DFE8F3\",\"gridwidth\":2,\"linecolor\":\"#EBF0F8\",\"showbackground\":true,\"ticks\":\"\",\"zerolinecolor\":\"#EBF0F8\"}},\"shapedefaults\":{\"line\":{\"color\":\"#2a3f5f\"}},\"ternary\":{\"aaxis\":{\"gridcolor\":\"#DFE8F3\",\"linecolor\":\"#A2B1C6\",\"ticks\":\"\"},\"baxis\":{\"gridcolor\":\"#DFE8F3\",\"linecolor\":\"#A2B1C6\",\"ticks\":\"\"},\"bgcolor\":\"white\",\"caxis\":{\"gridcolor\":\"#DFE8F3\",\"linecolor\":\"#A2B1C6\",\"ticks\":\"\"}},\"title\":{\"x\":0.05},\"xaxis\":{\"automargin\":true,\"gridcolor\":\"#EBF0F8\",\"linecolor\":\"#EBF0F8\",\"ticks\":\"\",\"title\":{\"standoff\":15},\"zerolinecolor\":\"#EBF0F8\",\"zerolinewidth\":2},\"yaxis\":{\"automargin\":true,\"gridcolor\":\"#EBF0F8\",\"linecolor\":\"#EBF0F8\",\"ticks\":\"\",\"title\":{\"standoff\":15},\"zerolinecolor\":\"#EBF0F8\",\"zerolinewidth\":2}}},\"title\":{\"text\":\"Model Comparison: Original Data of Dataset_1 vs Predictions\",\"font\":{\"size\":12,\"color\":\"black\",\"family\":\"Arial\"}},\"xaxis\":{\"title\":{\"text\":\"Date\"},\"showgrid\":false,\"gridcolor\":\"lightgray\",\"zeroline\":true,\"zerolinewidth\":1,\"showline\":false,\"linewidth\":1,\"linecolor\":\"black\"},\"yaxis\":{\"title\":{\"text\":\"Values\"},\"showgrid\":false,\"gridcolor\":\"lightgray\",\"zeroline\":true,\"zerolinewidth\":1,\"showline\":false,\"linewidth\":1,\"linecolor\":\"black\"},\"legend\":{\"font\":{\"size\":14,\"color\":\"black\"},\"orientation\":\"h\",\"x\":0.5,\"xanchor\":\"center\",\"y\":1.05},\"width\":1100,\"height\":500,\"plot_bgcolor\":\"rgba(255, 255, 255, 1)\",\"hovermode\":\"closest\"},                        {\"responsive\": true}                    ).then(function(){\n",
       "                            \n",
       "var gd = document.getElementById('f74c2eac-9095-4413-a3cd-1d836b8c0ddc');\n",
       "var x = new MutationObserver(function (mutations, observer) {{\n",
       "        var display = window.getComputedStyle(gd).display;\n",
       "        if (!display || display === 'none') {{\n",
       "            console.log([gd, 'removed!']);\n",
       "            Plotly.purge(gd);\n",
       "            observer.disconnect();\n",
       "        }}\n",
       "}});\n",
       "\n",
       "// Listen for the removal of the full notebook cells\n",
       "var notebookContainer = gd.closest('#notebook-container');\n",
       "if (notebookContainer) {{\n",
       "    x.observe(notebookContainer, {childList: true});\n",
       "}}\n",
       "\n",
       "// Listen for the clearing of the current output cell\n",
       "var outputEl = gd.closest('.output');\n",
       "if (outputEl) {{\n",
       "    x.observe(outputEl, {childList: true});\n",
       "}}\n",
       "\n",
       "                        })                };                });            </script>        </div>"
      ]
     },
     "metadata": {},
     "output_type": "display_data"
    },
    {
     "name": "stdout",
     "output_type": "stream",
     "text": [
      "Model Evaluation Results:\n",
      "     Dataset          Model       MAPE          MSE       RMSE\n",
      "0  Dataset_1        Prophet  24.955980  1461.806552  38.233579\n",
      "1  Dataset_1        XGBoost  43.666990  1171.338284  34.224820\n",
      "2  Dataset_1  Random Forest  40.657381  1117.024493  33.421916\n",
      "3  Dataset_1       Stacking  36.763338  1031.929118  32.123654\n",
      "\n",
      " Months Forecasted Results:\n",
      "              OIN       MONTH  Value               Flag    Model  Accuracy  ReportDate\n",
      "0   ATT.100083026  2024-02-29     29  Historical_Values  Prophet  24.95598  2025-02-13\n",
      "1   ATT.100083026  2024-03-31     91  Historical_Values  Prophet  24.95598  2025-02-13\n",
      "2   ATT.100083026  2024-04-30    119  Historical_Values  Prophet  24.95598  2025-02-13\n",
      "3   ATT.100083026  2024-05-31    120  Historical_Values  Prophet  24.95598  2025-02-13\n",
      "4   ATT.100083026  2024-06-30     95  Historical_Values  Prophet  24.95598  2025-02-13\n",
      "5   ATT.100083026  2024-07-31     63  Historical_Values  Prophet  24.95598  2025-02-13\n",
      "6   ATT.100083026  2024-08-31    188  Historical_Values  Prophet  24.95598  2025-02-13\n",
      "7   ATT.100083026  2024-09-30     72  Historical_Values  Prophet  24.95598  2025-02-13\n",
      "8   ATT.100083026  2024-10-31    109  Historical_Values  Prophet  24.95598  2025-02-13\n",
      "9   ATT.100083026  2024-11-30     53  Historical_Values  Prophet  24.95598  2025-02-13\n",
      "10  ATT.100083026  2024-12-31     95  Historical_Values  Prophet  24.95598  2025-02-13\n",
      "11  ATT.100083026  2025-01-31     84  Historical_Values  Prophet  24.95598  2025-02-13\n",
      "12  ATT.100083026  2025-02-28     68  Forecasted_Values  Prophet  24.95598  2025-02-13\n",
      "13  ATT.100083026  2025-03-31     77  Forecasted_Values  Prophet  24.95598  2025-02-13\n",
      "14  ATT.100083026  2025-04-30     87  Forecasted_Values  Prophet  24.95598  2025-02-13\n",
      "15  ATT.100083026  2025-05-31     81  Forecasted_Values  Prophet  24.95598  2025-02-13\n",
      "16  ATT.100083026  2025-06-30     70  Forecasted_Values  Prophet  24.95598  2025-02-13\n",
      "17  ATT.100083026  2025-07-31     65  Forecasted_Values  Prophet  24.95598  2025-02-13\n",
      "18  ATT.100083026  2025-08-31     94  Forecasted_Values  Prophet  24.95598  2025-02-13\n",
      "19  ATT.100083026  2025-09-30     65  Forecasted_Values  Prophet  24.95598  2025-02-13\n",
      "20  ATT.100083026  2025-10-31     92  Forecasted_Values  Prophet  24.95598  2025-02-13\n",
      "21  ATT.100083026  2025-11-30     54  Forecasted_Values  Prophet  24.95598  2025-02-13\n",
      "22  ATT.100083026  2025-12-31     63  Forecasted_Values  Prophet  24.95598  2025-02-13\n",
      "23  ATT.100083026  2026-01-31     77  Forecasted_Values  Prophet  24.95598  2025-02-13\n"
     ]
    }
   ],
   "source": [
    "Time_Series_Automation()"
   ]
  },
  {
   "cell_type": "code",
   "execution_count": null,
   "id": "e06914b4-a65f-490a-b1bd-ea0110101e91",
   "metadata": {},
   "outputs": [],
   "source": []
  }
 ],
 "metadata": {
  "kernelspec": {
   "display_name": "Python 3 (ipykernel)",
   "language": "python",
   "name": "python3"
  },
  "language_info": {
   "codemirror_mode": {
    "name": "ipython",
    "version": 3
   },
   "file_extension": ".py",
   "mimetype": "text/x-python",
   "name": "python",
   "nbconvert_exporter": "python",
   "pygments_lexer": "ipython3",
   "version": "3.12.7"
  }
 },
 "nbformat": 4,
 "nbformat_minor": 5
}
